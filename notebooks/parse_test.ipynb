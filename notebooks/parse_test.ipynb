{
 "cells": [
  {
   "cell_type": "code",
   "execution_count": 1,
   "metadata": {},
   "outputs": [],
   "source": [
    "import yaml"
   ]
  },
  {
   "cell_type": "code",
   "execution_count": 2,
   "metadata": {},
   "outputs": [],
   "source": [
    "import importlib"
   ]
  },
  {
   "cell_type": "code",
   "execution_count": 3,
   "metadata": {},
   "outputs": [],
   "source": [
    "from skylens.parse_input import *\n",
    "from skylens import *"
   ]
  },
  {
   "cell_type": "code",
   "execution_count": 4,
   "metadata": {},
   "outputs": [],
   "source": [
    "from importlib import import_module"
   ]
  },
  {
   "cell_type": "code",
   "execution_count": 5,
   "metadata": {},
   "outputs": [],
   "source": [
    "file_name='../yaml_explanatory.yml'\n",
    "with open(file_name) as file:\n",
    "        skylens_kwargs=yaml.load(file, Loader=yaml.FullLoader)"
   ]
  },
  {
   "cell_type": "raw",
   "metadata": {},
   "source": [
    "skylens_kwargs"
   ]
  },
  {
   "cell_type": "code",
   "execution_count": 6,
   "metadata": {
    "scrolled": false
   },
   "outputs": [
    {
     "name": "stdout",
     "output_type": "stream",
     "text": [
      "eval str ['eval', 'lsst_source_tomo_bins(nbins=2,use_window=True,nside=32)']\n",
      "ns0:  27.0\n",
      "Tracer utils has no tracers\n",
      "pk_params dict was none, intialized with default\n",
      "cosmo_params dict was none, intialized with default\n",
      "power spectra camb_pk_too_many_z\n",
      "Win gen: step size 96 True False 95 31.0\n",
      "Window done. Size: 0.0\n"
     ]
    },
    {
     "name": "stderr",
     "output_type": "stream",
     "text": [
      "/verafs/scratch/phy200040p/sukhdeep/miniconda3/lib/python3.8/site-packages/skylens-0.1-py3.8.egg/skylens/cov_utils.py:88: RuntimeWarning: invalid value encountered in true_divide\n",
      "/verafs/scratch/phy200040p/sukhdeep/miniconda3/lib/python3.8/site-packages/skylens-0.1-py3.8.egg/skylens/angular_power_spectra.py:24: RuntimeWarning: divide by zero encountered in true_divide\n",
      "/verafs/scratch/phy200040p/sukhdeep/miniconda3/lib/python3.8/site-packages/skylens-0.1-py3.8.egg/skylens/angular_power_spectra.py:114: RuntimeWarning: divide by zero encountered in true_divide\n"
     ]
    },
    {
     "name": "stdout",
     "output_type": "stream",
     "text": [
      "cl graph done\n"
     ]
    },
    {
     "name": "stderr",
     "output_type": "stream",
     "text": [
      "/verafs/home/sukhdeep/.local/lib/python3.8/site-packages/healpy-1.14.0-py3.8-linux-x86_64.egg/healpy/sphtfunc.py:433: FutureChangeWarning: The order of the input cl's will change in a future release.\n",
      "Use new=True keyword to start using the new order.\n",
      "See documentation of healpy.synalm.\n",
      "  warnings.warn(\n",
      "/verafs/home/sukhdeep/.local/lib/python3.8/site-packages/healpy-1.14.0-py3.8-linux-x86_64.egg/healpy/sphtfunc.py:822: UserWarning: Sigma is 0.000000 arcmin (0.000000 rad) \n",
      "  warnings.warn(\n",
      "/verafs/home/sukhdeep/.local/lib/python3.8/site-packages/healpy-1.14.0-py3.8-linux-x86_64.egg/healpy/sphtfunc.py:827: UserWarning: -> fwhm is 0.000000 arcmin\n",
      "  warnings.warn(\n",
      "/verafs/scratch/phy200040p/sukhdeep/miniconda3/lib/python3.8/site-packages/skylens-0.1-py3.8.egg/skylens/survey_utils.py:129: RuntimeWarning: invalid value encountered in sqrt\n"
     ]
    },
    {
     "name": "stdout",
     "output_type": "stream",
     "text": [
      "eval str ['eval', 'lsst_source_tomo_bins(nbins=2,use_window=True,nside=32)']\n",
      "ns0:  27.0\n",
      "Tracer utils has no tracers\n",
      "pk_params dict was none, intialized with default\n",
      "cosmo_params dict was none, intialized with default\n",
      "power spectra camb_pk_too_many_z\n",
      "Win gen: step size 96 True False 95 31.0\n",
      "Window done. Size: 0.0\n",
      "cl graph done\n",
      "eval str ['eval', 'np.arange(2,201)']\n",
      "eval str ['eval', 'np.int64(np.logspace(np.log10(20),np.log10(200),26))']\n",
      "eval str ['eval', 'np.logspace(np.log10(25/60),np.log10(250/60),20+1)']\n",
      "eval str ['eval', 'np.logspace(np.log10(25/60),np.log10(250/60),20*40)']\n",
      "eval str ['eval', 'np.arange(2,201)']\n",
      "eval str ['eval', 'test_func(skylens_kwargs)']\n",
      "skylens init, yaml args dict_keys(['yaml_inp_file', 'l', 'Ang_PS', 'cov_utils', 'logger', 'tracer_utils', 'shear_zbins', 'kappa_zbins', 'galaxy_zbins', 'galaxy_bias_func', 'pk_params', 'cosmo_params', 'WT_kwargs', 'WT', 'z_PS', 'nz_PS', 'log_z_PS', 'do_cov', 'SSV_cov', 'tidal_SSV_cov', 'do_sample_variance', 'Tri_cov', 'sparse_cov', 'use_window', 'window_lmax', 'window_l', 'store_win', 'Win', 'f_sky', 'wigner_step', 'cl_func_names', 'l_bins', 'bin_cl', 'use_binned_l', 'do_pseudo_cl', 'stack_data', 'bin_xi', 'do_xi', 'theta_bins', 'use_binned_theta', 'xi_win_approx', 'xi_SN_analytical', 'corrs', 'corr_indxs', 'stack_indxs', 'wigner_files', 'name', 'clean_tracer_window', 'scheduler_info'])\n",
      "Wigner ell max of  200  too low for theta_min. Recommendation based on first few zeros of bessel  (2, 2)  : [ 330.68725181  759.06522792 1189.97300751 1621.45237761 2053.14856549]\n"
     ]
    },
    {
     "name": "stderr",
     "output_type": "stream",
     "text": [
      "/verafs/scratch/phy200040p/sukhdeep/miniconda3/lib/python3.8/site-packages/skylens-0.1-py3.8.egg/skylens/wigner_transform.py:111: RuntimeWarning: divide by zero encountered in true_divide\n",
      "/verafs/scratch/phy200040p/sukhdeep/miniconda3/lib/python3.8/site-packages/skylens-0.1-py3.8.egg/skylens/wigner_transform.py:111: RuntimeWarning: invalid value encountered in true_divide\n",
      "/verafs/scratch/phy200040p/sukhdeep/miniconda3/lib/python3.8/site-packages/skylens-0.1-py3.8.egg/skylens/wigner_transform.py:111: RuntimeWarning: invalid value encountered in cos\n"
     ]
    },
    {
     "name": "stdout",
     "output_type": "stream",
     "text": [
      "Wigner ell max of  200  too low for theta_min. Recommendation based on first few zeros of bessel  (2, -2)  : [1043.47198799 1521.50677255 1976.36566123 2422.36921608 2863.90886073]\n",
      "Wigner ell max of  200  too low for theta_min. Recommendation based on first few zeros of bessel  (0, 0)  : [ 330.68725181  759.06522792 1189.97300751 1621.45237761 2053.14856549]\n",
      "Wigner ell max of  200  too low for theta_min. Recommendation based on first few zeros of bessel  (0, 2)  : [ 706.19875936 1157.4541545  1597.84285866 2034.58941842 2469.65245891]\n",
      "Scattering WT data 1\n",
      "binned_meansure dict_keys(['l', 'Ang_PS', 'cov_utils', 'logger', 'tracer_utils', 'shear_zbins', 'kappa_zbins', 'galaxy_zbins', 'pk_params', 'cosmo_params', 'WT_kwargs', 'WT', 'z_PS', 'nz_PS', 'log_z_PS', 'do_cov', 'SSV_cov', 'tidal_SSV_cov', 'do_sample_variance', 'Tri_cov', 'sparse_cov', 'use_window', 'window_lmax', 'window_l', 'store_win', 'Win', 'f_sky', 'wigner_step', 'cl_func_names', 'zkernel_func_names', 'l_bins', 'bin_cl', 'use_binned_l', 'do_pseudo_cl', 'stack_data', 'bin_xi', 'do_xi', 'theta_bins', 'use_binned_theta', 'xi_win_approx', 'xi_SN_analytical', 'corrs', 'corr_indxs', 'stack_indxs', 'wigner_files', 'name', 'clean_tracer_window', 'scheduler_info'])\n",
      "power spectra camb_pk\n",
      "Win gen: step size 200 True True 199 33.0\n",
      "Window done. Size: 0.0\n",
      "power spectra camb_pk\n",
      "Win gen: step size 26 True True 25 33.0\n",
      "Window done. Size: 0.0\n",
      "Scattering WT data 1\n",
      "power spectra camb_pk\n",
      "Win gen: step size 200 True True 199 33.0\n",
      "Window done. Size: 0.0\n",
      "cl graph done\n",
      "Done xi graph 0.004549 0.009\n",
      "cl graph done\n",
      "Done xi graph 0.004549 0.009\n",
      "cl graph done\n",
      "cl graph done\n",
      "set binned measure done\n",
      "power spectra camb_pk\n",
      "Win gen: step size 200 True True 199 31.0\n",
      "cl graph done\n",
      "cl graph done\n",
      "cl graph done\n",
      "Done xi graph 0.004549 0.009\n",
      "cl graph done\n",
      "Done xi graph 0.004549 0.009\n",
      "cl bags done 29.35453200340271 0.787 0.0 0.001\n",
      "cl+cov bags done 10 55 29.897765398025513\n",
      "Warning: window for xi is different from cl.\n",
      "wigner_files: {0: '/verafs/scratch/phy200040p/sukhdeep/physics2/skylens/temp/dask_wig3j_l3500_w2100_0_reorder.zarr', 2: '/verafs/scratch/phy200040p/sukhdeep/physics2/skylens/temp/dask_wig3j_l3500_w2100_2_reorder.zarr'}\n",
      "wigner done dict_keys([])\n",
      "setting windows, coupling matrices  <Client: 'tcp://127.0.0.1:34363' processes=25 threads=25, memory=2.50 TB>\n",
      "doing lm 0\n",
      "done lm cl+cov graph 0 0.003214120864868164 0.794 tcp://127.0.0.1:33771\n",
      "done lm 0 3.5652577877044678\n",
      "Done all lm\n",
      "done combine lm graph 3.6406331062316895\n",
      "Window done. Size: 0.008\n"
     ]
    }
   ],
   "source": [
    "kappa0=Skylens(yaml_inp_file=file_name)"
   ]
  },
  {
   "cell_type": "code",
   "execution_count": 8,
   "metadata": {},
   "outputs": [
    {
     "name": "stderr",
     "output_type": "stream",
     "text": [
      "05:18:31 DEBUG:Using selector: EpollSelector\n",
      "05:18:31 DEBUG:Using selector: EpollSelector\n"
     ]
    },
    {
     "name": "stdout",
     "output_type": "stream",
     "text": [
      "error in creating local directory:  ../temp/ [Errno 17] File exists: '../temp/'\n"
     ]
    },
    {
     "name": "stderr",
     "output_type": "stream",
     "text": [
      "/verafs/home/sukhdeep/.local/lib/python3.8/site-packages/distributed-2.30.1-py3.8.egg/distributed/node.py:151: UserWarning: Port 8801 is already in use.\n",
      "Perhaps you already have a cluster running?\n",
      "Hosting the HTTP server on port 37429 instead\n",
      "  warnings.warn(\n"
     ]
    },
    {
     "name": "stdout",
     "output_type": "stream",
     "text": [
      "Wigner ell max of  99  too low for theta_min. Recommendation based on first few zeros of bessel  (2, 2)  : [ 57.71581338 132.48187465 207.68946991 282.99682654 358.342025  ]\n",
      "Wigner ell max of  99  too low for theta_min. Recommendation based on first few zeros of bessel  (2, -2)  : [182.12021843 265.55302772 344.94088012 422.7831852  499.84639097]\n",
      "Wigner ell max of  99  too low for theta_min. Recommendation based on first few zeros of bessel  (0, 0)  : [ 57.71581338 132.48187465 207.68946991 282.99682654 358.342025  ]\n",
      "Wigner ell max of  99  too low for theta_min. Recommendation based on first few zeros of bessel  (0, 2)  : [123.25493524 202.01385937 278.87618813 355.10284278 431.03566788]\n",
      "Scattering WT data 1\n",
      "ns0:  27.0\n",
      "Tracer utils has no tracers\n",
      "pk_params dict was none, intialized with default\n",
      "cosmo_params dict was none, intialized with default\n",
      "power spectra camb_pk_too_many_z\n",
      "Win gen: step size 48 True False 47 31.0\n",
      "Window done. Size: 0.0\n",
      "cl graph done\n",
      "binned_meansure dict_keys(['l', 'Ang_PS', 'cov_utils', 'logger', 'tracer_utils', 'shear_zbins', 'kappa_zbins', 'galaxy_zbins', 'pk_params', 'cosmo_params', 'WT_kwargs', 'WT', 'z_PS', 'nz_PS', 'log_z_PS', 'do_cov', 'SSV_cov', 'tidal_SSV_cov', 'do_sample_variance', 'Tri_cov', 'sparse_cov', 'use_window', 'window_lmax', 'window_l', 'store_win', 'Win', 'f_sky', 'wigner_step', 'cl_func_names', 'zkernel_func_names', 'l_bins', 'bin_cl', 'use_binned_l', 'do_pseudo_cl', 'stack_data', 'bin_xi', 'do_xi', 'theta_bins', 'use_binned_theta', 'xi_win_approx', 'xi_SN_analytical', 'corrs', 'corr_indxs', 'stack_indxs', 'wigner_files', 'name', 'clean_tracer_window', 'scheduler_info'])\n",
      "power spectra camb_pk_too_many_z\n",
      "Win gen: step size 99 True None 98 17.0\n",
      "Window done. Size: 0.0\n",
      "power spectra camb_pk_too_many_z\n",
      "Win gen: step size 20 True None 19 17.0\n",
      "Window done. Size: 0.0\n"
     ]
    },
    {
     "name": "stderr",
     "output_type": "stream",
     "text": [
      "/verafs/scratch/phy200040p/sukhdeep/miniconda3/lib/python3.8/site-packages/skylens-0.1-py3.8.egg/skylens/angular_power_spectra.py:118: RuntimeWarning: divide by zero encountered in true_divide\n"
     ]
    },
    {
     "name": "stdout",
     "output_type": "stream",
     "text": [
      "cl graph done\n",
      "cl graph done\n",
      "set binned measure done\n",
      "power spectra camb_pk_too_many_z\n",
      "Win gen: step size 99 True None 98 31.0\n",
      "cl graph done\n",
      "cl graph done\n",
      "cl bags done 0.20136809349060059 0.025 0.0 0.0\n",
      "cl+cov bags done 10 55 0.4296138286590576\n"
     ]
    },
    {
     "name": "stderr",
     "output_type": "stream",
     "text": [
      "/verafs/scratch/phy200040p/sukhdeep/miniconda3/lib/python3.8/site-packages/skylens-0.1-py3.8.egg/skylens/window_utils.py:284: RuntimeWarning: invalid value encountered in sqrt\n",
      "  map1=np.sqrt(z_bin1['window'])\n"
     ]
    },
    {
     "name": "stdout",
     "output_type": "stream",
     "text": [
      "wigner_files: {0: '../tests/dask_wig3j_l100_w100_0_reorder.zarr', 2: '../tests//dask_wig3j_l100_w100_2_reorder.zarr'}\n",
      "wigner done dict_keys([])\n",
      "setting windows, coupling matrices  <Client: 'inproc://10.4.120.8/26141/9' processes=1 threads=27, memory=120.00 GB>\n",
      "doing lm 0\n",
      "done lm cl+cov graph 0 0.0032520294189453125 0.032 inproc://10.4.120.8/26141/11\n",
      "got wig3j 0 7.146 (858, 98) 4\n"
     ]
    },
    {
     "name": "stderr",
     "output_type": "stream",
     "text": [
      "/verafs/scratch/phy200040p/sukhdeep/miniconda3/lib/python3.8/site-packages/skylens-0.1-py3.8.egg/skylens/binning.py:87: RuntimeWarning: invalid value encountered in true_divide\n"
     ]
    },
    {
     "name": "stdout",
     "output_type": "stream",
     "text": [
      "done lm 0 2.0177180767059326\n",
      "Done all lm\n",
      "done combine lm graph 2.5124006271362305\n",
      "Window done. Size: 0.008\n"
     ]
    }
   ],
   "source": [
    "kappa0=Skylens(python_inp_file='../tests/skylens_args.py')"
   ]
  },
  {
   "cell_type": "raw",
   "metadata": {},
   "source": [
    "s_args=parse_yaml(file_name='../yaml_explanatory.yml')\n",
    "# s_args=cleanup(s_args)"
   ]
  },
  {
   "cell_type": "code",
   "execution_count": null,
   "metadata": {},
   "outputs": [],
   "source": []
  }
 ],
 "metadata": {
  "kernelspec": {
   "display_name": "conda",
   "language": "python",
   "name": "conda"
  },
  "language_info": {
   "codemirror_mode": {
    "name": "ipython",
    "version": 3
   },
   "file_extension": ".py",
   "mimetype": "text/x-python",
   "name": "python",
   "nbconvert_exporter": "python",
   "pygments_lexer": "ipython3",
   "version": "3.8.2"
  }
 },
 "nbformat": 4,
 "nbformat_minor": 4
}
