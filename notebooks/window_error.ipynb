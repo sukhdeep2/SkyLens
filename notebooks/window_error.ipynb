{
 "cells": [
  {
   "cell_type": "code",
   "execution_count": 1,
   "metadata": {},
   "outputs": [],
   "source": [
    "import sys\n",
    "# import pyccl as ccl\n",
    "import pickle\n",
    "import camb\n",
    "sys.path.insert(0,'../skylens/')\n",
    "# from importlib import reload\n",
    "from skylens import *\n",
    "from survey_utils import *"
   ]
  },
  {
   "cell_type": "code",
   "execution_count": 2,
   "metadata": {},
   "outputs": [
    {
     "name": "stdout",
     "output_type": "stream",
     "text": [
      "Start_client: No scheduler file, will start local cluster at  ./temp_skylens/pid5362/\n"
     ]
    }
   ],
   "source": [
    "ncpu=2\n",
    "LC,scheduler_info=start_client(Scheduler_file=None,local_directory=None,n_workers=ncpu,threads_per_worker=1,\n",
    "                                  memory_limit='100gb',dashboard_address=8801,processes=True)\n",
    "client=client_get(scheduler_info=scheduler_info)"
   ]
  },
  {
   "cell_type": "code",
   "execution_count": 3,
   "metadata": {},
   "outputs": [],
   "source": [
    "fig_home='./figures/'"
   ]
  },
  {
   "cell_type": "code",
   "execution_count": 4,
   "metadata": {},
   "outputs": [],
   "source": [
    "s1_s2s={}\n",
    "s1_s2s[corr_gg]=(0,0)\n",
    "s1_s2s[corr_ll]=[(2,2),(2,-2)]\n",
    "s1_s2s[corr_ggl]=(0,2)"
   ]
  },
  {
   "cell_type": "code",
   "execution_count": 5,
   "metadata": {},
   "outputs": [],
   "source": [
    "wigner_files={}\n",
    "# wigner_files[0]= '/Users/Deep/dask_temp/dask_wig3j_l3500_w2100_0_reorder.zarr'\n",
    "# wigner_files[2]= '/Users/Deep/dask_temp/dask_wig3j_l3500_w2100_2_reorder.zarr'\n",
    "wig_home='/verafs/scratch/phy200040p/sukhdeep/physics2/skylens/temp/'\n",
    "wigner_files[0]= wig_home+'dask_wig3j_l2200_w4400_0_reorder.zarr'\n",
    "wigner_files[2]= wig_home+'/dask_wig3j_l2200_w4400_2_reorder.zarr'\n"
   ]
  },
  {
   "cell_type": "code",
   "execution_count": 6,
   "metadata": {},
   "outputs": [],
   "source": [
    "test=False"
   ]
  },
  {
   "cell_type": "code",
   "execution_count": 7,
   "metadata": {},
   "outputs": [],
   "source": [
    "do_pseudo_cl=True\n",
    "do_xi=False\n",
    "\n",
    "use_binned_l=False\n",
    "store_win=True\n",
    "\n",
    "do_cov=False\n",
    "SSV_cov=False\n",
    "Tri_cov=False\n",
    "sparse_cov=True\n",
    "\n",
    "f_sky=0.3\n",
    "nside=1024\n",
    "use_window=True\n",
    "\n",
    "bin_cl=True\n",
    "bin_xi=True\n",
    "\n",
    "nz_PS=100"
   ]
  },
  {
   "cell_type": "code",
   "execution_count": 8,
   "metadata": {},
   "outputs": [],
   "source": [
    "#setup parameters\n",
    "lmax_cl=nside*2\n",
    "lmax2=int(lmax_cl/2)#1000\n",
    "if test:\n",
    "    lmax_cl=200\n",
    "    nside=512\n",
    "lmin_cl=0\n",
    "l0=np.arange(lmin_cl,lmax_cl)\n",
    "\n",
    "lmin_cl_Bins=lmin_cl+10\n",
    "lmax_cl_Bins=lmax2 #1000 #lmax_cl-10\n",
    "Nl_bins=40\n",
    "l_bins=np.unique(np.int64(np.logspace(np.log10(lmin_cl_Bins),np.log10(lmax_cl_Bins),Nl_bins+1)))\n",
    "# l_bins=get_l_bins(l_min=lmin_cl_Bins,l_max=lmax_cl_Bins,N_bins=Nl_bins,binning_scheme='log',min_modes=500)\n",
    "lb=0.5*(l_bins[1:]+l_bins[:-1])\n",
    "Nl_bins=len(lb)\n",
    "# l=np.unique(np.int64(np.logspace(np.log10(lmin_cl+1),np.log10(lmax_cl),Nl_bins*20))) #if we want to use fewer ell\n",
    "l=l0\n",
    "window_lmax=lmax_cl_Bins*2\n",
    "\n",
    "if window_lmax>3*nside:\n",
    "    print('nside of window too small')"
   ]
  },
  {
   "cell_type": "code",
   "execution_count": 9,
   "metadata": {},
   "outputs": [
    {
     "data": {
      "text/plain": [
       "array([  10,   11,   12,   14,   15,   17,   20,   22,   25,   28,   31,\n",
       "         35,   40,   45,   50,   56,   63,   71,   80,   90,  101,  113,\n",
       "        127,  143,  160,  180,  202,  227,  255,  286,  321,  361,  405,\n",
       "        455,  511,  574,  644,  723,  812,  912, 1024])"
      ]
     },
     "execution_count": 9,
     "metadata": {},
     "output_type": "execute_result"
    }
   ],
   "source": [
    "l_bins"
   ]
  },
  {
   "cell_type": "markdown",
   "metadata": {},
   "source": [
    "##  Test with 1 redshift bin"
   ]
  },
  {
   "cell_type": "code",
   "execution_count": 10,
   "metadata": {
    "scrolled": true
   },
   "outputs": [
    {
     "name": "stdout",
     "output_type": "stream",
     "text": [
      "ns0:  27.0\n",
      "[0.10002    0.10082016 0.10162032 ... 2.99819964 2.9989998  2.99979996] 100 5\n",
      "source_tomo_bins, zmax 5.0 2.999799959991998 0.5999699939987997\n",
      "Tracer utils has no tracers\n",
      "Tracer utils has tracers:  ['galaxy']\n",
      "pk_params dict was none, intialized with default\n",
      "cosmo_params dict was none, intialized with default\n",
      "cosmology interpolation range 0.0 5.015\n",
      "power spectra camb_pk_too_many_z\n",
      "Win gen: step size 273 3072 31.0 10\n",
      "Window done. Size: 0.0\n"
     ]
    },
    {
     "name": "stderr",
     "output_type": "stream",
     "text": [
      "/verafs/scratch/phy200040p/sukhdeep/miniconda3/lib/python3.8/site-packages/skylens-0.1-py3.8.egg/skylens/cov_utils.py:92: RuntimeWarning: invalid value encountered in true_divide\n",
      "/verafs/scratch/phy200040p/sukhdeep/miniconda3/lib/python3.8/site-packages/skylens-0.1-py3.8.egg/skylens/angular_power_spectra.py:23: RuntimeWarning: divide by zero encountered in true_divide\n",
      "/verafs/scratch/phy200040p/sukhdeep/miniconda3/lib/python3.8/site-packages/skylens-0.1-py3.8.egg/skylens/angular_power_spectra.py:115: RuntimeWarning: divide by zero encountered in true_divide\n"
     ]
    },
    {
     "name": "stdout",
     "output_type": "stream",
     "text": [
      "scatter_dict got empty dictionary\n",
      "cl graph done\n",
      "gather_dict got empty dictionary\n"
     ]
    },
    {
     "name": "stderr",
     "output_type": "stream",
     "text": [
      "/verafs/home/sukhdeep/.local/lib/python3.8/site-packages/healpy-1.14.0-py3.8-linux-x86_64.egg/healpy/sphtfunc.py:433: FutureChangeWarning: The order of the input cl's will change in a future release.\n",
      "Use new=True keyword to start using the new order.\n",
      "See documentation of healpy.synalm.\n",
      "  warnings.warn(\n",
      "/verafs/home/sukhdeep/.local/lib/python3.8/site-packages/healpy-1.14.0-py3.8-linux-x86_64.egg/healpy/sphtfunc.py:822: UserWarning: Sigma is 0.000000 arcmin (0.000000 rad) \n",
      "  warnings.warn(\n",
      "/verafs/home/sukhdeep/.local/lib/python3.8/site-packages/healpy-1.14.0-py3.8-linux-x86_64.egg/healpy/sphtfunc.py:827: UserWarning: -> fwhm is 0.000000 arcmin\n",
      "  warnings.warn(\n",
      "../skylens/survey_utils.py:126: RuntimeWarning: invalid value encountered in sqrt\n",
      "  cl_map_noise=np.sqrt(cl_map)\n",
      "../skylens/survey_utils.py:132: RuntimeWarning: invalid value encountered in sqrt\n",
      "  shear_zbins[i]['window_N']=np.sqrt(shear_zbins[i]['window'])\n"
     ]
    }
   ],
   "source": [
    "z0=1 #1087\n",
    "# zs_bin1=source_tomo_bins(zp=[z0],p_zp=np.array([1]),ns=30,use_window=use_window,nside=nside)\n",
    "shear_zbins=lsst_source_tomo_bins(nbins=1,use_window=use_window,nside=nside,f_sky=f_sky)\n",
    "galaxy_zbins=shear_zbins"
   ]
  },
  {
   "cell_type": "code",
   "execution_count": 11,
   "metadata": {},
   "outputs": [],
   "source": [
    "bi=(0,0)"
   ]
  },
  {
   "cell_type": "code",
   "execution_count": 12,
   "metadata": {},
   "outputs": [],
   "source": [
    "corrs=[corr_gg]\n",
    "corr=corrs[0]"
   ]
  },
  {
   "cell_type": "code",
   "execution_count": 13,
   "metadata": {},
   "outputs": [],
   "source": [
    "Skylens_kwargs=parse_dict(locals())"
   ]
  },
  {
   "cell_type": "code",
   "execution_count": 14,
   "metadata": {
    "scrolled": false
   },
   "outputs": [
    {
     "name": "stdout",
     "output_type": "stream",
     "text": [
      "Tracer utils has tracers:  ['shear', 'galaxy']\n",
      "pk_params dict was none, intialized with default\n",
      "cosmo_params dict was none, intialized with default\n",
      "cosmology interpolation range 0.0 5.015\n",
      "power spectra camb_pk_too_many_z\n",
      "Win gen: step size 9 2048 2049.0 2\n",
      "Window done. Size: 0.0\n",
      "gather_dict got empty dictionary\n",
      "gather_dict got empty dictionary\n",
      "gather_dict got empty dictionary\n",
      "gather_dict got empty dictionary\n"
     ]
    }
   ],
   "source": [
    "#use all ell\n",
    "Skylens_kwargs['use_window']=False\n",
    "kappa0=Skylens(**Skylens_kwargs)\n",
    "kappa0.gather_data()\n",
    "Skylens_kwargs['use_window']=True"
   ]
  },
  {
   "cell_type": "code",
   "execution_count": 15,
   "metadata": {},
   "outputs": [
    {
     "name": "stdout",
     "output_type": "stream",
     "text": [
      "scatter_dict got empty dictionary\n",
      "cl graph done\n",
      "gather_dict got empty dictionary\n",
      "CPU times: user 26.7 s, sys: 1.36 s, total: 28.1 s\n",
      "Wall time: 2.11 s\n"
     ]
    }
   ],
   "source": [
    "%time cl0G=kappa0.cl_tomo() "
   ]
  },
  {
   "cell_type": "code",
   "execution_count": 16,
   "metadata": {},
   "outputs": [],
   "source": [
    "win_Cl=client.compute(cl0G['cl'][corr][bi]).result()\n",
    "cl0=win_Cl*1."
   ]
  },
  {
   "cell_type": "code",
   "execution_count": 18,
   "metadata": {},
   "outputs": [
    {
     "name": "stdout",
     "output_type": "stream",
     "text": [
      "Win gen: step size 2048 1024 2048.0 10\n",
      "wigner_files: {0: '/verafs/scratch/phy200040p/sukhdeep/physics2/skylens/temp/dask_wig3j_l2200_w4400_0_reorder.zarr', 2: '/verafs/scratch/phy200040p/sukhdeep/physics2/skylens/temp//dask_wig3j_l2200_w4400_2_reorder.zarr'}\n",
      "wigner done dict_keys([])\n"
     ]
    },
    {
     "name": "stderr",
     "output_type": "stream",
     "text": [
      "distributed.nanny - WARNING - Worker exceeded 99% memory budget. Restarting\n",
      "distributed.nanny - WARNING - Restarting worker\n",
      "distributed.nanny - WARNING - Worker exceeded 99% memory budget. Restarting\n",
      "distributed.nanny - WARNING - Restarting worker\n",
      "distributed.nanny - WARNING - Worker exceeded 99% memory budget. Restarting\n",
      "distributed.nanny - WARNING - Restarting worker\n",
      "distributed.nanny - WARNING - Worker exceeded 99% memory budget. Restarting\n",
      "distributed.nanny - WARNING - Restarting worker\n",
      "distributed.nanny - WARNING - Worker exceeded 99% memory budget. Restarting\n",
      "distributed.nanny - WARNING - Restarting worker\n",
      "distributed.nanny - WARNING - Worker exceeded 99% memory budget. Restarting\n",
      "distributed.nanny - WARNING - Restarting worker\n"
     ]
    },
    {
     "ename": "KilledWorker",
     "evalue": "('set_wig3j_step_multiplied-8703fe89-34e7-49c3-9875-656ffd587a7d', <Worker 'tcp://127.0.0.1:36015', name: 0, memory: 0, processing: 1>)",
     "output_type": "error",
     "traceback": [
      "\u001b[0;31m---------------------------------------------------------------------------\u001b[0m",
      "\u001b[0;31mKilledWorker\u001b[0m                              Traceback (most recent call last)",
      "\u001b[0;32m<ipython-input-18-e70d2a8a8654>\u001b[0m in \u001b[0;36m<module>\u001b[0;34m\u001b[0m\n\u001b[1;32m      3\u001b[0m                 corrs=corrs,wigner_step=l0.max()+1,wigner_files=wigner_files)\n\u001b[1;32m      4\u001b[0m \u001b[0mwu\u001b[0m\u001b[0;34m.\u001b[0m\u001b[0mset_wig3j\u001b[0m\u001b[0;34m(\u001b[0m\u001b[0;34m)\u001b[0m\u001b[0;34m\u001b[0m\u001b[0;34m\u001b[0m\u001b[0m\n\u001b[0;32m----> 5\u001b[0;31m \u001b[0mwj2\u001b[0m\u001b[0;34m=\u001b[0m\u001b[0mclient\u001b[0m\u001b[0;34m.\u001b[0m\u001b[0mcompute\u001b[0m\u001b[0;34m(\u001b[0m\u001b[0mwu\u001b[0m\u001b[0;34m.\u001b[0m\u001b[0mwig_3j_2\u001b[0m\u001b[0;34m)\u001b[0m\u001b[0;34m.\u001b[0m\u001b[0mresult\u001b[0m\u001b[0;34m(\u001b[0m\u001b[0;34m)\u001b[0m\u001b[0;34m\u001b[0m\u001b[0;34m\u001b[0m\u001b[0m\n\u001b[0m\u001b[1;32m      6\u001b[0m \u001b[0mwj2\u001b[0m\u001b[0;34m=\u001b[0m\u001b[0mwj2\u001b[0m\u001b[0;34m[\u001b[0m\u001b[0;36m0\u001b[0m\u001b[0;34m]\u001b[0m\u001b[0;34m[\u001b[0m\u001b[0;34m'00'\u001b[0m\u001b[0;34m]\u001b[0m\u001b[0;34m\u001b[0m\u001b[0;34m\u001b[0m\u001b[0m\n",
      "\u001b[0;32m/verafs/scratch/phy200040p/sukhdeep/miniconda3/lib/python3.8/site-packages/distributed/client.py\u001b[0m in \u001b[0;36mresult\u001b[0;34m(self, timeout)\u001b[0m\n\u001b[1;32m    223\u001b[0m         \u001b[0;32mif\u001b[0m \u001b[0mself\u001b[0m\u001b[0;34m.\u001b[0m\u001b[0mstatus\u001b[0m \u001b[0;34m==\u001b[0m \u001b[0;34m\"error\"\u001b[0m\u001b[0;34m:\u001b[0m\u001b[0;34m\u001b[0m\u001b[0;34m\u001b[0m\u001b[0m\n\u001b[1;32m    224\u001b[0m             \u001b[0mtyp\u001b[0m\u001b[0;34m,\u001b[0m \u001b[0mexc\u001b[0m\u001b[0;34m,\u001b[0m \u001b[0mtb\u001b[0m \u001b[0;34m=\u001b[0m \u001b[0mresult\u001b[0m\u001b[0;34m\u001b[0m\u001b[0;34m\u001b[0m\u001b[0m\n\u001b[0;32m--> 225\u001b[0;31m             \u001b[0;32mraise\u001b[0m \u001b[0mexc\u001b[0m\u001b[0;34m.\u001b[0m\u001b[0mwith_traceback\u001b[0m\u001b[0;34m(\u001b[0m\u001b[0mtb\u001b[0m\u001b[0;34m)\u001b[0m\u001b[0;34m\u001b[0m\u001b[0;34m\u001b[0m\u001b[0m\n\u001b[0m\u001b[1;32m    226\u001b[0m         \u001b[0;32melif\u001b[0m \u001b[0mself\u001b[0m\u001b[0;34m.\u001b[0m\u001b[0mstatus\u001b[0m \u001b[0;34m==\u001b[0m \u001b[0;34m\"cancelled\"\u001b[0m\u001b[0;34m:\u001b[0m\u001b[0;34m\u001b[0m\u001b[0;34m\u001b[0m\u001b[0m\n\u001b[1;32m    227\u001b[0m             \u001b[0;32mraise\u001b[0m \u001b[0mresult\u001b[0m\u001b[0;34m\u001b[0m\u001b[0;34m\u001b[0m\u001b[0m\n",
      "\u001b[0;31mKilledWorker\u001b[0m: ('set_wig3j_step_multiplied-8703fe89-34e7-49c3-9875-656ffd587a7d', <Worker 'tcp://127.0.0.1:36015', name: 0, memory: 0, processing: 1>)"
     ]
    }
   ],
   "source": [
    "window_l_test=kappa0.l\n",
    "wu=window_utils(l=l0[:lmax2],window_l=window_l_test,use_window=True,s1_s2s={corr:s1_s2s[corr]},\n",
    "                corrs=corrs,wigner_step=l0.max()+1,wigner_files=wigner_files)\n",
    "wu.set_wig3j()\n",
    "wj2=client.compute(wu.wig_3j_2).result()\n",
    "wj2=wj2[0]['00']"
   ]
  },
  {
   "cell_type": "code",
   "execution_count": null,
<<<<<<< HEAD
   "metadata": {},
   "outputs": [],
   "source": [
    "#FOR COVARIANCE MATRIX PROJECT; ell = ell range\n",
    "window_l_test=kappa0.l\n",
    "\n",
    "corr = corr_gg\n",
    "corrs = [corr_gg]\n",
    "\n",
    "wu=window_utils(l=l0[:2*NSIDE],window_l=ell[:2*NSIDE],use_window=True,s1_s2s={corr:s1_s2s[corr]},\n",
    "                corrs=corrs,wigner_step=l0.max()+1,wigner_files=wigner_files)\n",
    "wu.set_wig3j()\n",
    "wj2=client.compute(wu.wig_3j_2).result()\n",
    "wj2=wj2[0]['00']\n",
    "\n",
    "\n",
    "#CHECK SUKHDEEP'S APPENDIX C; wrong ordering but should work for galaxies because spin = 0\n",
    "M=wj2@(win_Cl*(2*l0+1))\n",
    "M/=4.*np.pi\n",
    "M*=wu.MF\n",
    "\n"
   ]
  },
  {
   "cell_type": "code",
   "execution_count": 18,
=======
>>>>>>> f99ed3bbe4ec2c7d23b4bdf118e82b12057aede1
   "metadata": {},
   "outputs": [],
   "source": [
    "win_Cl.shape,wj2.shape"
   ]
  },
  {
   "cell_type": "code",
   "execution_count": null,
   "metadata": {},
   "outputs": [],
   "source": [
    "M=wj2@(win_Cl*(2*l0+1))\n",
    "M/=4.*np.pi\n",
    "M*=wu.MF\n",
    "\n"
   ]
  },
  {
   "cell_type": "code",
   "execution_count": null,
   "metadata": {},
   "outputs": [],
   "source": [
    "win_Cl2=win_Cl[:lmax2]*f_sky"
   ]
  },
  {
   "cell_type": "code",
   "execution_count": null,
   "metadata": {},
   "outputs": [],
   "source": [
    "NM=M/np.sqrt(np.outer(win_Cl2,win_Cl2)) \n",
    "EM=1./win_Cl2*M\n",
    "EM2=M*1./win_Cl2"
   ]
  },
  {
   "cell_type": "code",
   "execution_count": null,
   "metadata": {},
   "outputs": [],
   "source": [
    "l0"
   ]
  },
  {
   "cell_type": "code",
   "execution_count": null,
   "metadata": {},
   "outputs": [],
   "source": [
    "plot(l0[:lmax2]+1,np.diag(M)) #\n",
    "xscale('log')\n",
    "yscale('log')\n",
    "show()\n",
    "plot(l0[:lmax2]+1,M@np.ones_like(l0[:lmax2]))\n",
    "xscale('log')\n",
    "yscale('log')\n",
    "xlim(1,1000)\n",
    "show()"
   ]
  },
  {
   "cell_type": "code",
   "execution_count": null,
   "metadata": {
    "scrolled": false
   },
   "outputs": [],
   "source": [
    "plot(l0[:lmax2]+1,np.diag(EM)) #\n",
    "xscale('log')\n",
    "yscale('log')\n",
    "show()\n",
    "plot(l0[:lmax2]+1,EM@np.ones_like(l0[:lmax2])) #\n",
    "xscale('log')\n",
    "yscale('log')\n",
    "show()\n",
    "plot(l0[:lmax2]+1,np.diag(EM)/(2*l0[:lmax2]+1))\n",
    "xscale('log')\n",
    "# yscale('log')\n",
    "show()\n",
    "plot(l0[:lmax2]+1,(EM@np.ones_like(l0[:lmax2]))/(2*l0[:lmax2]+1)) #\n",
    "xscale('log')\n",
    "yscale('log')\n",
    "show()\n"
   ]
  },
  {
   "cell_type": "raw",
   "metadata": {},
   "source": [
    "pcolor(M,cmap='Reds',norm=LogNorm())\n",
    "loglog()\n",
    "xlim(1,1000)\n",
    "ylim(1,1000)\n",
    "colorbar()"
   ]
  },
  {
   "cell_type": "raw",
   "metadata": {},
   "source": [
    "pcolor(NM,cmap='Reds',norm=LogNorm())\n",
    "loglog()\n",
    "xlim(1,1000)\n",
    "ylim(1,1000)\n",
    "colorbar()"
   ]
  },
  {
   "cell_type": "raw",
   "metadata": {
    "scrolled": false
   },
   "source": [
    "fig, ax =subplots(1,1,figsize=(20,15),sharex='col',sharey='row')\n",
    "cc=ax.pcolor(1+l0[:lmax2],1+l0[:lmax2],EM,cmap='Reds',norm=LogNorm(),label=r'$\\frac{1}{D_\\ell}M^W_{\\ell,\\ell}$',rasterized=True)\n",
    "# ax.title(r'$\\frac{1}{D_\\ell}M^W_{\\ell,\\ell}$')\n",
    "ax.legend(handlelength=0,loc='upper center',bbox_to_anchor=(0.5,1.1))\n",
    "ax.loglog()\n",
    "ax.set_xlim(1,1000)\n",
    "ax.set_ylim(1,1000)\n",
    "\n",
    "ax.set_xlabel(r'$\\ell+1$')\n",
    "ax.set_ylabel(r'$\\ell+1$')\n",
    "fig.colorbar(cc)\n",
    "fname=fig_home+'window_error_coupling'\n",
    "fname+='.pdf'\n",
    "show()\n",
    "fig.savefig(fname,bbox_inches='tight',format='pdf')"
   ]
  },
  {
   "cell_type": "raw",
   "metadata": {},
   "source": [
    "pcolor(M,cmap='Reds',norm=LogNorm())\n",
    "loglog()\n",
    "xlim(1,1200)\n",
    "ylim(1,1200)\n",
    "colorbar()"
   ]
  },
  {
   "cell_type": "code",
   "execution_count": null,
   "metadata": {},
   "outputs": [],
   "source": [
    "shear_zbins[0].keys()"
   ]
  },
  {
   "cell_type": "code",
   "execution_count": null,
   "metadata": {},
   "outputs": [],
   "source": [
    "w_alm=hp.map2alm(shear_zbins[0]['window'])\n",
    "wlt0=hp.anafast(shear_zbins[0]['window'])"
   ]
  },
  {
   "cell_type": "code",
   "execution_count": null,
   "metadata": {},
   "outputs": [],
   "source": [
    "fsky=0.3\n",
    "lmm=3*nside\n",
    "lt=np.arange(lmm)\n",
    "Nl=np.mean(wlt0[100:200])\n",
    "Nl*=2\n",
    "cov=2./(2*lt+1)/fsky*((wlt0+Nl)**2)\n",
    "err=np.sqrt(cov)\n",
    "err[:10]=0\n",
    "# fl=1+0.4/np.sqrt(lmm)*np.sqrt(lt)\n",
    "fl=1+np.sqrt(err/wlt0)\n",
    "# w_alm2=hp.almxfl(w_alm,fl,inplace=False)\n",
    "w_alm2=w_alm+hp.synalm(err)"
   ]
  },
  {
   "cell_type": "code",
   "execution_count": null,
   "metadata": {},
   "outputs": [],
   "source": [
    "mask=shear_zbins[0]['window']!=hp.UNSEEN\n",
    "# ww=hp.alm2map(w_alm2,nside=nside)#skylens_kwargs[0]['shear_zbins'][0]['window']*.995\n",
    "ww=hp.synfast(err,nside=nside)\n",
    "ww-=ww[mask].mean()\n",
    "ww[~mask]=hp.UNSEEN\n",
    "cl_map=ww+shear_zbins[0]['window']\n",
    "cl_map[~mask]=hp.UNSEEN\n",
    "\n",
    "cl_mapg=ww+shear_zbins[0]['window']\n",
    "cl_mapg[~mask]=hp.UNSEEN\n",
    "\n",
    "wlt=hp.anafast(cl_map)\n",
    "ww[mask].mean(),cl_map[mask].mean(),shear_zbins[0]['window'][mask].mean()"
   ]
  },
  {
   "cell_type": "code",
   "execution_count": null,
   "metadata": {},
   "outputs": [],
   "source": [
    "shear_zbins2=copy.deepcopy(shear_zbins)\n",
    "shear_zbins2[0]['window']=cl_map"
   ]
  },
  {
   "cell_type": "code",
   "execution_count": null,
   "metadata": {},
   "outputs": [],
   "source": [
    "Skylens_kwargs['use_window']=True\n",
    "Skylens_kwargs['use_binned_l']=True\n",
    "Skylens_kwargs['wigner_step']=50\n",
    "Skylens_kwargs['l']=l0[:lmax2]\n",
    "\n",
    "Skylens_kwargs2=copy.deepcopy(Skylens_kwargs)\n",
    "Skylens_kwargs2['shear_zbins']=shear_zbins2\n",
    "Skylens_kwargs2['galaxy_zbins']=shear_zbins2"
   ]
  },
  {
   "cell_type": "code",
   "execution_count": null,
   "metadata": {},
   "outputs": [],
   "source": [
    "client"
   ]
  },
  {
   "cell_type": "code",
   "execution_count": null,
   "metadata": {},
   "outputs": [],
   "source": [
    "wj2.shape"
   ]
  },
  {
   "cell_type": "code",
   "execution_count": null,
   "metadata": {},
   "outputs": [],
   "source": [
    "M0=wj2@(wlt0[:l0.max()+1]*(2*l0+1))\n",
    "M0/=4.*np.pi\n",
    "M0*=wu.MF\n",
    "\n",
    "M2=wj2@(wlt[:l0.max()+1]*(2*l0+1))\n",
    "M2/=4.*np.pi\n",
    "M2*=wu.MF\n"
   ]
  },
  {
   "cell_type": "code",
   "execution_count": null,
   "metadata": {},
   "outputs": [],
   "source": [
    "pcl0=np.zeros_like(kappa0.l,dtype='float64')\n",
    "pcl2=np.zeros_like(kappa0.l,dtype='float64')\n",
    "\n",
    "pcl0[:lmax2]+=M0@cl0[:lmax2]\n",
    "pcl2[:lmax2]+=M2@cl0[:lmax2]\n",
    "\n",
    "pcl0_b=kappa0.bin_cl_func(cl=pcl0)\n",
    "pcl2_b=kappa0.bin_cl_func(cl=pcl2)"
   ]
  },
  {
   "cell_type": "code",
   "execution_count": null,
   "metadata": {},
   "outputs": [],
   "source": [
    "pcl0"
   ]
  },
  {
   "cell_type": "code",
   "execution_count": null,
   "metadata": {},
   "outputs": [],
   "source": [
    "plot(l0,pcl0)\n",
    "plot(l0,pcl2)\n",
    "plot(l0,cl0)\n",
    "loglog()\n",
    "show()\n",
    "plot(l0,1-pcl0/pcl2)\n",
    "xscale('log')\n",
    "yscale('log')"
   ]
  },
  {
   "cell_type": "code",
   "execution_count": null,
   "metadata": {},
   "outputs": [],
   "source": [
    "#use all ell\n",
    "kappa_win={0:Skylens(**Skylens_kwargs)}\n",
    "kappa_win[0].gather_data()\n",
    "kappa_win[1]=Skylens(**Skylens_kwargs2)\n",
    "kappa_win[1].gather_data()"
   ]
  },
  {
   "cell_type": "code",
   "execution_count": null,
   "metadata": {},
   "outputs": [],
   "source": [
    "plot(wlt/wlt0-1)\n",
    "xscale('log')\n",
    "yscale('log')\n",
    "show()\n",
    "plot(np.absolute(wlt-wlt0))\n",
    "xscale('log')\n",
    "yscale('log')"
   ]
  },
  {
   "cell_type": "code",
   "execution_count": null,
   "metadata": {},
   "outputs": [],
   "source": [
    "clG_win={}\n",
    "cl0_win={}\n",
    "for i in kappa_win.keys():\n",
    "    %time clG_win[i]=kappa_win[i].cl_tomo(corrs=corrs) \n",
    "    %time cl0_win[i]=clG_win[i]['stack'].compute()\n",
    "pcl0_b=cl0_win[0]['pcl_b']\n",
    "pcl2_b=cl0_win[1]['pcl_b']"
   ]
  },
  {
   "cell_type": "code",
   "execution_count": null,
   "metadata": {},
   "outputs": [],
   "source": [
    "kappa0.l"
   ]
  },
  {
   "cell_type": "code",
   "execution_count": null,
   "metadata": {},
   "outputs": [],
   "source": [
    "# kappa_win[1].gather_data()\n",
    "wltb=kappa0.bin_cl_func(cl=wlt[kappa0.l])\n",
    "wlt0b=kappa0.bin_cl_func(cl=wlt0[kappa0.l])"
   ]
  },
  {
   "cell_type": "code",
   "execution_count": null,
   "metadata": {},
   "outputs": [],
   "source": [
    "plot(lb,1.-pcl0_b/pcl2_b)\n",
    "plot(lb,(wltb/wlt0b-1))\n",
    "xscale('log')\n",
    "# plot(lb,cl0_win['t']['pcl_b'])\n",
    "xscale('log')\n",
    "yscale('log')\n",
    "xlabel(r'$\\ell$')\n",
    "ylabel(r'$\\frac{D_\\ell}{D_{\\ell,m}}-1$')\n",
    "xlim(20,1000)\n",
    "ylim(0.001,.5)"
   ]
  },
  {
   "cell_type": "code",
   "execution_count": null,
   "metadata": {},
   "outputs": [],
   "source": [
    "plot(lb,(wltb/pcl0_b))\n",
    "xscale('log')\n",
    "# plot(lb,cl0_win['t']['pcl_b'])\n",
    "xscale('log')\n",
    "yscale('log')\n",
    "xlabel(r'$\\ell$')\n",
    "ylabel(r'$\\frac{D_\\ell}{D_{\\ell,m}}-1$')\n",
    "xlim(20,1000)\n",
    "# ylim(0.001,.5)"
   ]
  },
  {
   "cell_type": "code",
   "execution_count": null,
   "metadata": {},
   "outputs": [],
   "source": [
    "fig, ax =subplots(2,1,figsize=(20,15),sharex='col',sharey='row')\n",
    "ps=ax[0]\n",
    "pr=ax[1]\n",
    "ps.plot(wlt,alpha=0.2)\n",
    "ps.plot(wlt0,alpha=0.2)\n",
    "ps.plot(lb,wltb,label='$W_1+\\delta W_1$')\n",
    "ps.plot(lb,wlt0b,label='$W_1$')\n",
    "\n",
    "ps.plot(lb,pcl0_b,label='$D_\\ell, W_1$')\n",
    "ps.plot(lb,pcl2_b,label='$D_\\ell, W_1+\\delta W_1$')\n",
    "\n",
    "pr.plot(lb,1.-pcl0_b/pcl2_b,label=r'$\\frac{\\delta D_\\ell}{D_\\ell}$')\n",
    "pr.plot(lb,(wltb/wlt0b-1),label=r'$\\frac{\\delta W_1}{W_1}$')\n",
    "\n",
    "pr.set_ylim(0.001,.5)\n",
    "pr.set_xlim(1,2000)\n",
    "pr.hlines(0.01,1,2000,ls='--',color='k')\n",
    "ps.legend()\n",
    "pr.legend()\n",
    "ps.set_yscale('log')\n",
    "ps.set_xscale('log')\n",
    "pr.set_yscale('log')\n",
    "pr.set_xlabel('$\\ell$')\n",
    "ps.set_ylabel('$D_\\ell$')\n",
    "pr.set_ylabel('Fractional difference')\n",
    "fname=fig_home+'window_bias_Dl'\n",
    "fname+='.pdf'\n",
    "show()\n",
    "# fig.savefig(fname,bbox_inches='tight',format='pdf')"
   ]
  },
  {
   "cell_type": "markdown",
   "metadata": {},
   "source": [
    "# correlation function"
   ]
  },
  {
   "cell_type": "code",
   "execution_count": null,
   "metadata": {},
   "outputs": [],
   "source": [
    "lmax_xi=10000\n",
    "l0th=np.arange(lmax_xi)\n",
    "theta_min=1/60\n",
    "theta_max=600./60\n",
    "n_theta_bins=51\n",
    "theta_bins=np.logspace(np.log10(theta_min),np.log10(theta_max),n_theta_bins+1)\n",
    "th=np.logspace(np.log10(theta_min),np.log10(theta_max),n_theta_bins*80)\n",
    "\n",
    "n_theta_bins=21\n",
    "theta_bins=np.logspace(np.log10(theta_min),np.log10(theta_max),n_theta_bins+1)\n",
    "\n",
    "theta_bins_center=0.5*(theta_bins[1:]+theta_bins[:-1])\n",
    "thb=theta_bins_center*1\n",
    "n_theta_bins=len(thb)\n",
    "binn=binning()\n",
    "bu=binn.bin_utils(r=th,r_bins=theta_bins)"
   ]
  },
  {
   "cell_type": "code",
   "execution_count": null,
   "metadata": {},
   "outputs": [],
   "source": [
    "#Hankel Transform setup\n",
    "WT_kwargs={'l':l0th,'l_cut_weights':np.ones_like(l0th),'theta':th*d2r,'s1_s2':[(0,0)],\n",
    "           'wig_d_taper_order_low':16,'wig_d_taper_order_high':20}\n",
    "# if globals().get('WT') is None:\n",
    "WT=wigner_transform(**WT_kwargs )\n",
    "# WT_b=wigner_transform(**WT_kwargs)\n",
    "WT_b=WT\n",
    "WT.gather_data()"
   ]
  },
  {
   "cell_type": "code",
   "execution_count": null,
   "metadata": {},
   "outputs": [],
   "source": [
    "nside=2048*2"
   ]
  },
  {
   "cell_type": "code",
   "execution_count": null,
   "metadata": {},
   "outputs": [],
   "source": [
    "z0=1 #1087\n",
    "# zs_bin1=source_tomo_bins(zp=[z0],p_zp=np.array([1]),ns=30,use_window=use_window,nside=nside)\n",
    "shear_zbins=lsst_source_tomo_bins(nbins=1,use_window=use_window,nside=nside,f_sky=f_sky)\n",
    "galaxy_zbins=shear_zbins"
   ]
  },
  {
   "cell_type": "code",
   "execution_count": null,
   "metadata": {},
   "outputs": [],
   "source": [
    "w_alm=hp.map2alm(shear_zbins[0]['window'])\n",
    "wlt0=hp.anafast(shear_zbins[0]['window'])"
   ]
  },
  {
   "cell_type": "code",
   "execution_count": null,
   "metadata": {},
   "outputs": [],
   "source": [
    "lmm=3*nside\n",
    "lt=np.arange(lmm)\n",
    "Nl=np.mean(wlt0[100:200])\n",
    "Nl*=2\n",
    "cov=2./(2*lt+1)/fsky*((wlt0+Nl)**2)\n",
    "err=np.sqrt(cov)\n",
    "err[:10]=0\n",
    "# fl=1+0.4/np.sqrt(lmm)*np.sqrt(lt)\n",
    "# fl=1+np.sqrt(err/wlt0)\n",
    "# # w_alm2=hp.almxfl(w_alm,fl,inplace=False)\n",
    "# w_alm2=w_alm+hp.synalm(err)"
   ]
  },
  {
   "cell_type": "code",
   "execution_count": null,
   "metadata": {},
   "outputs": [],
   "source": [
    "mask=shear_zbins[0]['window']!=hp.UNSEEN\n",
    "# ww=hp.alm2map(w_alm2,nside=nside)#skylens_kwargs[0]['shear_zbins'][0]['window']*.995\n",
    "ww=hp.synfast(err,nside=nside)\n",
    "ww-=ww[mask].mean()\n",
    "ww[~mask]=hp.UNSEEN\n",
    "cl_map=ww+shear_zbins[0]['window']\n",
    "cl_map[~mask]=hp.UNSEEN\n",
    "\n",
    "cl_mapg=ww+shear_zbins[0]['window']\n",
    "cl_mapg[~mask]=hp.UNSEEN\n",
    "\n",
    "wlt=hp.anafast(cl_map)\n",
    "ww[mask].mean(),cl_map[mask].mean(),shear_zbins[0]['window'][mask].mean()"
   ]
  },
  {
   "cell_type": "code",
   "execution_count": null,
   "metadata": {},
   "outputs": [],
   "source": [
    "lw=np.arange(len(wlt0))\n",
    "th_t,xi0=WT.projected_correlation(l_cl=lw,cl=wlt0,s1_s2=(0,0))\n",
    "th_t,xi_err=WT.projected_correlation(l_cl=lw,cl=wlt,s1_s2=(0,0))\n",
    "\n",
    "xi0b=binn.bin_1d(xi=xi0,bin_utils=bu)\n",
    "xi_errb=binn.bin_1d(xi=xi_err,bin_utils=bu)"
   ]
  },
  {
   "cell_type": "code",
   "execution_count": null,
   "metadata": {},
   "outputs": [],
   "source": [
    "plot(thb,xi0b)\n",
    "plot(thb,xi_errb)\n",
    "xscale('log')\n",
    "show()\n",
    "plot(thb,xi_errb/xi0b-1)\n",
    "xscale('log')\n",
    "yscale('log')"
   ]
  },
  {
   "cell_type": "code",
   "execution_count": null,
   "metadata": {},
   "outputs": [],
   "source": []
  }
 ],
 "metadata": {
  "hide_input": false,
  "kernelspec": {
   "display_name": "Python 3",
   "language": "python",
   "name": "python3"
  },
  "language_info": {
   "codemirror_mode": {
    "name": "ipython",
    "version": 3
   },
   "file_extension": ".py",
   "mimetype": "text/x-python",
   "name": "python",
   "nbconvert_exporter": "python",
   "pygments_lexer": "ipython3",
   "version": "3.8.3"
  }
 },
 "nbformat": 4,
 "nbformat_minor": 2
}
