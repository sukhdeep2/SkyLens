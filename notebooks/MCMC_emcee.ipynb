{
 "cells": [
  {
   "cell_type": "code",
   "execution_count": null,
   "metadata": {},
   "outputs": [],
   "source": [
    "import emcee\n",
    "from skylens import *"
   ]
  },
  {
   "cell_type": "code",
   "execution_count": null,
   "metadata": {},
   "outputs": [],
   "source": [
    "from dask.distributed import Lock"
   ]
  },
  {
   "cell_type": "code",
   "execution_count": 2,
   "metadata": {},
   "outputs": [],
   "source": [
    "import faulthandler; faulthandler.enable()"
   ]
  },
  {
   "cell_type": "code",
   "execution_count": null,
   "metadata": {},
   "outputs": [],
   "source": [
    "import multiprocessing\n",
    "ncpu=multiprocessing.cpu_count()-1\n",
    "vmem=psutil.virtual_memory()\n",
    "mem=str(vmem.total/(1024**3)*0.95)+'GB'"
   ]
  },
  {
   "cell_type": "code",
   "execution_count": 3,
   "metadata": {},
   "outputs": [],
   "source": [
    "from distributed import LocalCluster\n",
    "from dask.distributed import Client  # we already had this above\n",
    "#http://distributed.readthedocs.io/en/latest/_modules/distributed/worker.html\n",
    "c=LocalCluster(n_workers=1,processes=False,memory_limit=mem,threads_per_worker=ncpu,memory_spill_fraction=.99,\n",
    "               memory_monitor_interval='2000ms')\n",
    "client=Client(c)"
   ]
  },
  {
   "cell_type": "code",
   "execution_count": null,
   "metadata": {},
   "outputs": [],
   "source": [
    "lock = Lock(name=\"Why_Camb_Why\",client=client)\n",
    "#We get segmentation fault if camb is not under lock and multiple instances are called (tested on single node).\n",
    "# Why camb is called, multiple instances run, but they all rely on same underlying fortran objects and there are race conditions.\n",
    "# I tried pickling camb, but Camb cannot be pickled because it's a fortran wrapper and pickle doesn't really know what to do with it. deepcopy throws same error too.\n",
    "# deepcopy of Ang_PS doesn't capture it because there is no camb object stored as part of PS. It is simply called.\n"
   ]
  },
  {
   "cell_type": "code",
   "execution_count": 4,
   "metadata": {},
   "outputs": [],
   "source": [
    "wigner_files={}\n",
    "# wigner_files[0]= '/Users/Deep/dask_temp/dask_wig3j_l3500_w2100_0_reorder.zarr'\n",
    "# wigner_files[2]= '/Users/Deep/dask_temp/dask_wig3j_l3500_w2100_2_reorder.zarr'\n",
    "wig_home='/verafs/scratch/phy200040p/sukhdeep/physics2/skylens/temp/'\n",
    "wigner_files[0]= wig_home+'dask_wig3j_l3500_w2100_0_reorder.zarr'\n",
    "wigner_files[2]= wig_home+'/dask_wig3j_l3500_w2100_2_reorder.zarr'\n"
   ]
  },
  {
   "cell_type": "code",
   "execution_count": 5,
   "metadata": {},
   "outputs": [],
   "source": [
    "#setup parameters\n",
    "bin_cl=True\n",
    "lmax_cl=2000\n",
    "lmin_cl=2\n",
    "l0=np.arange(lmin_cl,lmax_cl)\n",
    "\n",
    "lmin_cl_Bins=lmin_cl+10\n",
    "lmax_cl_Bins=lmax_cl-10\n",
    "Nl_bins=25\n",
    "l_bins=np.int64(np.logspace(np.log10(lmin_cl_Bins),np.log10(lmax_cl_Bins),Nl_bins+1))\n",
    "lb=np.sqrt(l_bins[1:]*l_bins[:-1])\n",
    "\n",
    "l=np.unique(np.int64(np.logspace(np.log10(lmin_cl),np.log10(lmax_cl),Nl_bins*20))) #if we want to use fewer ell\n",
    "bin_cl=True"
   ]
  },
  {
   "cell_type": "code",
   "execution_count": 7,
   "metadata": {},
   "outputs": [],
   "source": [
    "xi_win_approx=True\n",
    "bin_xi=True\n",
    "xi_SN_analytical=True\n",
    "th_min=25/60\n",
    "th_max=250./60\n",
    "n_th_bins=20\n",
    "th_bins=np.logspace(np.log10(th_min),np.log10(th_max),n_th_bins+1)\n",
    "th=np.logspace(np.log10(th_min),np.log10(th_max),n_th_bins*40)\n",
    "thb=np.sqrt(th_bins[1:]*th_bins[:-1])"
   ]
  },
  {
   "cell_type": "code",
   "execution_count": 8,
   "metadata": {},
   "outputs": [
    {
     "name": "stdout",
     "output_type": "stream",
     "text": [
      "Wigner ell max too low for theta_min. Recommendation based on first few zeros of bessel  (2, 2)  : [ 330.68725181  759.06522792 1189.97300751 1621.45237761 2053.14856549]\n"
     ]
    },
    {
     "name": "stderr",
     "output_type": "stream",
     "text": [
      "/verafs/scratch/phy200040p/sukhdeep/miniconda3/lib/python3.8/site-packages/skylens-0.1-py3.8.egg/skylens/wigner_transform.py:51: RuntimeWarning: divide by zero encountered in true_divide\n",
      "/verafs/scratch/phy200040p/sukhdeep/miniconda3/lib/python3.8/site-packages/skylens-0.1-py3.8.egg/skylens/wigner_transform.py:51: RuntimeWarning: invalid value encountered in true_divide\n",
      "/verafs/scratch/phy200040p/sukhdeep/miniconda3/lib/python3.8/site-packages/skylens-0.1-py3.8.egg/skylens/wigner_transform.py:51: RuntimeWarning: invalid value encountered in cos\n"
     ]
    },
    {
     "name": "stdout",
     "output_type": "stream",
     "text": [
      "Wigner ell max too low for theta_min. Recommendation based on first few zeros of bessel  (2, -2)  : [1043.47198799 1521.50677255 1976.36566123 2422.36921608 2863.90886073]\n",
      "Wigner ell max too low for theta_min. Recommendation based on first few zeros of bessel  (0, 0)  : [ 330.68725181  759.06522792 1189.97300751 1621.45237761 2053.14856549]\n",
      "Wigner ell max too low for theta_min. Recommendation based on first few zeros of bessel  (0, 2)  : [ 706.19875936 1157.4541545  1597.84285866 2034.58941842 2469.65245891]\n"
     ]
    }
   ],
   "source": [
    "WT_kwargs={'l':l0,'theta':th*d2r,'s1_s2':[(2,2),(2,-2),(0,0),(0,2)]}\n",
    "WT=wigner_transform(wig_d_taper_order_low=6,wig_d_taper_order_high=8,**WT_kwargs)\n"
   ]
  },
  {
   "cell_type": "code",
   "execution_count": 9,
   "metadata": {},
   "outputs": [],
   "source": [
    "do_cov=True\n",
    "\n",
    "SSV_cov=False\n",
    "tidal_SSV_cov=False\n",
    "Tri_cov=True"
   ]
  },
  {
   "cell_type": "code",
   "execution_count": 10,
   "metadata": {},
   "outputs": [],
   "source": [
    "use_window=False\n",
    "store_win=False\n",
    "\n",
    "nside=32\n",
    "window_lmax=nside"
   ]
  },
  {
   "cell_type": "code",
   "execution_count": 11,
   "metadata": {},
   "outputs": [
    {
     "name": "stdout",
     "output_type": "stream",
     "text": [
      "ns0:  27.0\n"
     ]
    }
   ],
   "source": [
    "nzbins=5\n",
    "zs_bin=lsst_source_tomo_bins(nbins=nzbins,use_window=use_window,nside=nside)"
   ]
  },
  {
   "cell_type": "code",
   "execution_count": 12,
   "metadata": {},
   "outputs": [],
   "source": [
    "do_cov=True"
   ]
  },
  {
   "cell_type": "code",
   "execution_count": 13,
   "metadata": {},
   "outputs": [],
   "source": [
    "SSV_cov=False\n",
    "bin_cl=True\n",
    "do_cov=True\n",
    "Tri_cov=False"
   ]
  },
  {
   "cell_type": "code",
   "execution_count": 14,
   "metadata": {},
   "outputs": [],
   "source": [
    "do_pseudo_cl=False\n",
    "do_xi=True"
   ]
  },
  {
   "cell_type": "code",
   "execution_count": null,
   "metadata": {},
   "outputs": [],
   "source": [
    "use_binned_l=True\n",
    "use_binned_theta=use_binned_l"
   ]
  },
  {
   "cell_type": "code",
   "execution_count": 15,
   "metadata": {},
   "outputs": [],
   "source": [
    "corr_ggl=('galaxy','shear')\n",
    "corr_gg=('galaxy','galaxy')\n",
    "corr_ll=('shear','shear')\n",
    "corrs=[corr_ll,corr_ggl,corr_gg]\n"
   ]
  },
  {
   "cell_type": "code",
   "execution_count": null,
   "metadata": {},
   "outputs": [],
   "source": [
    "power_spectra_kwargs={'pk_lock':lock}"
   ]
  },
  {
   "cell_type": "code",
   "execution_count": 16,
   "metadata": {},
   "outputs": [
    {
     "name": "stdout",
     "output_type": "stream",
     "text": [
      "Win gen: step size 199 False True 198 33.0\n",
      "Window done. Size: 0.0\n"
     ]
    },
    {
     "name": "stderr",
     "output_type": "stream",
     "text": [
      "/verafs/scratch/phy200040p/sukhdeep/miniconda3/lib/python3.8/site-packages/skylens-0.1-py3.8.egg/skylens/cov_utils.py:74: RuntimeWarning: invalid value encountered in true_divide\n"
     ]
    }
   ],
   "source": [
    "#use all ell\n",
    "kappa0=Skylens(zs_bins=zs_bin,do_cov=do_cov,bin_cl=bin_cl,l_bins=l_bins,l=l0, zg_bins=zs_bin,\n",
    "               use_window=use_window,Tri_cov=Tri_cov,\n",
    "               use_binned_l=False,wigner_files=wigner_files,\n",
    "               SSV_cov=SSV_cov,tidal_SSV_cov=tidal_SSV_cov,f_sky=0.35,\n",
    "               store_win=store_win,window_lmax=window_lmax,\n",
    "               sparse_cov=True,corrs=corrs,\n",
    "               do_xi=do_xi,bin_xi=bin_xi,theta_bins=th_bins,WT=WT,\n",
    "                use_binned_theta=False,\n",
    "                nz_PS=10,do_pseudo_cl=do_pseudo_cl,xi_win_approx=True,\n",
    "                xi_SN_analytical=xi_SN_analytical,power_spectra_kwargs=power_spectra_kwargs\n",
    "               )"
   ]
  },
  {
   "cell_type": "raw",
   "metadata": {},
   "source": [
    "#xi0t=kappa0.tomo_short()"
   ]
  },
  {
   "cell_type": "code",
   "execution_count": null,
   "metadata": {},
   "outputs": [],
   "source": []
  },
  {
   "cell_type": "code",
   "execution_count": 17,
   "metadata": {},
   "outputs": [],
   "source": [
    "if do_xi:\n",
    "    print('doing xi')\n",
    "    xi0G=kappa0.xi_tomo()\n",
    "    xi_cov=client.compute(xi0G['stack']).result()\n",
    "    cov_inv=np.linalg.inv(xi_cov['cov'].todense())\n",
    "    data=xi_cov['xi']\n",
    "else:\n",
    "    print('doing cl')\n",
    "    cl0G=kappa0.cl_tomo()\n",
    "    cl_cov=client.compute(cl0G['stack']).result()\n",
    "    cov_inv=np.linalg.inv(cl_cov['cov'].todense())\n",
    "    data=cl_cov['pcl_b']"
   ]
  },
  {
   "cell_type": "code",
   "execution_count": null,
   "metadata": {},
   "outputs": [],
   "source": [
    "print('Got data and cov')"
   ]
  },
  {
   "cell_type": "code",
   "execution_count": 18,
   "metadata": {},
   "outputs": [],
   "source": [
    "kappa0.do_cov=False"
   ]
  },
  {
   "cell_type": "code",
   "execution_count": null,
   "metadata": {},
   "outputs": [],
   "source": [
    "kappa0=Skylens(zs_bins=zs_bin,do_cov=do_cov,bin_cl=bin_cl,l_bins=l_bins,l=l0, zg_bins=zs_bin,\n",
    "               use_window=use_window,Tri_cov=Tri_cov,\n",
    "               use_binned_l=use_binned_l,wigner_files=wigner_files,\n",
    "               SSV_cov=SSV_cov,tidal_SSV_cov=tidal_SSV_cov,f_sky=0.35,\n",
    "               store_win=store_win,window_lmax=window_lmax,\n",
    "               sparse_cov=True,corrs=corrs,\n",
    "               do_xi=do_xi,bin_xi=bin_xi,theta_bins=th_bins,WT=WT,\n",
    "                use_binned_theta=use_binned_theta,\n",
    "                nz_PS=10,do_pseudo_cl=do_pseudo_cl,xi_win_approx=True,\n",
    "                xi_SN_analytical=xi_SN_analytical,power_spectra_kwargs=power_spectra_kwargs,\n",
    "               Win=kappa0.Win\n",
    "               )"
   ]
  },
  {
   "cell_type": "code",
   "execution_count": 8,
   "metadata": {},
   "outputs": [
    {
     "ename": "NameError",
     "evalue": "name 'kappa0' is not defined",
     "output_type": "error",
     "traceback": [
      "\u001b[0;31m---------------------------------------------------------------------------\u001b[0m",
      "\u001b[0;31mNameError\u001b[0m                                 Traceback (most recent call last)",
      "\u001b[0;32m<ipython-input-8-36443469564f>\u001b[0m in \u001b[0;36m<module>\u001b[0;34m\u001b[0m\n\u001b[1;32m      4\u001b[0m \u001b[0mpriors_min\u001b[0m\u001b[0;34m=\u001b[0m\u001b[0;34m[\u001b[0m\u001b[0;36m0.5\u001b[0m\u001b[0;34m,\u001b[0m\u001b[0;36m0.5\u001b[0m\u001b[0;34m]\u001b[0m\u001b[0;34m\u001b[0m\u001b[0;34m\u001b[0m\u001b[0m\n\u001b[1;32m      5\u001b[0m \u001b[0;34m\u001b[0m\u001b[0m\n\u001b[0;32m----> 6\u001b[0;31m \u001b[0mcosmo_fid\u001b[0m\u001b[0;34m=\u001b[0m\u001b[0mkappa0\u001b[0m\u001b[0;34m.\u001b[0m\u001b[0mAng_PS\u001b[0m\u001b[0;34m.\u001b[0m\u001b[0mPS\u001b[0m\u001b[0;34m.\u001b[0m\u001b[0mcosmo_params\u001b[0m\u001b[0;34m\u001b[0m\u001b[0;34m\u001b[0m\u001b[0m\n\u001b[0m\u001b[1;32m      7\u001b[0m \u001b[0mAng_PS\u001b[0m\u001b[0;34m=\u001b[0m\u001b[0mkappa0\u001b[0m\u001b[0;34m.\u001b[0m\u001b[0mAng_PS\u001b[0m\u001b[0;34m\u001b[0m\u001b[0;34m\u001b[0m\u001b[0m\n",
      "\u001b[0;31mNameError\u001b[0m: name 'kappa0' is not defined"
     ]
    }
   ],
   "source": [
    "params_order=['b1_0','b1_1']#,'Ase9','Om']\n",
    "\n",
    "priors_max=[2,0]#,10,.5]\n",
    "priors_min=[0.5,0.5]#,0.1,0.1]\n",
    "\n",
    "cosmo_fid=kappa0.Ang_PS.PS.cosmo_params\n",
    "Ang_PS=kappa0.Ang_PS\n"
   ]
  },
  {
   "cell_type": "code",
   "execution_count": 20,
   "metadata": {},
   "outputs": [],
   "source": [
    "zs_bin1=copy.deepcopy(zs_bin)\n",
    "del_k=['window','window_cl']\n",
    "for k in del_k:\n",
    "    if zs_bin1.get(k) is not None:\n",
    "        del zs_bin1[k]\n",
    "    for i in np.arange(zs_bin1['n_bins']):\n",
    "        if zs_bin1[i].get(k) is not None:\n",
    "            del zs_bin1[i][k]"
   ]
  },
  {
   "cell_type": "code",
   "execution_count": null,
   "metadata": {},
   "outputs": [],
   "source": [
    "def get_priors(params):#assume flat priors for now\n",
    "    x=np.all(params>priors_max,axis=1)\n",
    "    x*=np.all(params<priors_max,axis=1)\n",
    "    p=np.zeros(len(params))\n",
    "    p[x]=-np.inf\n",
    "    return p"
   ]
  },
  {
   "cell_type": "code",
   "execution_count": 21,
   "metadata": {},
   "outputs": [],
   "source": [
    "def assign_zparams(zbins={},p_name='',p_value=None):\n",
    "    pp=p_name.split('_')\n",
    "    p_n=pp[0]\n",
    "    bin_indx=np.int(pp[1])\n",
    "    zbins[bin_indx][p_n]=p_value\n",
    "    return zbins"
   ]
  },
  {
   "cell_type": "code",
   "execution_count": 22,
   "metadata": {},
   "outputs": [],
   "source": [
    "def get_model(params,data,kappa0,z_bins,log_prior,indx):\n",
    "#     t1=time.time()\n",
    "#     print('get_model',params,log_prior)\n",
    "    if not np.isfinite(log_prior):\n",
    "        return np.zeros_like(data)\n",
    "#     kappa=copy.deepcopy(kappa0)\n",
    "    kappa=kappa0\n",
    "    cosmo_params=copy.deepcopy(cosmo_fid)\n",
    "    Ang_PS=copy.deepcopy(kappa.Ang_PS)\n",
    "    zbins=copy.deepcopy(z_bins)\n",
    "#     t2=time.time()\n",
    "    i=0\n",
    "    for p in params_order:\n",
    "        if cosmo_params.get(p) is not None:\n",
    "            cosmo_params[p]=params[i]\n",
    "        else:\n",
    "            zbins=assign_zparams(zbins=zbins,p_name=p,p_value=params[i])\n",
    "        i+=1\n",
    "    zbins={'galaxy':zbins,'shear':zbins}\n",
    "#     t3=time.time()\n",
    "    model=kappa.tomo_short(cosmo_params=cosmo_params,z_bins=zbins,Ang_PS=Ang_PS)\n",
    "#     print('get_model',indx,time.time()-t1,t2-t1,t3-t2)\n",
    "    return model"
   ]
  },
  {
   "cell_type": "code",
   "execution_count": 23,
   "metadata": {},
   "outputs": [],
   "source": [
    "def chi_sq(params,data,cov_inv,kappa0,z_bins):\n",
    "    t1=time.time()\n",
    "    params=np.atleast_2d(params)\n",
    "    log_priors=get_priors(params)\n",
    "#     print('params shape',params.shape)\n",
    "    n_params=len(params)\n",
    "#     models=client.map(get_model,params)\n",
    "#     print(models)\n",
    "#     models=client.gather(models)\n",
    "#     print(models.shape)\n",
    "    models={}\n",
    "    for i in np.arange(n_params):\n",
    "        models[i]=delayed(get_model)(params[i],data,kappa0,z_bins,log_priors[i],i)\n",
    "    models=client.compute(models).result()\n",
    "    models=np.array(list(models.values())) #fixme: check to ensure ordering\n",
    "    loss=data-models\n",
    "    chisq=np.zeros(n_params)-np.inf\n",
    "    for i in np.arange(n_params):\n",
    "      chisq[i]=-0.5*loss[i]@cov_inv@loss[i].T\n",
    "#     chisq=-0.5*loss@(cov_inv@loss.T)\n",
    "#     chisq=np.diag(chisq) #fixme: check to ensure ordering\n",
    "    chisq+=log_priors\n",
    "    print('chisq',time.time()-t1)\n",
    "    return chisq"
   ]
  },
  {
   "cell_type": "code",
   "execution_count": 24,
   "metadata": {},
   "outputs": [],
   "source": [
    "def ini_walkers():\n",
    "    ndim=len(params_order)\n",
    "    p0=np.zeros(ndim)\n",
    "    p0f=np.zeros(ndim)\n",
    "    i=0\n",
    "    for p in params_order:\n",
    "        if cosmo_fid.get(p) is not None:\n",
    "            p0[i]=cosmo_fid[p]\n",
    "            p0f=p0[i]*.5\n",
    "        else:\n",
    "            pp=p.split('_')\n",
    "            p_n=pp[0]\n",
    "            bin_indx=np.int(pp[1])\n",
    "#             print(bin_indx,p_n,zs_bin1[bin_indx].keys())\n",
    "            p0[i]=zs_bin1[bin_indx][p_n]\n",
    "            p0f=.2\n",
    "        i+=1\n",
    "    return p0,p0f,ndim"
   ]
  },
  {
   "cell_type": "code",
   "execution_count": 25,
   "metadata": {},
   "outputs": [],
   "source": [
    "nwalkers=100\n",
    "nsteps_burn=1\n",
    "thin=1\n",
    "ncpu=25\n",
    "nsteps=10"
   ]
  },
  {
   "cell_type": "code",
   "execution_count": 26,
   "metadata": {},
   "outputs": [],
   "source": [
    "def sample_params(fname=''):\n",
    "    p00,p0_f,ndim=ini_walkers()\n",
    "    p0 = np.random.uniform(-1,1,ndim * nwalkers).reshape((nwalkers, ndim))*p0_f*p00 + p00\n",
    "\n",
    "    outp={}\n",
    "    sampler = emcee.EnsembleSampler(nwalkers, ndim,chi_sq,threads=ncpu,a=2,vectorize=True,args=(data,cov_inv,kappa0,zs_bin1))\n",
    "                                                                #a=2 default, 5 ok\n",
    "\n",
    "    t1=time.time()\n",
    "\n",
    "    pos, prob, state = sampler.run_mcmc(p0, nsteps_burn,store=False)\n",
    "    print('done burn in '+str(time.time()-t1)+'  '+str((time.time()-t1)/3600.)+'  '+\n",
    "    str(np.mean(sampler.acceptance_fraction)))\n",
    "\n",
    "    sampler.reset()\n",
    "\n",
    "    step_size=nsteps\n",
    "#     if step_size%thin!=0 or step_size==0:\n",
    "#         step_size=max(1,int(step_size/thin)*thin+thin)\n",
    "        \n",
    "#         step_size=nsteps/10 #30\n",
    "#         if step_size%thin!=0 or step_size==0:\n",
    "#             step_size=max(1,int(step_size/thin)*thin+thin)\n",
    "#         #print 'step-size',step_size,thin\n",
    "#         steps_taken=0\n",
    "#     while steps_taken<nsteps:\n",
    "    pos, prob, state =sampler.run_mcmc(pos, step_size,thin=thin)\n",
    "\n",
    "    outp['chain']=sampler.flatchain\n",
    "    outp['p0']=p00\n",
    "    outp['params']=params_order\n",
    "    outp['ln_prob']=sampler.lnprobability.flatten()\n",
    "    outp['acceptance_fraction']=np.mean(sampler.acceptance_fraction)\n",
    "    outp['pos']=pos\n",
    "    outp['prob']=prob\n",
    "    outp['nsteps']=nsteps\n",
    "    outp['nwalkers']=nwalkers\n",
    "    outp['burnin']=nsteps_burn\n",
    "    outp['thin']=thin\n",
    "    outp['data_corrected']=self.data_corrected\n",
    "    outp['time']=time.time()-t1\n",
    "\n",
    "#     with open(fname, 'wb') as f:\n",
    "#         pickle.dump(outp,f)\n",
    "#     f.close()\n",
    "    print('Done steps '+str(steps_taken)+ ' acceptance fraction ' +str(outp['acceptance_fraction'])+'  '\n",
    "    'time'+str(time.time()-t1)+str((time.time()-t1)/3600.))\n",
    "    return outp"
   ]
  },
  {
   "cell_type": "code",
   "execution_count": 27,
   "metadata": {},
   "outputs": [],
   "source": [
    "kappa0.Ang_PS.reset()\n",
    "# kappa0.Ang_PS.angular_power_z()"
   ]
  },
  {
   "cell_type": "code",
   "execution_count": null,
   "metadata": {},
   "outputs": [],
   "source": [
    "outp=sample_params()"
   ]
  },
  {
   "cell_type": "code",
   "execution_count": null,
   "metadata": {},
   "outputs": [],
   "source": [
    "outp['l0']=l0\n",
    "outp['l_bins']=l_bins\n",
    "outp['do_xi']=do_xi\n",
    "outp['do_pseudo_cl']=do_pseudo_cl\n",
    "outp['use_binned_l']=use_binned_l\n",
    "outp['use_binned_theta']=use_binned_theta\n",
    "outp['data']=data\n",
    "outp['zbins']=zs_bin1\n",
    "outp['cov_inv']=cov_inv\n",
    "outp['params_order']=params_order\n"
   ]
  },
  {
   "cell_type": "code",
   "execution_count": null,
   "metadata": {},
   "outputs": [],
   "source": [
    "file_home='/verafs/scratch/phy200040p/sukhdeep/physics2/skylens/tests/imaster/'\n",
    "if do_xi:\n",
    "    fname_out='xi_{nz}_bl{bl}_bth{bth}_nw{nw}_ns{ns}.pkl'.format(nz=zs_bin1['nbins'],bl=np.int(use_binned_l),bth=np.int(use_binned_theta),ns=nsteps,nw=nwalkers)\n",
    "if do_pseudo_cl:\n",
    "    fname_out='pcl_{nz}_bl_bth.pkl'.format(nz=zs_bin1['nbins'],bl=np.int(use_binned_l),bth=np.int(use_binned_theta))\n",
    "fname_out=file_home+fname_out\n",
    "with open(fname_out, 'wb') as f:\n",
    "    pickle.dump(outp,f)"
   ]
  },
  {
   "cell_type": "code",
   "execution_count": 2,
   "metadata": {},
   "outputs": [],
   "source": [
    "from skylens import *\n",
    "PS=Power_Spectra()"
   ]
  },
  {
   "cell_type": "code",
   "execution_count": 4,
   "metadata": {},
   "outputs": [
    {
     "data": {
      "text/plain": [
       "(array([[1.18095067e+03, 1.18750417e+03, 1.19409373e+03, ...,\n",
       "         8.37385489e-01, 8.26455710e-01, 8.15664239e-01],\n",
       "        [1.06265988e+03, 1.06855714e+03, 1.07448684e+03, ...,\n",
       "         6.99443458e-01, 6.90296485e-01, 6.81265534e-01],\n",
       "        [9.56659474e+02, 9.61968679e+02, 9.67307096e+02, ...,\n",
       "         5.92366716e-01, 5.84612038e-01, 5.76955835e-01],\n",
       "        ...,\n",
       "        [5.81866190e+02, 5.85095948e+02, 5.88343484e+02, ...,\n",
       "         2.97949528e-01, 2.94060837e-01, 2.90221345e-01],\n",
       "        [5.30893595e+02, 5.33840524e+02, 5.36803678e+02, ...,\n",
       "         2.65032086e-01, 2.61577951e-01, 2.58167442e-01],\n",
       "        [4.85752575e+02, 4.88449017e+02, 4.91160307e+02, ...,\n",
       "         2.36917332e-01, 2.33834056e-01, 2.30789656e-01]]),\n",
       " array([3.00000000e-04, 3.01732788e-04, 3.03475584e-04, ...,\n",
       "        2.96564220e+01, 2.98277163e+01, 3.00000000e+01]))"
      ]
     },
     "execution_count": 4,
     "metadata": {},
     "output_type": "execute_result"
    }
   ],
   "source": [
    "z1=np.linspace(.1,1,10)\n",
    "%time PS.pk_func(z=z1)"
   ]
  },
  {
   "cell_type": "code",
   "execution_count": 5,
   "metadata": {},
   "outputs": [
    {
     "data": {
      "text/plain": [
       "(array([[1.18095067e+03, 1.18750417e+03, 1.19409373e+03, ...,\n",
       "         8.37385489e-01, 8.26455710e-01, 8.15664239e-01],\n",
       "        [1.16968045e+03, 1.17617142e+03, 1.18269810e+03, ...,\n",
       "         8.23254958e-01, 8.12507032e-01, 8.01895148e-01],\n",
       "        [1.15851391e+03, 1.16494293e+03, 1.17140732e+03, ...,\n",
       "         8.09471848e-01, 7.98901431e-01, 7.88464842e-01],\n",
       "        ...,\n",
       "        [4.93561330e+02, 4.96301103e+02, 4.99055960e+02, ...,\n",
       "         2.41708755e-01, 2.38562299e-01, 2.35455528e-01],\n",
       "        [4.89635747e+02, 4.92353736e+02, 4.95086691e+02, ...,\n",
       "         2.39297442e-01, 2.36182775e-01, 2.33107387e-01],\n",
       "        [4.85752575e+02, 4.88449017e+02, 4.91160307e+02, ...,\n",
       "         2.36917332e-01, 2.33834056e-01, 2.30789656e-01]]),\n",
       " array([3.00000000e-04, 3.01732788e-04, 3.03475584e-04, ...,\n",
       "        2.96564220e+01, 2.98277163e+01, 3.00000000e+01]))"
      ]
     },
     "execution_count": 5,
     "metadata": {},
     "output_type": "execute_result"
    }
   ],
   "source": [
    "z1=np.linspace(.1,1,100)\n",
    "%time PS.pk_func(z=z1)"
   ]
  },
  {
   "cell_type": "code",
   "execution_count": null,
   "metadata": {},
   "outputs": [],
   "source": []
  }
 ],
 "metadata": {
  "kernelspec": {
   "display_name": "Python 3",
   "language": "python",
   "name": "python3"
  },
  "language_info": {
   "codemirror_mode": {
    "name": "ipython",
    "version": 3
   },
   "file_extension": ".py",
   "mimetype": "text/x-python",
   "name": "python",
   "nbconvert_exporter": "python",
   "pygments_lexer": "ipython3",
   "version": "3.8.3"
  }
 },
 "nbformat": 4,
 "nbformat_minor": 4
}
