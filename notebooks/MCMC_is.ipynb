{
 "cells": [
  {
   "cell_type": "code",
   "execution_count": 1,
   "metadata": {},
   "outputs": [],
   "source": [
    "from skylens import *"
   ]
  },
  {
   "cell_type": "code",
   "execution_count": 2,
   "metadata": {},
   "outputs": [],
   "source": [
    "from dask.distributed import Lock"
   ]
  },
  {
   "cell_type": "code",
   "execution_count": 3,
   "metadata": {},
   "outputs": [],
   "source": [
    "import faulthandler; faulthandler.enable()"
   ]
  },
  {
   "cell_type": "code",
   "execution_count": 4,
   "metadata": {},
   "outputs": [],
   "source": [
    "import scipy.stats\n",
    "import qmcpy"
   ]
  },
  {
   "cell_type": "code",
   "execution_count": 5,
   "metadata": {},
   "outputs": [],
   "source": [
    "import multiprocessing\n",
    "ncpu=multiprocessing.cpu_count()-1\n",
    "vmem=psutil.virtual_memory()\n",
    "mem=str(vmem.total/(1024**3)*0.95)+'GB'"
   ]
  },
  {
   "cell_type": "code",
   "execution_count": 6,
   "metadata": {},
   "outputs": [
    {
     "name": "stdout",
     "output_type": "stream",
     "text": [
      "Start_client: No scheduler file, will start local cluster at  ./temp_skylens/pid26414/\n",
      "client:  <Client: 'tcp://127.0.0.1:45743' processes=5 threads=5, memory=600.00 GB>\n"
     ]
    }
   ],
   "source": [
    "from distributed import LocalCluster\n",
    "from dask.distributed import Client  # we already had this above\n",
    "#http://distributed.readthedocs.io/en/latest/_modules/distributed/worker.html\n",
    "ncpu=5 #multiprocessing.cpu_count()-1\n",
    "LC,scheduler_info=start_client(ncpu=None,n_workers=ncpu,threads_per_worker=1,\n",
    "                                  memory_limit='120gb',dashboard_address=8801,processes=True)\n",
    "client=client_get(scheduler_info=scheduler_info)\n",
    "print('client: ',client)#,dask_dir,scheduler_info)\n"
   ]
  },
  {
   "cell_type": "code",
   "execution_count": 7,
   "metadata": {},
   "outputs": [],
   "source": [
    "wigner_files={}\n",
    "# wigner_files[0]= '/Users/Deep/dask_temp/dask_wig3j_l3500_w2100_0_reorder.zarr'\n",
    "# wigner_files[2]= '/Users/Deep/dask_temp/dask_wig3j_l3500_w2100_2_reorder.zarr'\n",
    "wig_home='/verafs/scratch/phy200040p/sukhdeep/physics2/skylens/temp/'\n",
    "wigner_files[0]= wig_home+'dask_wig3j_l3500_w2100_0_reorder.zarr'\n",
    "wigner_files[2]= wig_home+'/dask_wig3j_l3500_w2100_2_reorder.zarr'\n"
   ]
  },
  {
   "cell_type": "code",
   "execution_count": 8,
   "metadata": {},
   "outputs": [],
   "source": [
    "#setup parameters\n",
    "bin_cl=True\n",
    "lmax_cl=200\n",
    "lmin_cl=2\n",
    "l0=np.arange(lmin_cl,lmax_cl)\n",
    "\n",
    "lmin_cl_Bins=lmin_cl+10\n",
    "lmax_cl_Bins=lmax_cl-10\n",
    "Nl_bins=25\n",
    "l_bins=np.int64(np.logspace(np.log10(lmin_cl_Bins),np.log10(lmax_cl_Bins),Nl_bins+1))\n",
    "lb=np.sqrt(l_bins[1:]*l_bins[:-1])\n",
    "\n",
    "l=np.unique(np.int64(np.logspace(np.log10(lmin_cl),np.log10(lmax_cl),Nl_bins*20))) #if we want to use fewer ell\n",
    "bin_cl=True"
   ]
  },
  {
   "cell_type": "code",
   "execution_count": 9,
   "metadata": {},
   "outputs": [],
   "source": [
    "xi_win_approx=True\n",
    "bin_xi=True\n",
    "xi_SN_analytical=True\n",
    "th_min=25/60\n",
    "th_max=250./60\n",
    "n_th_bins=20\n",
    "th_bins=np.logspace(np.log10(th_min),np.log10(th_max),n_th_bins+1)\n",
    "th=np.logspace(np.log10(th_min),np.log10(th_max),n_th_bins*40)\n",
    "thb=np.sqrt(th_bins[1:]*th_bins[:-1])"
   ]
  },
  {
   "cell_type": "code",
   "execution_count": 10,
   "metadata": {},
   "outputs": [],
   "source": [
    "WT=None"
   ]
  },
  {
   "cell_type": "code",
   "execution_count": null,
   "metadata": {},
   "outputs": [],
   "source": [
    "do_pseudo_cl=True\n",
    "do_xi=False"
   ]
  },
  {
   "cell_type": "code",
   "execution_count": null,
   "metadata": {},
   "outputs": [],
   "source": [
    "if do_xi:\n",
    "    WT_kwargs={'l':l0,'theta':th*d2r,'s1_s2':[(2,2),(2,-2),(0,0),(0,2)]}\n",
    "    WT=wigner_transform(wig_d_taper_order_low=6,wig_d_taper_order_high=8,**WT_kwargs)\n"
   ]
  },
  {
   "cell_type": "code",
   "execution_count": 11,
   "metadata": {},
   "outputs": [],
   "source": [
    "do_cov=True\n",
    "\n",
    "SSV_cov=False\n",
    "tidal_SSV_cov=False\n",
    "Tri_cov=True"
   ]
  },
  {
   "cell_type": "code",
   "execution_count": 12,
   "metadata": {},
   "outputs": [],
   "source": [
    "use_window=False\n",
    "store_win=False\n",
    "\n",
    "nside=32\n",
    "window_lmax=nside"
   ]
  },
  {
   "cell_type": "code",
   "execution_count": 13,
   "metadata": {},
   "outputs": [
    {
     "name": "stdout",
     "output_type": "stream",
     "text": [
      "ns0:  27.0\n",
      "[0.1   0.101 0.102 ... 2.998 2.999 3.   ] 100 5\n",
      "source_tomo_bins, zmax 5.0 2.999799959991998 0.5999699939987997\n",
      "Tracer utils has no tracers\n"
     ]
    }
   ],
   "source": [
    "nzbins=2\n",
    "zs_bin=lsst_source_tomo_bins(nbins=nzbins,use_window=use_window,nside=nside)"
   ]
  },
  {
   "cell_type": "code",
   "execution_count": 14,
   "metadata": {},
   "outputs": [],
   "source": [
    "do_cov=True"
   ]
  },
  {
   "cell_type": "code",
   "execution_count": 15,
   "metadata": {},
   "outputs": [],
   "source": [
    "SSV_cov=False\n",
    "bin_cl=True\n",
    "do_cov=True\n",
    "Tri_cov=False"
   ]
  },
  {
   "cell_type": "code",
   "execution_count": 17,
   "metadata": {},
   "outputs": [],
   "source": [
    "use_binned_l=True\n",
    "use_binned_theta=use_binned_l"
   ]
  },
  {
   "cell_type": "code",
   "execution_count": 18,
   "metadata": {},
   "outputs": [],
   "source": [
    "corr_ggl=('galaxy','shear')\n",
    "corr_gg=('galaxy','galaxy')\n",
    "corr_ll=('shear','shear')\n",
    "corrs=[corr_ll,corr_ggl,corr_gg]\n"
   ]
  },
  {
   "cell_type": "code",
   "execution_count": 19,
   "metadata": {},
   "outputs": [],
   "source": [
    "power_spectra_kwargs={} #{'pk_lock':lock}"
   ]
  },
  {
   "cell_type": "code",
   "execution_count": 20,
   "metadata": {},
   "outputs": [
    {
     "name": "stdout",
     "output_type": "stream",
     "text": [
      "pk_params dict was none, intialized with default\n",
      "cosmo_params dict was none, intialized with default\n",
      "cosmology interpolation range 0.0 5.015\n",
      "power spectra camb_pk_too_many_z\n",
      "Win gen: step size 19 198 33.0 10\n",
      "Window done. Size: 0.0\n"
     ]
    },
    {
     "name": "stderr",
     "output_type": "stream",
     "text": [
      "/verafs/scratch/phy200040p/sukhdeep/miniconda3/lib/python3.8/site-packages/skylens-0.1-py3.8.egg/skylens/cov_utils.py:91\n",
      "\tRuntimeWarning: invalid value encountered in true_divide\n"
     ]
    }
   ],
   "source": [
    "#use all ell\n",
    "kappa0=Skylens(shear_zbins=zs_bin,do_cov=do_cov,bin_cl=bin_cl,l_bins=l_bins,l=l0, galaxy_zbins=zs_bin,\n",
    "               use_window=use_window,Tri_cov=Tri_cov,\n",
    "               use_binned_l=False,wigner_files=wigner_files,\n",
    "               SSV_cov=SSV_cov,tidal_SSV_cov=tidal_SSV_cov,f_sky=0.35,\n",
    "               store_win=store_win,window_lmax=window_lmax,\n",
    "               sparse_cov=True,corrs=corrs,\n",
    "               do_xi=do_xi,bin_xi=bin_xi,theta_bins=th_bins,WT=WT,\n",
    "                use_binned_theta=False,\n",
    "                nz_PS=10,do_pseudo_cl=do_pseudo_cl,xi_win_approx=True,\n",
    "                xi_SN_analytical=xi_SN_analytical,#power_spectra_kwargs=power_spectra_kwargs\n",
    "               )"
   ]
  },
  {
   "cell_type": "code",
   "execution_count": 21,
   "metadata": {},
   "outputs": [
    {
     "name": "stdout",
     "output_type": "stream",
     "text": [
      "doing cl\n"
     ]
    },
    {
     "name": "stderr",
     "output_type": "stream",
     "text": [
      "/verafs/scratch/phy200040p/sukhdeep/miniconda3/lib/python3.8/site-packages/skylens-0.1-py3.8.egg/skylens/angular_power_spectra.py:115\n",
      "\tRuntimeWarning: divide by zero encountered in true_divide\n"
     ]
    },
    {
     "name": "stdout",
     "output_type": "stream",
     "text": [
      "scatter_dict got empty dictionary\n",
      "cl graph done\n",
      "gather_dict got empty dictionary\n",
      "cl cov graph done\n"
     ]
    }
   ],
   "source": [
    "if do_xi:\n",
    "    print('doing xi')\n",
    "    xi0G=kappa0.xi_tomo()\n",
    "    xi_cov=client.compute(xi0G['stack']).result()\n",
    "    cov_inv=np.linalg.inv(xi_cov['cov'].todense())\n",
    "    data=xi_cov['xi']\n",
    "else:\n",
    "    print('doing cl')\n",
    "    cl0G=kappa0.cl_tomo()\n",
    "    cl_cov=client.compute(cl0G['stack']).result()\n",
    "    cov_inv=np.linalg.inv(cl_cov['cov'].todense())\n",
    "    data=cl_cov['pcl_b']"
   ]
  },
  {
   "cell_type": "code",
   "execution_count": 22,
   "metadata": {},
   "outputs": [
    {
     "name": "stdout",
     "output_type": "stream",
     "text": [
      "Got data and cov\n"
     ]
    }
   ],
   "source": [
    "\n",
    "print('Got data and cov')"
   ]
  },
  {
   "cell_type": "code",
   "execution_count": 23,
   "metadata": {},
   "outputs": [],
   "source": [
    "kappa0.do_cov=False"
   ]
  },
  {
   "cell_type": "code",
   "execution_count": 24,
   "metadata": {},
   "outputs": [
    {
     "name": "stdout",
     "output_type": "stream",
     "text": [
      "pk_params dict was none, intialized with default\n",
      "cosmo_params dict was none, intialized with default\n",
      "cosmology interpolation range 0.0 5.015\n",
      "power spectra camb_pk_too_many_z\n",
      "Win gen: step size 19 198 33.0 10\n",
      "Window done. Size: 0.0\n",
      "pk_params dict was none, intialized with default\n",
      "cosmo_params dict was none, intialized with default\n",
      "cosmology interpolation range 0.0 5.015\n",
      "power spectra camb_pk_too_many_z\n",
      "Win gen: step size 2 25 33.0 10\n",
      "Window done. Size: 0.0\n",
      "scatter_dict got empty dictionary\n",
      "cl graph done\n",
      "gather_dict got empty dictionary\n",
      "scatter_dict got empty dictionary\n",
      "cl graph done\n",
      "gather_dict got empty dictionary\n",
      "set binned measure done\n",
      "pk_params dict was none, intialized with default\n",
      "cosmo_params dict was none, intialized with default\n",
      "cosmology interpolation range 0.0 5.015\n",
      "power spectra camb_pk_too_many_z\n",
      "Win gen: step size 19 198 33.0 10\n",
      "scatter_dict got empty dictionary\n",
      "cl graph done\n",
      "gather_dict got empty dictionary\n",
      "scatter_dict got empty dictionary\n",
      "cl graph done\n",
      "gather_dict got empty dictionary\n",
      "Window done. Size: 0.0\n"
     ]
    }
   ],
   "source": [
    "kappa0=Skylens(shear_zbins=zs_bin,do_cov=do_cov,bin_cl=bin_cl,l_bins=l_bins,l=l0, galaxy_zbins=zs_bin,\n",
    "               use_window=use_window,Tri_cov=Tri_cov,\n",
    "               use_binned_l=use_binned_l,wigner_files=wigner_files,\n",
    "               SSV_cov=SSV_cov,tidal_SSV_cov=tidal_SSV_cov,f_sky=0.35,\n",
    "               store_win=store_win,window_lmax=window_lmax,\n",
    "               sparse_cov=True,corrs=corrs,\n",
    "               do_xi=do_xi,bin_xi=bin_xi,theta_bins=th_bins,WT=WT,\n",
    "                use_binned_theta=use_binned_theta,\n",
    "                nz_PS=10,do_pseudo_cl=do_pseudo_cl,xi_win_approx=True,\n",
    "                xi_SN_analytical=xi_SN_analytical,#power_spectra_kwargs=power_spectra_kwargs,\n",
    "               Win=kappa0.Win\n",
    "               )"
   ]
  },
  {
   "cell_type": "code",
   "execution_count": 25,
   "metadata": {},
   "outputs": [],
   "source": [
    "params_order=['b1_0','b1_1']#,'Ase9','Om']\n",
    "ndim=len(params_order)\n",
    "priors_mean=[]#,10,.5]\n",
    "priors_cov=np.eye(ndim)*0.5\n",
    "\n",
    "cosmo_fid=kappa0.Ang_PS.PS.cosmo_params\n",
    "Ang_PS=kappa0.Ang_PS\n"
   ]
  },
  {
   "cell_type": "code",
   "execution_count": 41,
   "metadata": {},
   "outputs": [
    {
     "data": {
      "text/plain": [
       "array([[1, 0],\n",
       "       [0, 1]])"
      ]
     },
     "execution_count": 41,
     "metadata": {},
     "output_type": "execute_result"
    }
   ],
   "source": [
    "np.diag([1,1])"
   ]
  },
  {
   "cell_type": "code",
   "execution_count": 26,
   "metadata": {},
   "outputs": [],
   "source": [
    "zs_bin1=copy.deepcopy(zs_bin)\n",
    "del_k=['window','window_cl']\n",
    "for k in del_k:\n",
    "    if zs_bin1.get(k) is not None:\n",
    "        del zs_bin1[k]\n",
    "    for i in np.arange(zs_bin1['n_bins']):\n",
    "        if zs_bin1[i].get(k) is not None:\n",
    "            del zs_bin1[i][k]"
   ]
  },
  {
   "cell_type": "code",
   "execution_count": 27,
   "metadata": {},
   "outputs": [],
   "source": [
    "def get_priors(params):#assume flat priors for now\n",
    "    p=scipy.stats.multivariate_normal.pdf(params,mean=priors_mean,cov=priors_cov)\n",
    "#     x=np.all(params>priors_max,axis=1)\n",
    "#     x*=np.all(params<priors_max,axis=1)\n",
    "#     p=np.zeros(len(params))\n",
    "#     p[x]=-np.inf\n",
    "    return p"
   ]
  },
  {
   "cell_type": "code",
   "execution_count": 28,
   "metadata": {},
   "outputs": [],
   "source": [
    "def assign_zparams(zbins={},p_name='',p_value=None):\n",
    "    pp=p_name.split('_')\n",
    "    p_n=pp[0]\n",
    "    bin_indx=np.int(pp[1])\n",
    "    zbins[bin_indx][p_n]=p_value\n",
    "    return zbins"
   ]
  },
  {
   "cell_type": "code",
   "execution_count": 29,
   "metadata": {},
   "outputs": [],
   "source": [
    "def get_model(params,data,kappa0,z_bins,log_prior,indx):\n",
    "#     t1=time.time()\n",
    "#     print('get_model',params,log_prior)\n",
    "    if not np.isfinite(log_prior):\n",
    "        return np.zeros_like(data)\n",
    "#     kappa=copy.deepcopy(kappa0)\n",
    "    kappa=kappa0\n",
    "    cosmo_params=copy.deepcopy(cosmo_fid)\n",
    "    Ang_PS=copy.deepcopy(kappa.Ang_PS)\n",
    "    zbins=copy.deepcopy(z_bins)\n",
    "#     t2=time.time()\n",
    "    i=0\n",
    "    for p in params_order:\n",
    "        if cosmo_params.get(p) is not None:\n",
    "            cosmo_params[p]=params[i]\n",
    "        else:\n",
    "            zbins=assign_zparams(zbins=zbins,p_name=p,p_value=params[i])\n",
    "        i+=1\n",
    "    zbins={'galaxy':zbins,'shear':zbins}\n",
    "#     t3=time.time()\n",
    "    model=kappa.tomo_short(cosmo_params=cosmo_params,z_bins=zbins,Ang_PS=Ang_PS)\n",
    "#     print('get_model',indx,time.time()-t1,t2-t1,t3-t2)\n",
    "    return model"
   ]
  },
  {
   "cell_type": "code",
   "execution_count": 30,
   "metadata": {},
   "outputs": [],
   "source": [
    "def chi_sq(params,data,cov_inv,kappa0,z_bins):\n",
    "    t1=time.time()\n",
    "    params=np.atleast_2d(params)\n",
    "    log_priors=get_priors(params)\n",
    "#     print('params shape',params.shape)\n",
    "    n_params=len(params)\n",
    "#     models=client.map(get_model,params)\n",
    "#     print(models)\n",
    "#     models=client.gather(models)\n",
    "#     print(models.shape)\n",
    "    models={}\n",
    "    for i in np.arange(n_params):\n",
    "        models[i]=delayed(get_model)(params[i],data,kappa0,z_bins,log_priors[i],i)\n",
    "    models=client.compute(models).result()\n",
    "    models=np.array(list(models.values())) #fixme: check to ensure ordering\n",
    "    loss=data-models\n",
    "    chisq=np.zeros(n_params)-np.inf\n",
    "    for i in np.arange(n_params):\n",
    "      chisq[i]=-0.5*loss[i]@cov_inv@loss[i].T\n",
    "#     chisq=-0.5*loss@(cov_inv@loss.T)\n",
    "#     chisq=np.diag(chisq) #fixme: check to ensure ordering\n",
    "    chisq+=log_priors\n",
    "    print('chisq',time.time()-t1)\n",
    "    return chisq"
   ]
  },
  {
   "cell_type": "code",
   "execution_count": 31,
   "metadata": {},
   "outputs": [],
   "source": [
    "#for student-t, not guaranteed to work at df<3\n",
    "class Sample_dist():\n",
    "    def __init__(self,mean,cov,dist='norm',ndim=2,samples_uniform=None,dist_kwargs={},dist_args=[],df=3,grid='Sobol',N_points=512**2):\n",
    "        self.__dict__.update(locals())\n",
    "        self.dist1d=getattr(scipy.stats,dist)\n",
    "        if dist=='t':\n",
    "            x=self.samples_uniform==0\n",
    "            if np.any(x):\n",
    "                print('moving 0 in uniform sample to 1.e-20 to avoid -np.inf')\n",
    "                self.samples_uniform[x]=1.e-20\n",
    "        if samples_uniform is None:\n",
    "            self.grid=getattr(qmcpy,grid)\n",
    "            self.grid=self.grid(dimension=ndim,randomize=True) \n",
    "            self.samples_uniform=self.grid.gen_samples(N_points)\n",
    "        self.cov_diag()\n",
    "#         self.samples_transform()\n",
    "    def cov_diag(self):\n",
    "        self.eig_val,self.eig_vec=np.linalg.eig(self.cov)\n",
    "        self.eig_vec_inv=np.linalg.inv(self.eig_vec)\n",
    "        self.cov_diag=self.eig_vec.T@self.cov@self.eig_vec\n",
    "        self.err_diag=np.sqrt(np.diag(self.cov_diag))\n",
    "        \n",
    "    def samples_transform_norm(self):\n",
    "        samples_trans=np.zeros_like(self.samples_uniform)\n",
    "        for i in np.arange(self.ndim):\n",
    "            samples_trans[:,i]=scipy.stats.norm.ppf(self.samples_uniform[:,i],loc=0,scale=self.err_diag[i])#,**self.dist_kwargs)\n",
    "        samples_trans=samples_trans@self.eig_vec_inv #FIXME: some problem with t dist at df<=2 (covariance is undefined)\n",
    "        samples_trans+=self.mean\n",
    "        self.samples_trans=samples_trans\n",
    "    \n",
    "    def samples_transform_t2(self):#appears not to work well at low df with non-diag covariance, though pdf test is passed\n",
    "                                    #problem is small errors in ppf function, primarily due to numerical errors in numpy.\n",
    "                                    #mpmath helps, but is very slow.\n",
    "        \"\"\"\n",
    "                pv=np.linspace(-10**4,10**4,100)\n",
    "                qv=scipy.stats.t.cdf(pv,df=30,loc=0,scale=1)\n",
    "                pv2=scipy.stats.t.ppf(qv,df=30,loc=0,scale=1)\n",
    "                np.all(np.isclose(pv,pv2)),np.all(pv==pv2)\n",
    "                np.all(np.isclose(np.tan(np.arctan(pv)),pv)) #this passes\n",
    "                np.all(np.tan(np.arctan(pv))==pv)#this fails\n",
    "        \"\"\"\n",
    "        samples_trans=np.zeros_like(self.samples_uniform)\n",
    "        for i in np.arange(self.ndim):\n",
    "            samples_trans[:,i]=student_t_ppf(self.samples_uniform[:,i],loc=0,scale=self.err_diag[i],df=self.df)\n",
    "        self.prob_t2=scipy.stats.multivariate_t.pdf(samples_trans,loc=self.mean*0,df=self.df,shape=self.cov_diag)\n",
    "        \n",
    "        samples_trans=samples_trans@self.eig_vec_inv #FIXME: some problem with t dist at df<=2 (covariance is undefined)\n",
    "        samples_trans+=self.mean\n",
    "        \n",
    "        self.samples_trans_t2=samples_trans\n",
    "        self.prob_t22=scipy.stats.multivariate_t.pdf(samples_trans,loc=self.mean,df=self.df,shape=self.cov)\n",
    "        self.prob_norm_t2=scipy.stats.multivariate_normal.pdf(samples_trans,mean=self.mean,cov=self.cov)\n",
    "        print('samples_transform_t2, pdf test:',np.all(np.isclose(self.prob_t2,self.prob_t22)), np.all(self.prob_t2==self.prob_t22))\n",
    "\n",
    "    def samples_transform_t(self):\n",
    "        self.samples_transform_norm()\n",
    "        \n",
    "        self.chi2=scipy.stats.chi2.ppf(self.samples_uniform[:,0],df=self.df,loc=0,scale=1)\n",
    "        self.chi2/=self.df\n",
    "        \n",
    "        self.samples_trans-=self.mean\n",
    "        self.samples_trans/=np.random.permutation(np.sqrt(self.chi2[:,None]))\n",
    "        self.samples_trans+=self.mean\n",
    "        \n",
    "        self.prob=scipy.stats.multivariate_t.pdf(self.samples_trans,loc=self.mean,df=self.df,shape=self.cov)\n",
    "        self.prob_norm=scipy.stats.multivariate_normal.pdf(self.samples_trans,mean=self.mean,cov=self.cov)"
   ]
  },
  {
   "cell_type": "code",
   "execution_count": 32,
   "metadata": {},
   "outputs": [],
   "source": [
    "def get_samples(sample_dist='t',N_points=512**2,grid='Sobol'):\n",
    "    ndim=len(params_order)\n",
    "    p0=priors_mean\n",
    "    cov=priors_cov\n",
    "    sd=Sample_dist(grid=grid,N_points=N_points,dist=sample_dist,mean=priors_mean,cov=cov,ndim=ndim)\n",
    "    if sample_dist=='t':\n",
    "        sd.samples_transform_t()\n",
    "    if sample_dist=='norm':\n",
    "        sd.samples_transform_norm()\n",
    "    return sd"
   ]
  },
  {
   "cell_type": "code",
   "execution_count": 33,
   "metadata": {},
   "outputs": [],
   "source": [
    "N_points=512\n",
    "grid='Sobol'\n",
    "sample_dist='t'"
   ]
  },
  {
   "cell_type": "code",
   "execution_count": 34,
   "metadata": {},
   "outputs": [],
   "source": [
    "ncpu=25"
   ]
  },
  {
   "cell_type": "code",
   "execution_count": 38,
   "metadata": {},
   "outputs": [],
   "source": [
    "def sample_params(fname=''):\n",
    "    Sample_dist=get_samples(N_points=N_points,grid=grid,sample_dist=sample_dist)\n",
    "    chisq_wts=chi_sq(Sample_dist.samples_trans,data,cov_inv,kappa0,zs_bin1)\n",
    "    outp={}\n",
    "    outp['chain']=Sample_dist.samples_trans\n",
    "    outp['p0']=Sample_dist.prob\n",
    "    outp['params']=params_order\n",
    "    outp['ln_prob']=chisq_wts\n",
    "    return outp"
   ]
  },
  {
   "cell_type": "code",
   "execution_count": 39,
   "metadata": {},
   "outputs": [],
   "source": [
    "kappa0.Ang_PS.reset()\n",
    "# kappa0.Ang_PS.angular_power_z()"
   ]
  },
  {
   "cell_type": "code",
   "execution_count": 40,
   "metadata": {},
   "outputs": [
    {
     "name": "stdout",
     "output_type": "stream",
     "text": [
      "chisq 300.45402455329895\n"
     ]
    }
   ],
   "source": [
    "outp=sample_params()"
   ]
  },
  {
   "cell_type": "code",
   "execution_count": null,
   "metadata": {},
   "outputs": [],
   "source": [
    "outp['l0']=l0\n",
    "outp['l_bins']=l_bins\n",
    "outp['do_xi']=do_xi\n",
    "outp['do_pseudo_cl']=do_pseudo_cl\n",
    "outp['use_binned_l']=use_binned_l\n",
    "outp['use_binned_theta']=use_binned_theta\n",
    "outp['data']=data\n",
    "outp['zbins']=zs_bin1\n",
    "outp['cov_inv']=cov_inv\n",
    "outp['params_order']=params_order\n"
   ]
  },
  {
   "cell_type": "code",
   "execution_count": null,
   "metadata": {},
   "outputs": [],
   "source": [
    "file_home='/verafs/scratch/phy200040p/sukhdeep/physics2/skylens/tests/imaster/'\n",
    "if do_xi:\n",
    "    fname_out='xi_{nz}_bl{bl}_bth{bth}_nw{nw}_ns{ns}.pkl'.format(nz=zs_bin1['nbins'],bl=np.int(use_binned_l),bth=np.int(use_binned_theta),ns=nsteps,nw=nwalkers)\n",
    "if do_pseudo_cl:\n",
    "    fname_out='pcl_{nz}_bl_bth.pkl'.format(nz=zs_bin1['nbins'],bl=np.int(use_binned_l),bth=np.int(use_binned_theta))\n",
    "fname_out=file_home+fname_out\n",
    "with open(fname_out, 'wb') as f:\n",
    "    pickle.dump(outp,f)"
   ]
  },
  {
   "cell_type": "code",
   "execution_count": null,
   "metadata": {},
   "outputs": [],
   "source": [
    "from skylens import *\n",
    "PS=Power_Spectra()"
   ]
  },
  {
   "cell_type": "code",
   "execution_count": null,
   "metadata": {},
   "outputs": [],
   "source": [
    "z1=np.linspace(.1,1,10)\n",
    "%time PS.pk_func(z=z1)"
   ]
  },
  {
   "cell_type": "code",
   "execution_count": null,
   "metadata": {},
   "outputs": [],
   "source": [
    "z1=np.linspace(.1,1,100)\n",
    "%time PS.pk_func(z=z1)"
   ]
  },
  {
   "cell_type": "code",
   "execution_count": null,
   "metadata": {},
   "outputs": [],
   "source": []
  }
 ],
 "metadata": {
  "kernelspec": {
   "display_name": "conda",
   "language": "python",
   "name": "conda"
  }
 },
 "nbformat": 4,
 "nbformat_minor": 4
}
