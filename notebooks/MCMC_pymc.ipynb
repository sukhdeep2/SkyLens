{
 "cells": [
  {
   "cell_type": "code",
   "execution_count": 1,
   "metadata": {},
   "outputs": [],
   "source": [
    "import jax.numpy as jnp\n",
    "from jax import grad\n",
    "from jax import jit\n",
    "from jax import random\n",
    "from jax import value_and_grad\n",
    "from jax import vmap\n",
    "from tensorflow_probability.substrates import jax as tfp\n",
    "import corner\n",
    "\n",
    "#pip install tfp-nightly[jax]  #for jax aware tfp\n",
    "\n",
    "# import tensorflow_probability as tfp\n",
    "# import tensorflow as tf\n",
    "\n",
    "from skylens import *"
   ]
  },
  {
   "cell_type": "code",
   "execution_count": 2,
   "metadata": {},
   "outputs": [],
   "source": [
    "from dask.distributed import Lock"
   ]
  },
  {
   "cell_type": "code",
   "execution_count": 3,
   "metadata": {},
   "outputs": [],
   "source": [
    "import faulthandler; faulthandler.enable()"
   ]
  },
  {
   "cell_type": "code",
   "execution_count": 4,
   "metadata": {},
   "outputs": [],
   "source": [
    "import multiprocessing\n",
    "ncpu=multiprocessing.cpu_count()-1\n",
    "vmem=psutil.virtual_memory()\n",
    "mem=str(vmem.total/(1024**3)*0.95)+'GB'"
   ]
  },
  {
   "cell_type": "code",
   "execution_count": 5,
   "metadata": {},
   "outputs": [
    {
     "name": "stderr",
     "output_type": "stream",
     "text": [
      "/verafs/home/sukhdeep/.local/lib/python3.8/site-packages/distributed-2.30.1-py3.8.egg/distributed/node.py:151: UserWarning: Port 8787 is already in use.\n",
      "Perhaps you already have a cluster running?\n",
      "Hosting the HTTP server on port 35219 instead\n",
      "  warnings.warn(\n"
     ]
    }
   ],
   "source": [
    "from distributed import LocalCluster\n",
    "from dask.distributed import Client  # we already had this above\n",
    "#http://distributed.readthedocs.io/en/latest/_modules/distributed/worker.html\n",
    "c=LocalCluster(n_workers=1,processes=False,memory_limit=mem,threads_per_worker=ncpu,memory_spill_fraction=.99,\n",
    "               memory_monitor_interval='2000ms')\n",
    "client=Client(c)"
   ]
  },
  {
   "cell_type": "code",
   "execution_count": 6,
   "metadata": {},
   "outputs": [],
   "source": [
    "test_run=True"
   ]
  },
  {
   "cell_type": "code",
   "execution_count": 7,
   "metadata": {},
   "outputs": [],
   "source": [
    "lock = Lock(name=\"Why_Camb_Why\",client=client)\n",
    "#We get segmentation fault if camb is not under lock and multiple instances are called (tested on single node).\n",
    "# Why camb is called, multiple instances run, but they all rely on same underlying fortran objects and there are race conditions.\n",
    "# I tried pickling camb, but Camb cannot be pickled because it's a fortran wrapper and pickle doesn't really know what to do with it. deepcopy throws same error too.\n",
    "# deepcopy of Ang_PS doesn't capture it because there is no camb object stored as part of PS. It is simply called.\n"
   ]
  },
  {
   "cell_type": "code",
   "execution_count": 8,
   "metadata": {},
   "outputs": [],
   "source": [
    "wigner_files={}\n",
    "# wigner_files[0]= '/Users/Deep/dask_temp/dask_wig3j_l3500_w2100_0_reorder.zarr'\n",
    "# wigner_files[2]= '/Users/Deep/dask_temp/dask_wig3j_l3500_w2100_2_reorder.zarr'\n",
    "wig_home='/verafs/scratch/phy200040p/sukhdeep/physics2/skylens/temp/'\n",
    "wigner_files[0]= wig_home+'dask_wig3j_l3500_w2100_0_reorder.zarr'\n",
    "wigner_files[2]= wig_home+'/dask_wig3j_l3500_w2100_2_reorder.zarr'\n"
   ]
  },
  {
   "cell_type": "code",
   "execution_count": 9,
   "metadata": {},
   "outputs": [],
   "source": [
    "#setup parameters\n",
    "bin_cl=True\n",
    "lmax_cl=2000\n",
    "lmin_cl=2\n",
    "l0=np.arange(lmin_cl,lmax_cl)\n",
    "\n",
    "lmin_cl_Bins=lmin_cl+10\n",
    "lmax_cl_Bins=lmax_cl-10\n",
    "Nl_bins=25\n",
    "l_bins=np.int64(np.logspace(np.log10(lmin_cl_Bins),np.log10(lmax_cl_Bins),Nl_bins+1))\n",
    "lb=np.sqrt(l_bins[1:]*l_bins[:-1])\n",
    "\n",
    "l=np.unique(np.int64(np.logspace(np.log10(lmin_cl),np.log10(lmax_cl),Nl_bins*20))) #if we want to use fewer ell\n",
    "bin_cl=True"
   ]
  },
  {
   "cell_type": "code",
   "execution_count": 10,
   "metadata": {},
   "outputs": [],
   "source": [
    "nzbins=5"
   ]
  },
  {
   "cell_type": "code",
   "execution_count": 11,
   "metadata": {},
   "outputs": [],
   "source": [
    "if test_run:\n",
    "    nzbins=2\n",
    "    lmax_cl=200\n",
    "#     memory='20gb'\n",
    "#     ncpu=4\n",
    "    nwalkers=10\n",
    "    nsteps=10\n"
   ]
  },
  {
   "cell_type": "code",
   "execution_count": 12,
   "metadata": {},
   "outputs": [],
   "source": [
    "xi_win_approx=True\n",
    "bin_xi=True\n",
    "xi_SN_analytical=True\n",
    "th_min=25/60\n",
    "th_max=250./60\n",
    "n_th_bins=20\n",
    "th_bins=np.logspace(np.log10(th_min),np.log10(th_max),n_th_bins+1)\n",
    "th=np.logspace(np.log10(th_min),np.log10(th_max),n_th_bins*40)\n",
    "thb=np.sqrt(th_bins[1:]*th_bins[:-1])"
   ]
  },
  {
   "cell_type": "code",
   "execution_count": 13,
   "metadata": {},
   "outputs": [
    {
     "name": "stdout",
     "output_type": "stream",
     "text": [
      "Wigner ell max too low for theta_min. Recommendation based on first few zeros of bessel  (2, 2)  : [ 330.68725181  759.06522792 1189.97300751 1621.45237761 2053.14856549]\n"
     ]
    },
    {
     "name": "stderr",
     "output_type": "stream",
     "text": [
      "/verafs/home/sukhdeep/.local/lib/python3.8/site-packages/skylens-0.1-py3.8.egg/skylens/wigner_transform.py:102: RuntimeWarning: divide by zero encountered in true_divide\n",
      "/verafs/home/sukhdeep/.local/lib/python3.8/site-packages/skylens-0.1-py3.8.egg/skylens/wigner_transform.py:102: RuntimeWarning: invalid value encountered in true_divide\n",
      "/verafs/home/sukhdeep/.local/lib/python3.8/site-packages/skylens-0.1-py3.8.egg/skylens/wigner_transform.py:102: RuntimeWarning: invalid value encountered in cos\n"
     ]
    },
    {
     "name": "stdout",
     "output_type": "stream",
     "text": [
      "Wigner ell max too low for theta_min. Recommendation based on first few zeros of bessel  (2, -2)  : [1043.47198799 1521.50677255 1976.36566123 2422.36921608 2863.90886073]\n",
      "Wigner ell max too low for theta_min. Recommendation based on first few zeros of bessel  (0, 0)  : [ 330.68725181  759.06522792 1189.97300751 1621.45237761 2053.14856549]\n",
      "Wigner ell max too low for theta_min. Recommendation based on first few zeros of bessel  (0, 2)  : [ 706.19875936 1157.4541545  1597.84285866 2034.58941842 2469.65245891]\n",
      "Scattering WT data 1\n"
     ]
    }
   ],
   "source": [
    "WT_kwargs={'l':l0,'theta':th*d2r,'s1_s2':[(2,2),(2,-2),(0,0),(0,2)]}\n",
    "WT=wigner_transform(wig_d_taper_order_low=6,wig_d_taper_order_high=8,**WT_kwargs)\n"
   ]
  },
  {
   "cell_type": "code",
   "execution_count": 14,
   "metadata": {},
   "outputs": [],
   "source": [
    "do_cov=True\n",
    "\n",
    "SSV_cov=False\n",
    "tidal_SSV_cov=False\n",
    "Tri_cov=True"
   ]
  },
  {
   "cell_type": "code",
   "execution_count": 15,
   "metadata": {},
   "outputs": [],
   "source": [
    "use_window=False\n",
    "store_win=False\n",
    "\n",
    "nside=32\n",
    "window_lmax=nside"
   ]
  },
  {
   "cell_type": "code",
   "execution_count": 16,
   "metadata": {},
   "outputs": [
    {
     "name": "stdout",
     "output_type": "stream",
     "text": [
      "ns0:  27.0\n"
     ]
    }
   ],
   "source": [
    "zs_bin=lsst_source_tomo_bins(nbins=nzbins,use_window=use_window,nside=nside)"
   ]
  },
  {
   "cell_type": "code",
   "execution_count": 17,
   "metadata": {},
   "outputs": [],
   "source": [
    "do_cov=True"
   ]
  },
  {
   "cell_type": "code",
   "execution_count": 18,
   "metadata": {},
   "outputs": [],
   "source": [
    "SSV_cov=False\n",
    "bin_cl=True\n",
    "do_cov=True\n",
    "Tri_cov=False"
   ]
  },
  {
   "cell_type": "code",
   "execution_count": 19,
   "metadata": {},
   "outputs": [],
   "source": [
    "do_pseudo_cl=False\n",
    "do_xi=True"
   ]
  },
  {
   "cell_type": "code",
   "execution_count": 20,
   "metadata": {},
   "outputs": [],
   "source": [
    "use_binned_l=True\n",
    "use_binned_theta=use_binned_l"
   ]
  },
  {
   "cell_type": "code",
   "execution_count": 21,
   "metadata": {},
   "outputs": [],
   "source": [
    "corr_ggl=('galaxy','shear')\n",
    "corr_gg=('galaxy','galaxy')\n",
    "corr_ll=('shear','shear')\n",
    "corrs=[corr_ll,corr_ggl,corr_gg]\n"
   ]
  },
  {
   "cell_type": "code",
   "execution_count": 22,
   "metadata": {},
   "outputs": [],
   "source": [
    "power_spectra_kwargs={'pk_lock':lock}"
   ]
  },
  {
   "cell_type": "code",
   "execution_count": 23,
   "metadata": {},
   "outputs": [
    {
     "name": "stdout",
     "output_type": "stream",
     "text": [
      "power spectra camb_pk\n",
      "Win gen: step size 227 False True 1998 33.0\n",
      "Window done. Size: 0.0\n"
     ]
    },
    {
     "name": "stderr",
     "output_type": "stream",
     "text": [
      "/verafs/home/sukhdeep/.local/lib/python3.8/site-packages/skylens-0.1-py3.8.egg/skylens/cov_utils.py:79: RuntimeWarning: invalid value encountered in true_divide\n"
     ]
    }
   ],
   "source": [
    "#use all ell\n",
    "kappa0=Skylens(zs_bins=zs_bin,do_cov=do_cov,bin_cl=bin_cl,l_bins=l_bins,l=l0, zg_bins=zs_bin,\n",
    "               use_window=use_window,Tri_cov=Tri_cov,\n",
    "               use_binned_l=False,wigner_files=wigner_files,\n",
    "               SSV_cov=SSV_cov,tidal_SSV_cov=tidal_SSV_cov,f_sky=0.35,\n",
    "               store_win=store_win,window_lmax=window_lmax,\n",
    "               sparse_cov=True,corrs=corrs,\n",
    "               do_xi=do_xi,bin_xi=bin_xi,theta_bins=th_bins,WT=WT,\n",
    "                use_binned_theta=False,\n",
    "                nz_PS=10,do_pseudo_cl=do_pseudo_cl,xi_win_approx=True,\n",
    "                xi_SN_analytical=xi_SN_analytical,#power_spectra_kwargs=power_spectra_kwargs\n",
    "               )"
   ]
  },
  {
   "cell_type": "raw",
   "metadata": {},
   "source": [
    "#xi0t=kappa0.tomo_short()"
   ]
  },
  {
   "cell_type": "code",
   "execution_count": 24,
   "metadata": {},
   "outputs": [
    {
     "name": "stdout",
     "output_type": "stream",
     "text": [
      "doing xi\n"
     ]
    },
    {
     "name": "stderr",
     "output_type": "stream",
     "text": [
      "distributed.worker - WARNING -  Compute Failed\n",
      "Function:  execute_task\n",
      "args:      ((<function apply at 0x1469e41fe1f0>, <bound method Covariance_utils.xi_cov of <skylens.cov_utils.Covariance_utils object at 0x1469c8120d60>>, [(<class 'tuple'>, [0, 0, 0, 1])], (<class 'dict'>, [['cov_cl', None], ['cls', (<class 'dict'>, [[13, array([8.06555501e-07, 1.05894202e-06, 1.27702410e-06, ...,\n",
      "       1.33716681e-08, 1.33626402e-08, 1.33536131e-08])], [24, array([8.06555501e-07, 1.05894202e-06, 1.27702410e-06, ...,\n",
      "       1.33716681e-08, 1.33626402e-08, 1.33536131e-08])], [14, array([8.06555501e-07, 1.05894202e-06, 1.27702410e-06, ...,\n",
      "       1.33716681e-08, 1.33626402e-08, 1.33536131e-08])], [23, array([8.06555501e-07, 1.05894202e-06, 1.27702410e-06, ...,\n",
      "       1.33716681e-08, 1.33626402e-08, 1.33536131e-08])]])], ['s1_s2', (<class 'tuple'>, [0, 0])], ['SN', (<class 'dict'>, [[(<class 'tuple'>, ['galaxy', 'galaxy']), array([[[4.93274276e-09, 0.00000000e+00],\n",
      "        [0.00000000e+00, 8.59388519e-09]],\n",
      "\n",
      "       [[4.93274276e-09, 0.00000000e+00],\n",
      "        [0.00000000e+00, 8.59388\n",
      "kwargs:    {}\n",
      "Exception: IndexError('only integers, slices (`:`), ellipsis (`...`), numpy.newaxis (`None`) and integer or boolean arrays are valid indices')\n",
      "\n",
      "distributed.worker - WARNING -  Compute Failed\n",
      "Function:  execute_task\n",
      "args:      ((<function apply at 0x1469e41fe1f0>, <bound method Covariance_utils.xi_cov of <skylens.cov_utils.Covariance_utils object at 0x1469c8120d60>>, [(<class 'tuple'>, [0, 1, 0, 1])], (<class 'dict'>, [['cov_cl', None], ['cls', (<class 'dict'>, [[13, array([8.06555501e-07, 1.05894202e-06, 1.27702410e-06, ...,\n",
      "       1.33716681e-08, 1.33626402e-08, 1.33536131e-08])], [24, array([8.53298120e-08, 1.16354891e-07, 1.45832485e-07, ...,\n",
      "       5.63053987e-09, 5.62697388e-09, 5.62340789e-09])], [14, array([8.06555501e-07, 1.05894202e-06, 1.27702410e-06, ...,\n",
      "       1.33716681e-08, 1.33626402e-08, 1.33536131e-08])], [23, array([8.06555501e-07, 1.05894202e-06, 1.27702410e-06, ...,\n",
      "       1.33716681e-08, 1.33626402e-08, 1.33536131e-08])]])], ['s1_s2', (<class 'tuple'>, [0, 0])], ['SN', (<class 'dict'>, [[(<class 'tuple'>, ['galaxy', 'galaxy']), array([[[4.93274276e-09, 0.00000000e+00],\n",
      "        [0.00000000e+00, 8.59388519e-09]],\n",
      "\n",
      "       [[4.93274276e-09, 0.00000000e+00],\n",
      "        [0.00000000e+00, 8.59388\n",
      "kwargs:    {}\n",
      "Exception: IndexError('only integers, slices (`:`), ellipsis (`...`), numpy.newaxis (`None`) and integer or boolean arrays are valid indices')\n",
      "\n",
      "distributed.worker - WARNING -  Compute Failed\n",
      "Function:  execute_task\n",
      "args:      ((<function apply at 0x1469e41fe1f0>, <bound method Covariance_utils.xi_cov of <skylens.cov_utils.Covariance_utils object at 0x1469c8120d60>>, [(<class 'tuple'>, [0, 0, 1, 1])], (<class 'dict'>, [['cov_cl', None], ['cls', (<class 'dict'>, [[13, array([8.06555501e-07, 1.05894202e-06, 1.27702410e-06, ...,\n",
      "       1.33716681e-08, 1.33626402e-08, 1.33536131e-08])], [24, array([8.06555501e-07, 1.05894202e-06, 1.27702410e-06, ...,\n",
      "       1.33716681e-08, 1.33626402e-08, 1.33536131e-08])], [14, array([8.06555501e-07, 1.05894202e-06, 1.27702410e-06, ...,\n",
      "       1.33716681e-08, 1.33626402e-08, 1.33536131e-08])], [23, array([8.06555501e-07, 1.05894202e-06, 1.27702410e-06, ...,\n",
      "       1.33716681e-08, 1.33626402e-08, 1.33536131e-08])]])], ['s1_s2', (<class 'tuple'>, [0, 0])], ['SN', (<class 'dict'>, [[(<class 'tuple'>, ['galaxy', 'galaxy']), array([[[4.93274276e-09, 0.00000000e+00],\n",
      "        [0.00000000e+00, 8.59388519e-09]],\n",
      "\n",
      "       [[4.93274276e-09, 0.00000000e+00],\n",
      "        [0.00000000e+00, 8.59388\n",
      "kwargs:    {}\n",
      "Exception: IndexError('only integers, slices (`:`), ellipsis (`...`), numpy.newaxis (`None`) and integer or boolean arrays are valid indices')\n",
      "\n",
      "distributed.worker - WARNING -  Compute Failed\n",
      "Function:  execute_task\n",
      "args:      ((<function apply at 0x1469e41fe1f0>, <bound method Covariance_utils.xi_cov of <skylens.cov_utils.Covariance_utils object at 0x1469c8120d60>>, [(<class 'tuple'>, [0, 1, 1, 1])], (<class 'dict'>, [['cov_cl', None], ['cls', (<class 'dict'>, [[13, array([8.06555501e-07, 1.05894202e-06, 1.27702410e-06, ...,\n",
      "       1.33716681e-08, 1.33626402e-08, 1.33536131e-08])], [24, array([8.53298120e-08, 1.16354891e-07, 1.45832485e-07, ...,\n",
      "       5.63053987e-09, 5.62697388e-09, 5.62340789e-09])], [14, array([8.06555501e-07, 1.05894202e-06, 1.27702410e-06, ...,\n",
      "       1.33716681e-08, 1.33626402e-08, 1.33536131e-08])], [23, array([8.53298120e-08, 1.16354891e-07, 1.45832485e-07, ...,\n",
      "       5.63053987e-09, 5.62697388e-09, 5.62340789e-09])]])], ['s1_s2', (<class 'tuple'>, [0, 0])], ['SN', (<class 'dict'>, [[(<class 'tuple'>, ['galaxy', 'galaxy']), array([[[4.93274276e-09, 0.00000000e+00],\n",
      "        [0.00000000e+00, 8.59388519e-09]],\n",
      "\n",
      "       [[4.93274276e-09, 0.00000000e+00],\n",
      "        [0.00000000e+00, 8.59388\n",
      "kwargs:    {}\n",
      "Exception: IndexError('only integers, slices (`:`), ellipsis (`...`), numpy.newaxis (`None`) and integer or boolean arrays are valid indices')\n",
      "\n",
      "distributed.worker - WARNING -  Compute Failed\n",
      "Function:  execute_task\n",
      "args:      ((<function apply at 0x1469e41fe1f0>, <bound method Covariance_utils.xi_cov of <skylens.cov_utils.Covariance_utils object at 0x1469c8120d60>>, [(<class 'tuple'>, [0, 0, 1, 1])], (<class 'dict'>, [['cov_cl', None], ['cls', (<class 'dict'>, [[13, array([8.06555501e-07, 1.05894202e-06, 1.27702410e-06, ...,\n",
      "       1.33716681e-08, 1.33626402e-08, 1.33536131e-08])], [24, array([1.99272924e-08, 2.77690215e-08, 3.16494253e-08, ...,\n",
      "       1.10043657e-10, 1.09962855e-10, 1.09882058e-10])], [14, array([8.06555501e-07, 1.05894202e-06, 1.27702410e-06, ...,\n",
      "       1.33716681e-08, 1.33626402e-08, 1.33536131e-08])], [23, array([8.53298120e-08, 1.16354891e-07, 1.45832485e-07, ...,\n",
      "       5.63053987e-09, 5.62697388e-09, 5.62340789e-09])]])], ['s1_s2', (<class 'tuple'>, [0, 2])], ['SN', (<class 'dict'>, [[(<class 'tuple'>, ['galaxy', 'galaxy']), array([[[4.93274276e-09, 0.00000000e+00],\n",
      "        [0.00000000e+00, 8.59388519e-09]],\n",
      "\n",
      "       [[4.93274276e-09, 0.00000000e+00],\n",
      "        [0.00000000e+00, 8.59388\n",
      "kwargs:    {}\n",
      "Exception: IndexError('only integers, slices (`:`), ellipsis (`...`), numpy.newaxis (`None`) and integer or boolean arrays are valid indices')\n",
      "\n",
      "distributed.worker - WARNING -  Compute Failed\n",
      "Function:  execute_task\n",
      "args:      ((<function apply at 0x1469e41fe1f0>, <bound method Covariance_utils.xi_cov of <skylens.cov_utils.Covariance_utils object at 0x1469c8120d60>>, [(<class 'tuple'>, [0, 1, 0, 1])], (<class 'dict'>, [['cov_cl', None], ['cls', (<class 'dict'>, [[13, array([8.06555501e-07, 1.05894202e-06, 1.27702410e-06, ...,\n",
      "       1.33716681e-08, 1.33626402e-08, 1.33536131e-08])], [24, array([8.53298120e-08, 1.16354891e-07, 1.45832485e-07, ...,\n",
      "       5.63053987e-09, 5.62697388e-09, 5.62340789e-09])], [14, array([8.53298120e-08, 1.16354891e-07, 1.45832485e-07, ...,\n",
      "       5.63053987e-09, 5.62697388e-09, 5.62340789e-09])], [23, array([8.06555501e-07, 1.05894202e-06, 1.27702410e-06, ...,\n",
      "       1.33716681e-08, 1.33626402e-08, 1.33536131e-08])]])], ['s1_s2', (<class 'tuple'>, [2, 2])], ['SN', (<class 'dict'>, [[(<class 'tuple'>, ['galaxy', 'galaxy']), array([[[4.93274276e-09, 0.00000000e+00],\n",
      "        [0.00000000e+00, 8.59388519e-09]],\n",
      "\n",
      "       [[4.93274276e-09, 0.00000000e+00],\n",
      "        [0.00000000e+00, 8.59388\n",
      "kwargs:    {}\n",
      "Exception: IndexError('only integers, slices (`:`), ellipsis (`...`), numpy.newaxis (`None`) and integer or boolean arrays are valid indices')\n",
      "\n",
      "distributed.worker - WARNING -  Compute Failed\n",
      "Function:  execute_task\n",
      "args:      ((<function apply at 0x1469e41fe1f0>, <bound method Covariance_utils.xi_cov of <skylens.cov_utils.Covariance_utils object at 0x1469c8120d60>>, [(<class 'tuple'>, [0, 1, 1, 1])], (<class 'dict'>, [['cov_cl', None], ['cls', (<class 'dict'>, [[13, array([8.06555501e-07, 1.05894202e-06, 1.27702410e-06, ...,\n",
      "       1.33716681e-08, 1.33626402e-08, 1.33536131e-08])], [24, array([3.26470135e-08, 4.86787844e-08, 5.85202207e-08, ...,\n",
      "       4.29967075e-10, 4.29672121e-10, 4.29377188e-10])], [14, array([8.06555501e-07, 1.05894202e-06, 1.27702410e-06, ...,\n",
      "       1.33716681e-08, 1.33626402e-08, 1.33536131e-08])], [23, array([8.53298120e-08, 1.16354891e-07, 1.45832485e-07, ...,\n",
      "       5.63053987e-09, 5.62697388e-09, 5.62340789e-09])]])], ['s1_s2', (<class 'tuple'>, [0, 2])], ['SN', (<class 'dict'>, [[(<class 'tuple'>, ['galaxy', 'galaxy']), array([[[4.93274276e-09, 0.00000000e+00],\n",
      "        [0.00000000e+00, 8.59388519e-09]],\n",
      "\n",
      "       [[4.93274276e-09, 0.00000000e+00],\n",
      "        [0.00000000e+00, 8.59388\n",
      "kwargs:    {}\n",
      "Exception: IndexError('only integers, slices (`:`), ellipsis (`...`), numpy.newaxis (`None`) and integer or boolean arrays are valid indices')\n",
      "\n"
     ]
    },
    {
     "name": "stderr",
     "output_type": "stream",
     "text": [
      "distributed.worker - WARNING -  Compute Failed\n",
      "Function:  execute_task\n",
      "args:      ((<function apply at 0x1469e41fe1f0>, <bound method Covariance_utils.xi_cov of <skylens.cov_utils.Covariance_utils object at 0x1469c8120d60>>, [(<class 'tuple'>, [0, 1, 0, 1])], (<class 'dict'>, [['cov_cl', None], ['cls', (<class 'dict'>, [[13, array([8.06555501e-07, 1.05894202e-06, 1.27702410e-06, ...,\n",
      "       1.33716681e-08, 1.33626402e-08, 1.33536131e-08])], [24, array([3.26470135e-08, 4.86787844e-08, 5.85202207e-08, ...,\n",
      "       4.29967075e-10, 4.29672121e-10, 4.29377188e-10])], [14, array([1.99272924e-08, 2.77690215e-08, 3.16494253e-08, ...,\n",
      "       1.10043657e-10, 1.09962855e-10, 1.09882058e-10])], [23, array([8.06555501e-07, 1.05894202e-06, 1.27702410e-06, ...,\n",
      "       1.33716681e-08, 1.33626402e-08, 1.33536131e-08])]])], ['s1_s2', (<class 'tuple'>, [2, 2])], ['SN', (<class 'dict'>, [[(<class 'tuple'>, ['galaxy', 'galaxy']), array([[[4.93274276e-09, 0.00000000e+00],\n",
      "        [0.00000000e+00, 8.59388519e-09]],\n",
      "\n",
      "       [[4.93274276e-09, 0.00000000e+00],\n",
      "        [0.00000000e+00, 8.59388\n",
      "kwargs:    {}\n",
      "Exception: IndexError('only integers, slices (`:`), ellipsis (`...`), numpy.newaxis (`None`) and integer or boolean arrays are valid indices')\n",
      "\n",
      "distributed.worker - WARNING -  Compute Failed\n",
      "Function:  execute_task\n",
      "args:      ((<function apply at 0x1469e41fe1f0>, <bound method Covariance_utils.xi_cov of <skylens.cov_utils.Covariance_utils object at 0x1469c8120d60>>, [(<class 'tuple'>, [1, 0, 0, 1])], (<class 'dict'>, [['cov_cl', None], ['cls', (<class 'dict'>, [[13, array([8.06555501e-07, 1.05894202e-06, 1.27702410e-06, ...,\n",
      "       1.33716681e-08, 1.33626402e-08, 1.33536131e-08])], [24, array([1.99272924e-08, 2.77690215e-08, 3.16494253e-08, ...,\n",
      "       1.10043657e-10, 1.09962855e-10, 1.09882058e-10])], [14, array([8.53298120e-08, 1.16354891e-07, 1.45832485e-07, ...,\n",
      "       5.63053987e-09, 5.62697388e-09, 5.62340789e-09])], [23, array([8.06555501e-07, 1.05894202e-06, 1.27702410e-06, ...,\n",
      "       1.33716681e-08, 1.33626402e-08, 1.33536131e-08])]])], ['s1_s2', (<class 'tuple'>, [0, 2])], ['SN', (<class 'dict'>, [[(<class 'tuple'>, ['galaxy', 'galaxy']), array([[[4.93274276e-09, 0.00000000e+00],\n",
      "        [0.00000000e+00, 8.59388519e-09]],\n",
      "\n",
      "       [[4.93274276e-09, 0.00000000e+00],\n",
      "        [0.00000000e+00, 8.59388\n",
      "kwargs:    {}\n",
      "Exception: IndexError('only integers, slices (`:`), ellipsis (`...`), numpy.newaxis (`None`) and integer or boolean arrays are valid indices')\n",
      "\n",
      "distributed.worker - WARNING -  Compute Failed\n",
      "Function:  execute_task\n",
      "args:      ((<function apply at 0x1469e41fe1f0>, <bound method Covariance_utils.xi_cov of <skylens.cov_utils.Covariance_utils object at 0x1469c8120d60>>, [(<class 'tuple'>, [0, 1, 1, 0])], (<class 'dict'>, [['cov_cl', None], ['cls', (<class 'dict'>, [[13, array([8.53298120e-08, 1.16354891e-07, 1.45832485e-07, ...,\n",
      "       5.63053987e-09, 5.62697388e-09, 5.62340789e-09])], [24, array([1.99272924e-08, 2.77690215e-08, 3.16494253e-08, ...,\n",
      "       1.10043657e-10, 1.09962855e-10, 1.09882058e-10])], [14, array([1.99272924e-08, 2.77690215e-08, 3.16494253e-08, ...,\n",
      "       1.10043657e-10, 1.09962855e-10, 1.09882058e-10])], [23, array([8.53298120e-08, 1.16354891e-07, 1.45832485e-07, ...,\n",
      "       5.63053987e-09, 5.62697388e-09, 5.62340789e-09])]])], ['s1_s2', (<class 'tuple'>, [2, 2])], ['SN', (<class 'dict'>, [[(<class 'tuple'>, ['galaxy', 'galaxy']), array([[[4.93274276e-09, 0.00000000e+00],\n",
      "        [0.00000000e+00, 8.59388519e-09]],\n",
      "\n",
      "       [[4.93274276e-09, 0.00000000e+00],\n",
      "        [0.00000000e+00, 8.59388\n",
      "kwargs:    {}\n",
      "Exception: IndexError('only integers, slices (`:`), ellipsis (`...`), numpy.newaxis (`None`) and integer or boolean arrays are valid indices')\n",
      "\n",
      "distributed.worker - WARNING -  Compute Failed\n",
      "Function:  execute_task\n",
      "args:      ((<function apply at 0x1469e41fe1f0>, <bound method Covariance_utils.xi_cov of <skylens.cov_utils.Covariance_utils object at 0x1469c8120d60>>, [(<class 'tuple'>, [0, 1, 0, 1])], (<class 'dict'>, [['cov_cl', None], ['cls', (<class 'dict'>, [[13, array([8.06555501e-07, 1.05894202e-06, 1.27702410e-06, ...,\n",
      "       1.33716681e-08, 1.33626402e-08, 1.33536131e-08])], [24, array([8.53298120e-08, 1.16354891e-07, 1.45832485e-07, ...,\n",
      "       5.63053987e-09, 5.62697388e-09, 5.62340789e-09])], [14, array([8.53298120e-08, 1.16354891e-07, 1.45832485e-07, ...,\n",
      "       5.63053987e-09, 5.62697388e-09, 5.62340789e-09])], [23, array([8.06555501e-07, 1.05894202e-06, 1.27702410e-06, ...,\n",
      "       1.33716681e-08, 1.33626402e-08, 1.33536131e-08])]])], ['s1_s2', (<class 'tuple'>, [2, -2])], ['SN', (<class 'dict'>, [[(<class 'tuple'>, ['galaxy', 'galaxy']), array([[[4.93274276e-09, 0.00000000e+00],\n",
      "        [0.00000000e+00, 8.59388519e-09]],\n",
      "\n",
      "       [[4.93274276e-09, 0.00000000e+00],\n",
      "        [0.00000000e+00, 8.5938\n",
      "kwargs:    {}\n",
      "Exception: IndexError('only integers, slices (`:`), ellipsis (`...`), numpy.newaxis (`None`) and integer or boolean arrays are valid indices')\n",
      "\n",
      "distributed.worker - WARNING -  Compute Failed\n",
      "Function:  execute_task\n",
      "args:      ((<function apply at 0x1469e41fe1f0>, <bound method Covariance_utils.xi_cov of <skylens.cov_utils.Covariance_utils object at 0x1469c8120d60>>, [(<class 'tuple'>, [1, 0, 1, 1])], (<class 'dict'>, [['cov_cl', None], ['cls', (<class 'dict'>, [[13, array([8.53298120e-08, 1.16354891e-07, 1.45832485e-07, ...,\n",
      "       5.63053987e-09, 5.62697388e-09, 5.62340789e-09])], [24, array([1.99272924e-08, 2.77690215e-08, 3.16494253e-08, ...,\n",
      "       1.10043657e-10, 1.09962855e-10, 1.09882058e-10])], [14, array([8.53298120e-08, 1.16354891e-07, 1.45832485e-07, ...,\n",
      "       5.63053987e-09, 5.62697388e-09, 5.62340789e-09])], [23, array([8.53298120e-08, 1.16354891e-07, 1.45832485e-07, ...,\n",
      "       5.63053987e-09, 5.62697388e-09, 5.62340789e-09])]])], ['s1_s2', (<class 'tuple'>, [0, 2])], ['SN', (<class 'dict'>, [[(<class 'tuple'>, ['galaxy', 'galaxy']), array([[[4.93274276e-09, 0.00000000e+00],\n",
      "        [0.00000000e+00, 8.59388519e-09]],\n",
      "\n",
      "       [[4.93274276e-09, 0.00000000e+00],\n",
      "        [0.00000000e+00, 8.59388\n",
      "kwargs:    {}\n",
      "Exception: IndexError('only integers, slices (`:`), ellipsis (`...`), numpy.newaxis (`None`) and integer or boolean arrays are valid indices')\n",
      "\n",
      "distributed.worker - WARNING -  Compute Failed\n",
      "Function:  execute_task\n",
      "args:      ((<function apply at 0x1469e41fe1f0>, <bound method Covariance_utils.xi_cov of <skylens.cov_utils.Covariance_utils object at 0x1469c8120d60>>, [(<class 'tuple'>, [0, 1, 1, 1])], (<class 'dict'>, [['cov_cl', None], ['cls', (<class 'dict'>, [[13, array([8.53298120e-08, 1.16354891e-07, 1.45832485e-07, ...,\n",
      "       5.63053987e-09, 5.62697388e-09, 5.62340789e-09])], [24, array([3.26470135e-08, 4.86787844e-08, 5.85202207e-08, ...,\n",
      "       4.29967075e-10, 4.29672121e-10, 4.29377188e-10])], [14, array([1.99272924e-08, 2.77690215e-08, 3.16494253e-08, ...,\n",
      "       1.10043657e-10, 1.09962855e-10, 1.09882058e-10])], [23, array([8.53298120e-08, 1.16354891e-07, 1.45832485e-07, ...,\n",
      "       5.63053987e-09, 5.62697388e-09, 5.62340789e-09])]])], ['s1_s2', (<class 'tuple'>, [2, 2])], ['SN', (<class 'dict'>, [[(<class 'tuple'>, ['galaxy', 'galaxy']), array([[[4.93274276e-09, 0.00000000e+00],\n",
      "        [0.00000000e+00, 8.59388519e-09]],\n",
      "\n",
      "       [[4.93274276e-09, 0.00000000e+00],\n",
      "        [0.00000000e+00, 8.59388\n",
      "kwargs:    {}\n",
      "Exception: IndexError('only integers, slices (`:`), ellipsis (`...`), numpy.newaxis (`None`) and integer or boolean arrays are valid indices')\n",
      "\n",
      "distributed.worker - WARNING -  Compute Failed\n",
      "Function:  execute_task\n",
      "args:      ((<function apply at 0x1469e41fe1f0>, <bound method Covariance_utils.xi_cov of <skylens.cov_utils.Covariance_utils object at 0x1469c8120d60>>, [(<class 'tuple'>, [0, 1, 0, 0])], (<class 'dict'>, [['cov_cl', None], ['cls', (<class 'dict'>, [[13, array([8.06555501e-07, 1.05894202e-06, 1.27702410e-06, ...,\n",
      "       1.33716681e-08, 1.33626402e-08, 1.33536131e-08])], [24, array([1.99272924e-08, 2.77690215e-08, 3.16494253e-08, ...,\n",
      "       1.10043657e-10, 1.09962855e-10, 1.09882058e-10])], [14, array([1.99272924e-08, 2.77690215e-08, 3.16494253e-08, ...,\n",
      "       1.10043657e-10, 1.09962855e-10, 1.09882058e-10])], [23, array([8.06555501e-07, 1.05894202e-06, 1.27702410e-06, ...,\n",
      "       1.33716681e-08, 1.33626402e-08, 1.33536131e-08])]])], ['s1_s2', (<class 'tuple'>, [2, -2])], ['SN', (<class 'dict'>, [[(<class 'tuple'>, ['galaxy', 'galaxy']), array([[[4.93274276e-09, 0.00000000e+00],\n",
      "        [0.00000000e+00, 8.59388519e-09]],\n",
      "\n",
      "       [[4.93274276e-09, 0.00000000e+00],\n",
      "        [0.00000000e+00, 8.5938\n",
      "kwargs:    {}\n",
      "Exception: IndexError('only integers, slices (`:`), ellipsis (`...`), numpy.newaxis (`None`) and integer or boolean arrays are valid indices')\n",
      "\n"
     ]
    },
    {
     "name": "stderr",
     "output_type": "stream",
     "text": [
      "distributed.worker - WARNING -  Compute Failed\n",
      "Function:  execute_task\n",
      "args:      ((<function apply at 0x1469e41fe1f0>, <bound method Covariance_utils.xi_cov of <skylens.cov_utils.Covariance_utils object at 0x1469c8120d60>>, [(<class 'tuple'>, [0, 1, 0, 0])], (<class 'dict'>, [['cov_cl', None], ['cls', (<class 'dict'>, [[13, array([8.06555501e-07, 1.05894202e-06, 1.27702410e-06, ...,\n",
      "       1.33716681e-08, 1.33626402e-08, 1.33536131e-08])], [24, array([1.99272924e-08, 2.77690215e-08, 3.16494253e-08, ...,\n",
      "       1.10043657e-10, 1.09962855e-10, 1.09882058e-10])], [14, array([1.99272924e-08, 2.77690215e-08, 3.16494253e-08, ...,\n",
      "       1.10043657e-10, 1.09962855e-10, 1.09882058e-10])], [23, array([8.06555501e-07, 1.05894202e-06, 1.27702410e-06, ...,\n",
      "       1.33716681e-08, 1.33626402e-08, 1.33536131e-08])]])], ['s1_s2', (<class 'tuple'>, [2, 2])], ['SN', (<class 'dict'>, [[(<class 'tuple'>, ['galaxy', 'galaxy']), array([[[4.93274276e-09, 0.00000000e+00],\n",
      "        [0.00000000e+00, 8.59388519e-09]],\n",
      "\n",
      "       [[4.93274276e-09, 0.00000000e+00],\n",
      "        [0.00000000e+00, 8.59388\n",
      "kwargs:    {}\n",
      "Exception: IndexError('only integers, slices (`:`), ellipsis (`...`), numpy.newaxis (`None`) and integer or boolean arrays are valid indices')\n",
      "\n",
      "distributed.worker - WARNING -  Compute Failed\n",
      "Function:  execute_task\n",
      "args:      ((<function apply at 0x1469e41fe1f0>, <bound method Covariance_utils.xi_cov of <skylens.cov_utils.Covariance_utils object at 0x1469c8120d60>>, [(<class 'tuple'>, [0, 0, 0, 1])], (<class 'dict'>, [['cov_cl', None], ['cls', (<class 'dict'>, [[13, array([8.06555501e-07, 1.05894202e-06, 1.27702410e-06, ...,\n",
      "       1.33716681e-08, 1.33626402e-08, 1.33536131e-08])], [24, array([8.53298120e-08, 1.16354891e-07, 1.45832485e-07, ...,\n",
      "       5.63053987e-09, 5.62697388e-09, 5.62340789e-09])], [14, array([8.06555501e-07, 1.05894202e-06, 1.27702410e-06, ...,\n",
      "       1.33716681e-08, 1.33626402e-08, 1.33536131e-08])], [23, array([8.06555501e-07, 1.05894202e-06, 1.27702410e-06, ...,\n",
      "       1.33716681e-08, 1.33626402e-08, 1.33536131e-08])]])], ['s1_s2', (<class 'tuple'>, [0, 2])], ['SN', (<class 'dict'>, [[(<class 'tuple'>, ['galaxy', 'galaxy']), array([[[4.93274276e-09, 0.00000000e+00],\n",
      "        [0.00000000e+00, 8.59388519e-09]],\n",
      "\n",
      "       [[4.93274276e-09, 0.00000000e+00],\n",
      "        [0.00000000e+00, 8.59388\n",
      "kwargs:    {}\n",
      "Exception: IndexError('only integers, slices (`:`), ellipsis (`...`), numpy.newaxis (`None`) and integer or boolean arrays are valid indices')\n",
      "\n",
      "distributed.worker - WARNING -  Compute Failed\n",
      "Function:  execute_task\n",
      "args:      ((<function apply at 0x1469e41fe1f0>, <bound method Covariance_utils.xi_cov of <skylens.cov_utils.Covariance_utils object at 0x1469c8120d60>>, [(<class 'tuple'>, [0, 1, 1, 0])], (<class 'dict'>, [['cov_cl', None], ['cls', (<class 'dict'>, [[13, array([8.53298120e-08, 1.16354891e-07, 1.45832485e-07, ...,\n",
      "       5.63053987e-09, 5.62697388e-09, 5.62340789e-09])], [24, array([1.99272924e-08, 2.77690215e-08, 3.16494253e-08, ...,\n",
      "       1.10043657e-10, 1.09962855e-10, 1.09882058e-10])], [14, array([1.99272924e-08, 2.77690215e-08, 3.16494253e-08, ...,\n",
      "       1.10043657e-10, 1.09962855e-10, 1.09882058e-10])], [23, array([8.53298120e-08, 1.16354891e-07, 1.45832485e-07, ...,\n",
      "       5.63053987e-09, 5.62697388e-09, 5.62340789e-09])]])], ['s1_s2', (<class 'tuple'>, [2, -2])], ['SN', (<class 'dict'>, [[(<class 'tuple'>, ['galaxy', 'galaxy']), array([[[4.93274276e-09, 0.00000000e+00],\n",
      "        [0.00000000e+00, 8.59388519e-09]],\n",
      "\n",
      "       [[4.93274276e-09, 0.00000000e+00],\n",
      "        [0.00000000e+00, 8.5938\n",
      "kwargs:    {}\n",
      "Exception: IndexError('only integers, slices (`:`), ellipsis (`...`), numpy.newaxis (`None`) and integer or boolean arrays are valid indices')\n",
      "\n",
      "distributed.worker - WARNING -  Compute Failed\n",
      "Function:  execute_task\n",
      "args:      ((<function apply at 0x1469e41fe1f0>, <bound method Covariance_utils.xi_cov of <skylens.cov_utils.Covariance_utils object at 0x1469c8120d60>>, [(<class 'tuple'>, [1, 0, 0, 1])], (<class 'dict'>, [['cov_cl', None], ['cls', (<class 'dict'>, [[13, array([8.06555501e-07, 1.05894202e-06, 1.27702410e-06, ...,\n",
      "       1.33716681e-08, 1.33626402e-08, 1.33536131e-08])], [24, array([8.53298120e-08, 1.16354891e-07, 1.45832485e-07, ...,\n",
      "       5.63053987e-09, 5.62697388e-09, 5.62340789e-09])], [14, array([8.53298120e-08, 1.16354891e-07, 1.45832485e-07, ...,\n",
      "       5.63053987e-09, 5.62697388e-09, 5.62340789e-09])], [23, array([8.06555501e-07, 1.05894202e-06, 1.27702410e-06, ...,\n",
      "       1.33716681e-08, 1.33626402e-08, 1.33536131e-08])]])], ['s1_s2', (<class 'tuple'>, [0, 2])], ['SN', (<class 'dict'>, [[(<class 'tuple'>, ['galaxy', 'galaxy']), array([[[4.93274276e-09, 0.00000000e+00],\n",
      "        [0.00000000e+00, 8.59388519e-09]],\n",
      "\n",
      "       [[4.93274276e-09, 0.00000000e+00],\n",
      "        [0.00000000e+00, 8.59388\n",
      "kwargs:    {}\n",
      "Exception: IndexError('only integers, slices (`:`), ellipsis (`...`), numpy.newaxis (`None`) and integer or boolean arrays are valid indices')\n",
      "\n",
      "distributed.worker - WARNING -  Compute Failed\n",
      "Function:  execute_task\n",
      "args:      ((<function apply at 0x1469e41fe1f0>, <bound method Covariance_utils.xi_cov of <skylens.cov_utils.Covariance_utils object at 0x1469c8120d60>>, [(<class 'tuple'>, [0, 0, 0, 1])], (<class 'dict'>, [['cov_cl', None], ['cls', (<class 'dict'>, [[13, array([8.06555501e-07, 1.05894202e-06, 1.27702410e-06, ...,\n",
      "       1.33716681e-08, 1.33626402e-08, 1.33536131e-08])], [24, array([1.99272924e-08, 2.77690215e-08, 3.16494253e-08, ...,\n",
      "       1.10043657e-10, 1.09962855e-10, 1.09882058e-10])], [14, array([8.06555501e-07, 1.05894202e-06, 1.27702410e-06, ...,\n",
      "       1.33716681e-08, 1.33626402e-08, 1.33536131e-08])], [23, array([8.06555501e-07, 1.05894202e-06, 1.27702410e-06, ...,\n",
      "       1.33716681e-08, 1.33626402e-08, 1.33536131e-08])]])], ['s1_s2', (<class 'tuple'>, [0, 2])], ['SN', (<class 'dict'>, [[(<class 'tuple'>, ['galaxy', 'galaxy']), array([[[4.93274276e-09, 0.00000000e+00],\n",
      "        [0.00000000e+00, 8.59388519e-09]],\n",
      "\n",
      "       [[4.93274276e-09, 0.00000000e+00],\n",
      "        [0.00000000e+00, 8.59388\n",
      "kwargs:    {}\n",
      "Exception: IndexError('only integers, slices (`:`), ellipsis (`...`), numpy.newaxis (`None`) and integer or boolean arrays are valid indices')\n",
      "\n",
      "distributed.worker - WARNING -  Compute Failed\n",
      "Function:  execute_task\n",
      "args:      ((<function apply at 0x1469e41fe1f0>, <bound method Covariance_utils.xi_cov of <skylens.cov_utils.Covariance_utils object at 0x1469c8120d60>>, [(<class 'tuple'>, [1, 1, 0, 1])], (<class 'dict'>, [['cov_cl', None], ['cls', (<class 'dict'>, [[13, array([8.06555501e-07, 1.05894202e-06, 1.27702410e-06, ...,\n",
      "       1.33716681e-08, 1.33626402e-08, 1.33536131e-08])], [24, array([8.53298120e-08, 1.16354891e-07, 1.45832485e-07, ...,\n",
      "       5.63053987e-09, 5.62697388e-09, 5.62340789e-09])], [14, array([8.53298120e-08, 1.16354891e-07, 1.45832485e-07, ...,\n",
      "       5.63053987e-09, 5.62697388e-09, 5.62340789e-09])], [23, array([8.06555501e-07, 1.05894202e-06, 1.27702410e-06, ...,\n",
      "       1.33716681e-08, 1.33626402e-08, 1.33536131e-08])]])], ['s1_s2', (<class 'tuple'>, [0, 2])], ['SN', (<class 'dict'>, [[(<class 'tuple'>, ['galaxy', 'galaxy']), array([[[4.93274276e-09, 0.00000000e+00],\n",
      "        [0.00000000e+00, 8.59388519e-09]],\n",
      "\n",
      "       [[4.93274276e-09, 0.00000000e+00],\n",
      "        [0.00000000e+00, 8.59388\n",
      "kwargs:    {}\n",
      "Exception: IndexError('only integers, slices (`:`), ellipsis (`...`), numpy.newaxis (`None`) and integer or boolean arrays are valid indices')\n",
      "\n",
      "distributed.worker - WARNING -  Compute Failed\n",
      "Function:  execute_task\n",
      "args:      ((<function apply at 0x1469e41fe1f0>, <bound method Covariance_utils.xi_cov of <skylens.cov_utils.Covariance_utils object at 0x1469c8120d60>>, [(<class 'tuple'>, [0, 1, 0, 1])], (<class 'dict'>, [['cov_cl', None], ['cls', (<class 'dict'>, [[13, array([8.06555501e-07, 1.05894202e-06, 1.27702410e-06, ...,\n",
      "       1.33716681e-08, 1.33626402e-08, 1.33536131e-08])], [24, array([8.53298120e-08, 1.16354891e-07, 1.45832485e-07, ...,\n",
      "       5.63053987e-09, 5.62697388e-09, 5.62340789e-09])], [14, array([8.06555501e-07, 1.05894202e-06, 1.27702410e-06, ...,\n",
      "       1.33716681e-08, 1.33626402e-08, 1.33536131e-08])], [23, array([8.06555501e-07, 1.05894202e-06, 1.27702410e-06, ...,\n",
      "       1.33716681e-08, 1.33626402e-08, 1.33536131e-08])]])], ['s1_s2', (<class 'tuple'>, [0, 2])], ['SN', (<class 'dict'>, [[(<class 'tuple'>, ['galaxy', 'galaxy']), array([[[4.93274276e-09, 0.00000000e+00],\n",
      "        [0.00000000e+00, 8.59388519e-09]],\n",
      "\n",
      "       [[4.93274276e-09, 0.00000000e+00],\n",
      "        [0.00000000e+00, 8.59388\n",
      "kwargs:    {}\n",
      "Exception: IndexError('only integers, slices (`:`), ellipsis (`...`), numpy.newaxis (`None`) and integer or boolean arrays are valid indices')\n",
      "\n"
     ]
    },
    {
     "name": "stderr",
     "output_type": "stream",
     "text": [
      "distributed.worker - WARNING -  Compute Failed\n",
      "Function:  execute_task\n",
      "args:      ((<function apply at 0x1469e41fe1f0>, <bound method Covariance_utils.xi_cov of <skylens.cov_utils.Covariance_utils object at 0x1469c8120d60>>, [(<class 'tuple'>, [0, 0, 1, 0])], (<class 'dict'>, [['cov_cl', None], ['cls', (<class 'dict'>, [[13, array([8.06555501e-07, 1.05894202e-06, 1.27702410e-06, ...,\n",
      "       1.33716681e-08, 1.33626402e-08, 1.33536131e-08])], [24, array([1.99272924e-08, 2.77690215e-08, 3.16494253e-08, ...,\n",
      "       1.10043657e-10, 1.09962855e-10, 1.09882058e-10])], [14, array([8.06555501e-07, 1.05894202e-06, 1.27702410e-06, ...,\n",
      "       1.33716681e-08, 1.33626402e-08, 1.33536131e-08])], [23, array([8.53298120e-08, 1.16354891e-07, 1.45832485e-07, ...,\n",
      "       5.63053987e-09, 5.62697388e-09, 5.62340789e-09])]])], ['s1_s2', (<class 'tuple'>, [0, 2])], ['SN', (<class 'dict'>, [[(<class 'tuple'>, ['galaxy', 'galaxy']), array([[[4.93274276e-09, 0.00000000e+00],\n",
      "        [0.00000000e+00, 8.59388519e-09]],\n",
      "\n",
      "       [[4.93274276e-09, 0.00000000e+00],\n",
      "        [0.00000000e+00, 8.59388\n",
      "kwargs:    {}\n",
      "Exception: IndexError('only integers, slices (`:`), ellipsis (`...`), numpy.newaxis (`None`) and integer or boolean arrays are valid indices')\n",
      "\n",
      "distributed.worker - WARNING -  Compute Failed\n",
      "Function:  execute_task\n",
      "args:      ((<function apply at 0x1469e41fe1f0>, <bound method Covariance_utils.xi_cov of <skylens.cov_utils.Covariance_utils object at 0x1469c8120d60>>, [(<class 'tuple'>, [1, 1, 1, 1])], (<class 'dict'>, [['cov_cl', None], ['cls', (<class 'dict'>, [[13, array([8.53298120e-08, 1.16354891e-07, 1.45832485e-07, ...,\n",
      "       5.63053987e-09, 5.62697388e-09, 5.62340789e-09])], [24, array([8.53298120e-08, 1.16354891e-07, 1.45832485e-07, ...,\n",
      "       5.63053987e-09, 5.62697388e-09, 5.62340789e-09])], [14, array([8.53298120e-08, 1.16354891e-07, 1.45832485e-07, ...,\n",
      "       5.63053987e-09, 5.62697388e-09, 5.62340789e-09])], [23, array([8.53298120e-08, 1.16354891e-07, 1.45832485e-07, ...,\n",
      "       5.63053987e-09, 5.62697388e-09, 5.62340789e-09])]])], ['s1_s2', (<class 'tuple'>, [0, 0])], ['SN', (<class 'dict'>, [[(<class 'tuple'>, ['galaxy', 'galaxy']), array([[[4.93274276e-09, 0.00000000e+00],\n",
      "        [0.00000000e+00, 8.59388519e-09]],\n",
      "\n",
      "       [[4.93274276e-09, 0.00000000e+00],\n",
      "        [0.00000000e+00, 8.59388\n",
      "kwargs:    {}\n",
      "Exception: IndexError('only integers, slices (`:`), ellipsis (`...`), numpy.newaxis (`None`) and integer or boolean arrays are valid indices')\n",
      "\n",
      "distributed.worker - WARNING -  Compute Failed\n",
      "Function:  execute_task\n",
      "args:      ((<function apply at 0x1469e41fe1f0>, <bound method Covariance_utils.xi_cov of <skylens.cov_utils.Covariance_utils object at 0x1469c8120d60>>, [(<class 'tuple'>, [0, 1, 0, 1])], (<class 'dict'>, [['cov_cl', None], ['cls', (<class 'dict'>, [[13, array([8.06555501e-07, 1.05894202e-06, 1.27702410e-06, ...,\n",
      "       1.33716681e-08, 1.33626402e-08, 1.33536131e-08])], [24, array([3.26470135e-08, 4.86787844e-08, 5.85202207e-08, ...,\n",
      "       4.29967075e-10, 4.29672121e-10, 4.29377188e-10])], [14, array([1.99272924e-08, 2.77690215e-08, 3.16494253e-08, ...,\n",
      "       1.10043657e-10, 1.09962855e-10, 1.09882058e-10])], [23, array([8.06555501e-07, 1.05894202e-06, 1.27702410e-06, ...,\n",
      "       1.33716681e-08, 1.33626402e-08, 1.33536131e-08])]])], ['s1_s2', (<class 'tuple'>, [2, -2])], ['SN', (<class 'dict'>, [[(<class 'tuple'>, ['galaxy', 'galaxy']), array([[[4.93274276e-09, 0.00000000e+00],\n",
      "        [0.00000000e+00, 8.59388519e-09]],\n",
      "\n",
      "       [[4.93274276e-09, 0.00000000e+00],\n",
      "        [0.00000000e+00, 8.5938\n",
      "kwargs:    {}\n",
      "Exception: IndexError('only integers, slices (`:`), ellipsis (`...`), numpy.newaxis (`None`) and integer or boolean arrays are valid indices')\n",
      "\n",
      "distributed.worker - WARNING -  Compute Failed\n",
      "Function:  execute_task\n",
      "args:      ((<function apply at 0x1469e41fe1f0>, <bound method Covariance_utils.xi_cov of <skylens.cov_utils.Covariance_utils object at 0x1469c8120d60>>, [(<class 'tuple'>, [1, 1, 0, 1])], (<class 'dict'>, [['cov_cl', None], ['cls', (<class 'dict'>, [[13, array([8.06555501e-07, 1.05894202e-06, 1.27702410e-06, ...,\n",
      "       1.33716681e-08, 1.33626402e-08, 1.33536131e-08])], [24, array([8.53298120e-08, 1.16354891e-07, 1.45832485e-07, ...,\n",
      "       5.63053987e-09, 5.62697388e-09, 5.62340789e-09])], [14, array([8.53298120e-08, 1.16354891e-07, 1.45832485e-07, ...,\n",
      "       5.63053987e-09, 5.62697388e-09, 5.62340789e-09])], [23, array([8.06555501e-07, 1.05894202e-06, 1.27702410e-06, ...,\n",
      "       1.33716681e-08, 1.33626402e-08, 1.33536131e-08])]])], ['s1_s2', (<class 'tuple'>, [2, 2])], ['SN', (<class 'dict'>, [[(<class 'tuple'>, ['galaxy', 'galaxy']), array([[[4.93274276e-09, 0.00000000e+00],\n",
      "        [0.00000000e+00, 8.59388519e-09]],\n",
      "\n",
      "       [[4.93274276e-09, 0.00000000e+00],\n",
      "        [0.00000000e+00, 8.59388\n",
      "kwargs:    {}\n",
      "Exception: IndexError('only integers, slices (`:`), ellipsis (`...`), numpy.newaxis (`None`) and integer or boolean arrays are valid indices')\n",
      "\n",
      "distributed.worker - WARNING -  Compute Failed\n",
      "Function:  execute_task\n",
      "args:      ((<function apply at 0x1469e41fe1f0>, <bound method Covariance_utils.xi_cov of <skylens.cov_utils.Covariance_utils object at 0x1469c8120d60>>, [(<class 'tuple'>, [0, 1, 1, 1])], (<class 'dict'>, [['cov_cl', None], ['cls', (<class 'dict'>, [[13, array([8.53298120e-08, 1.16354891e-07, 1.45832485e-07, ...,\n",
      "       5.63053987e-09, 5.62697388e-09, 5.62340789e-09])], [24, array([3.26470135e-08, 4.86787844e-08, 5.85202207e-08, ...,\n",
      "       4.29967075e-10, 4.29672121e-10, 4.29377188e-10])], [14, array([1.99272924e-08, 2.77690215e-08, 3.16494253e-08, ...,\n",
      "       1.10043657e-10, 1.09962855e-10, 1.09882058e-10])], [23, array([8.53298120e-08, 1.16354891e-07, 1.45832485e-07, ...,\n",
      "       5.63053987e-09, 5.62697388e-09, 5.62340789e-09])]])], ['s1_s2', (<class 'tuple'>, [2, -2])], ['SN', (<class 'dict'>, [[(<class 'tuple'>, ['galaxy', 'galaxy']), array([[[4.93274276e-09, 0.00000000e+00],\n",
      "        [0.00000000e+00, 8.59388519e-09]],\n",
      "\n",
      "       [[4.93274276e-09, 0.00000000e+00],\n",
      "        [0.00000000e+00, 8.5938\n",
      "kwargs:    {}\n",
      "Exception: IndexError('only integers, slices (`:`), ellipsis (`...`), numpy.newaxis (`None`) and integer or boolean arrays are valid indices')\n",
      "\n",
      "distributed.worker - WARNING -  Compute Failed\n",
      "Function:  execute_task\n",
      "args:      ((<function apply at 0x1469e41fe1f0>, <bound method Covariance_utils.xi_cov of <skylens.cov_utils.Covariance_utils object at 0x1469c8120d60>>, [(<class 'tuple'>, [0, 1, 0, 0])], (<class 'dict'>, [['cov_cl', None], ['cls', (<class 'dict'>, [[13, array([8.06555501e-07, 1.05894202e-06, 1.27702410e-06, ...,\n",
      "       1.33716681e-08, 1.33626402e-08, 1.33536131e-08])], [24, array([8.06555501e-07, 1.05894202e-06, 1.27702410e-06, ...,\n",
      "       1.33716681e-08, 1.33626402e-08, 1.33536131e-08])], [14, array([8.06555501e-07, 1.05894202e-06, 1.27702410e-06, ...,\n",
      "       1.33716681e-08, 1.33626402e-08, 1.33536131e-08])], [23, array([8.06555501e-07, 1.05894202e-06, 1.27702410e-06, ...,\n",
      "       1.33716681e-08, 1.33626402e-08, 1.33536131e-08])]])], ['s1_s2', (<class 'tuple'>, [2, -2])], ['SN', (<class 'dict'>, [[(<class 'tuple'>, ['galaxy', 'galaxy']), array([[[4.93274276e-09, 0.00000000e+00],\n",
      "        [0.00000000e+00, 8.59388519e-09]],\n",
      "\n",
      "       [[4.93274276e-09, 0.00000000e+00],\n",
      "        [0.00000000e+00, 8.5938\n",
      "kwargs:    {}\n",
      "Exception: IndexError('only integers, slices (`:`), ellipsis (`...`), numpy.newaxis (`None`) and integer or boolean arrays are valid indices')\n",
      "\n",
      "distributed.worker - WARNING -  Compute Failed\n",
      "Function:  execute_task\n",
      "args:      ((<function apply at 0x1469e41fe1f0>, <bound method Covariance_utils.xi_cov of <skylens.cov_utils.Covariance_utils object at 0x1469c8120d60>>, [(<class 'tuple'>, [0, 0, 0, 1])], (<class 'dict'>, [['cov_cl', None], ['cls', (<class 'dict'>, [[13, array([8.06555501e-07, 1.05894202e-06, 1.27702410e-06, ...,\n",
      "       1.33716681e-08, 1.33626402e-08, 1.33536131e-08])], [24, array([8.53298120e-08, 1.16354891e-07, 1.45832485e-07, ...,\n",
      "       5.63053987e-09, 5.62697388e-09, 5.62340789e-09])], [14, array([8.53298120e-08, 1.16354891e-07, 1.45832485e-07, ...,\n",
      "       5.63053987e-09, 5.62697388e-09, 5.62340789e-09])], [23, array([8.06555501e-07, 1.05894202e-06, 1.27702410e-06, ...,\n",
      "       1.33716681e-08, 1.33626402e-08, 1.33536131e-08])]])], ['s1_s2', (<class 'tuple'>, [2, 2])], ['SN', (<class 'dict'>, [[(<class 'tuple'>, ['galaxy', 'galaxy']), array([[[4.93274276e-09, 0.00000000e+00],\n",
      "        [0.00000000e+00, 8.59388519e-09]],\n",
      "\n",
      "       [[4.93274276e-09, 0.00000000e+00],\n",
      "        [0.00000000e+00, 8.59388\n",
      "kwargs:    {}\n",
      "Exception: IndexError('only integers, slices (`:`), ellipsis (`...`), numpy.newaxis (`None`) and integer or boolean arrays are valid indices')\n",
      "\n"
     ]
    },
    {
     "name": "stderr",
     "output_type": "stream",
     "text": [
      "distributed.worker - WARNING -  Compute Failed\n",
      "Function:  execute_task\n",
      "args:      ((<function apply at 0x1469e41fe1f0>, <bound method Covariance_utils.xi_cov of <skylens.cov_utils.Covariance_utils object at 0x1469c8120d60>>, [(<class 'tuple'>, [1, 1, 0, 1])], (<class 'dict'>, [['cov_cl', None], ['cls', (<class 'dict'>, [[13, array([8.06555501e-07, 1.05894202e-06, 1.27702410e-06, ...,\n",
      "       1.33716681e-08, 1.33626402e-08, 1.33536131e-08])], [24, array([8.53298120e-08, 1.16354891e-07, 1.45832485e-07, ...,\n",
      "       5.63053987e-09, 5.62697388e-09, 5.62340789e-09])], [14, array([8.53298120e-08, 1.16354891e-07, 1.45832485e-07, ...,\n",
      "       5.63053987e-09, 5.62697388e-09, 5.62340789e-09])], [23, array([8.06555501e-07, 1.05894202e-06, 1.27702410e-06, ...,\n",
      "       1.33716681e-08, 1.33626402e-08, 1.33536131e-08])]])], ['s1_s2', (<class 'tuple'>, [2, -2])], ['SN', (<class 'dict'>, [[(<class 'tuple'>, ['galaxy', 'galaxy']), array([[[4.93274276e-09, 0.00000000e+00],\n",
      "        [0.00000000e+00, 8.59388519e-09]],\n",
      "\n",
      "       [[4.93274276e-09, 0.00000000e+00],\n",
      "        [0.00000000e+00, 8.5938\n",
      "kwargs:    {}\n",
      "Exception: IndexError('only integers, slices (`:`), ellipsis (`...`), numpy.newaxis (`None`) and integer or boolean arrays are valid indices')\n",
      "\n",
      "distributed.worker - WARNING -  Compute Failed\n",
      "Function:  execute_task\n",
      "args:      ((<function apply at 0x1469e41fe1f0>, <bound method Covariance_utils.xi_cov of <skylens.cov_utils.Covariance_utils object at 0x1469c8120d60>>, [(<class 'tuple'>, [0, 1, 1, 1])], (<class 'dict'>, [['cov_cl', None], ['cls', (<class 'dict'>, [[13, array([8.53298120e-08, 1.16354891e-07, 1.45832485e-07, ...,\n",
      "       5.63053987e-09, 5.62697388e-09, 5.62340789e-09])], [24, array([8.53298120e-08, 1.16354891e-07, 1.45832485e-07, ...,\n",
      "       5.63053987e-09, 5.62697388e-09, 5.62340789e-09])], [14, array([8.53298120e-08, 1.16354891e-07, 1.45832485e-07, ...,\n",
      "       5.63053987e-09, 5.62697388e-09, 5.62340789e-09])], [23, array([8.53298120e-08, 1.16354891e-07, 1.45832485e-07, ...,\n",
      "       5.63053987e-09, 5.62697388e-09, 5.62340789e-09])]])], ['s1_s2', (<class 'tuple'>, [2, -2])], ['SN', (<class 'dict'>, [[(<class 'tuple'>, ['galaxy', 'galaxy']), array([[[4.93274276e-09, 0.00000000e+00],\n",
      "        [0.00000000e+00, 8.59388519e-09]],\n",
      "\n",
      "       [[4.93274276e-09, 0.00000000e+00],\n",
      "        [0.00000000e+00, 8.5938\n",
      "kwargs:    {}\n",
      "Exception: IndexError('only integers, slices (`:`), ellipsis (`...`), numpy.newaxis (`None`) and integer or boolean arrays are valid indices')\n",
      "\n",
      "distributed.worker - WARNING -  Compute Failed\n",
      "Function:  execute_task\n",
      "args:      ((<function apply at 0x1469e41fe1f0>, <bound method Covariance_utils.xi_cov of <skylens.cov_utils.Covariance_utils object at 0x1469c8120d60>>, [(<class 'tuple'>, [0, 1, 0, 0])], (<class 'dict'>, [['cov_cl', None], ['cls', (<class 'dict'>, [[13, array([8.06555501e-07, 1.05894202e-06, 1.27702410e-06, ...,\n",
      "       1.33716681e-08, 1.33626402e-08, 1.33536131e-08])], [24, array([8.06555501e-07, 1.05894202e-06, 1.27702410e-06, ...,\n",
      "       1.33716681e-08, 1.33626402e-08, 1.33536131e-08])], [14, array([8.06555501e-07, 1.05894202e-06, 1.27702410e-06, ...,\n",
      "       1.33716681e-08, 1.33626402e-08, 1.33536131e-08])], [23, array([8.06555501e-07, 1.05894202e-06, 1.27702410e-06, ...,\n",
      "       1.33716681e-08, 1.33626402e-08, 1.33536131e-08])]])], ['s1_s2', (<class 'tuple'>, [2, 2])], ['SN', (<class 'dict'>, [[(<class 'tuple'>, ['galaxy', 'galaxy']), array([[[4.93274276e-09, 0.00000000e+00],\n",
      "        [0.00000000e+00, 8.59388519e-09]],\n",
      "\n",
      "       [[4.93274276e-09, 0.00000000e+00],\n",
      "        [0.00000000e+00, 8.59388\n",
      "kwargs:    {}\n",
      "Exception: IndexError('only integers, slices (`:`), ellipsis (`...`), numpy.newaxis (`None`) and integer or boolean arrays are valid indices')\n",
      "\n",
      "distributed.worker - WARNING -  Compute Failed\n",
      "Function:  execute_task\n",
      "args:      ((<function apply at 0x1469e41fe1f0>, <bound method Covariance_utils.xi_cov of <skylens.cov_utils.Covariance_utils object at 0x1469c8120d60>>, [(<class 'tuple'>, [1, 1, 1, 1])], (<class 'dict'>, [['cov_cl', None], ['cls', (<class 'dict'>, [[13, array([8.53298120e-08, 1.16354891e-07, 1.45832485e-07, ...,\n",
      "       5.63053987e-09, 5.62697388e-09, 5.62340789e-09])], [24, array([3.26470135e-08, 4.86787844e-08, 5.85202207e-08, ...,\n",
      "       4.29967075e-10, 4.29672121e-10, 4.29377188e-10])], [14, array([8.53298120e-08, 1.16354891e-07, 1.45832485e-07, ...,\n",
      "       5.63053987e-09, 5.62697388e-09, 5.62340789e-09])], [23, array([8.53298120e-08, 1.16354891e-07, 1.45832485e-07, ...,\n",
      "       5.63053987e-09, 5.62697388e-09, 5.62340789e-09])]])], ['s1_s2', (<class 'tuple'>, [0, 2])], ['SN', (<class 'dict'>, [[(<class 'tuple'>, ['galaxy', 'galaxy']), array([[[4.93274276e-09, 0.00000000e+00],\n",
      "        [0.00000000e+00, 8.59388519e-09]],\n",
      "\n",
      "       [[4.93274276e-09, 0.00000000e+00],\n",
      "        [0.00000000e+00, 8.59388\n",
      "kwargs:    {}\n",
      "Exception: IndexError('only integers, slices (`:`), ellipsis (`...`), numpy.newaxis (`None`) and integer or boolean arrays are valid indices')\n",
      "\n",
      "distributed.worker - WARNING -  Compute Failed\n",
      "Function:  execute_task\n",
      "args:      ((<function apply at 0x1469e41fe1f0>, <bound method Covariance_utils.xi_cov of <skylens.cov_utils.Covariance_utils object at 0x1469c8120d60>>, [(<class 'tuple'>, [0, 1, 1, 1])], (<class 'dict'>, [['cov_cl', None], ['cls', (<class 'dict'>, [[13, array([8.53298120e-08, 1.16354891e-07, 1.45832485e-07, ...,\n",
      "       5.63053987e-09, 5.62697388e-09, 5.62340789e-09])], [24, array([8.53298120e-08, 1.16354891e-07, 1.45832485e-07, ...,\n",
      "       5.63053987e-09, 5.62697388e-09, 5.62340789e-09])], [14, array([8.53298120e-08, 1.16354891e-07, 1.45832485e-07, ...,\n",
      "       5.63053987e-09, 5.62697388e-09, 5.62340789e-09])], [23, array([8.53298120e-08, 1.16354891e-07, 1.45832485e-07, ...,\n",
      "       5.63053987e-09, 5.62697388e-09, 5.62340789e-09])]])], ['s1_s2', (<class 'tuple'>, [2, 2])], ['SN', (<class 'dict'>, [[(<class 'tuple'>, ['galaxy', 'galaxy']), array([[[4.93274276e-09, 0.00000000e+00],\n",
      "        [0.00000000e+00, 8.59388519e-09]],\n",
      "\n",
      "       [[4.93274276e-09, 0.00000000e+00],\n",
      "        [0.00000000e+00, 8.59388\n",
      "kwargs:    {}\n",
      "Exception: IndexError('only integers, slices (`:`), ellipsis (`...`), numpy.newaxis (`None`) and integer or boolean arrays are valid indices')\n",
      "\n",
      "distributed.worker - WARNING -  Compute Failed\n",
      "Function:  execute_task\n",
      "args:      ((<function apply at 0x1469e41fe1f0>, <bound method Covariance_utils.xi_cov of <skylens.cov_utils.Covariance_utils object at 0x1469c8120d60>>, [(<class 'tuple'>, [0, 0, 0, 1])], (<class 'dict'>, [['cov_cl', None], ['cls', (<class 'dict'>, [[13, array([8.06555501e-07, 1.05894202e-06, 1.27702410e-06, ...,\n",
      "       1.33716681e-08, 1.33626402e-08, 1.33536131e-08])], [24, array([8.53298120e-08, 1.16354891e-07, 1.45832485e-07, ...,\n",
      "       5.63053987e-09, 5.62697388e-09, 5.62340789e-09])], [14, array([8.53298120e-08, 1.16354891e-07, 1.45832485e-07, ...,\n",
      "       5.63053987e-09, 5.62697388e-09, 5.62340789e-09])], [23, array([8.06555501e-07, 1.05894202e-06, 1.27702410e-06, ...,\n",
      "       1.33716681e-08, 1.33626402e-08, 1.33536131e-08])]])], ['s1_s2', (<class 'tuple'>, [2, -2])], ['SN', (<class 'dict'>, [[(<class 'tuple'>, ['galaxy', 'galaxy']), array([[[4.93274276e-09, 0.00000000e+00],\n",
      "        [0.00000000e+00, 8.59388519e-09]],\n",
      "\n",
      "       [[4.93274276e-09, 0.00000000e+00],\n",
      "        [0.00000000e+00, 8.5938\n",
      "kwargs:    {}\n",
      "Exception: IndexError('only integers, slices (`:`), ellipsis (`...`), numpy.newaxis (`None`) and integer or boolean arrays are valid indices')\n",
      "\n",
      "distributed.worker - WARNING -  Compute Failed\n",
      "Function:  execute_task\n",
      "args:      ((<function apply at 0x1469e41fe1f0>, <bound method Covariance_utils.xi_cov of <skylens.cov_utils.Covariance_utils object at 0x1469c8120d60>>, [(<class 'tuple'>, [1, 0, 0, 0])], (<class 'dict'>, [['cov_cl', None], ['cls', (<class 'dict'>, [[13, array([8.06555501e-07, 1.05894202e-06, 1.27702410e-06, ...,\n",
      "       1.33716681e-08, 1.33626402e-08, 1.33536131e-08])], [24, array([8.06555501e-07, 1.05894202e-06, 1.27702410e-06, ...,\n",
      "       1.33716681e-08, 1.33626402e-08, 1.33536131e-08])], [14, array([8.06555501e-07, 1.05894202e-06, 1.27702410e-06, ...,\n",
      "       1.33716681e-08, 1.33626402e-08, 1.33536131e-08])], [23, array([8.06555501e-07, 1.05894202e-06, 1.27702410e-06, ...,\n",
      "       1.33716681e-08, 1.33626402e-08, 1.33536131e-08])]])], ['s1_s2', (<class 'tuple'>, [0, 2])], ['SN', (<class 'dict'>, [[(<class 'tuple'>, ['galaxy', 'galaxy']), array([[[4.93274276e-09, 0.00000000e+00],\n",
      "        [0.00000000e+00, 8.59388519e-09]],\n",
      "\n",
      "       [[4.93274276e-09, 0.00000000e+00],\n",
      "        [0.00000000e+00, 8.59388\n",
      "kwargs:    {}\n",
      "Exception: IndexError('only integers, slices (`:`), ellipsis (`...`), numpy.newaxis (`None`) and integer or boolean arrays are valid indices')\n",
      "\n"
     ]
    },
    {
     "name": "stderr",
     "output_type": "stream",
     "text": [
      "distributed.worker - WARNING -  Compute Failed\n",
      "Function:  execute_task\n",
      "args:      ((<function apply at 0x1469e41fe1f0>, <bound method Covariance_utils.xi_cov of <skylens.cov_utils.Covariance_utils object at 0x1469c8120d60>>, [(<class 'tuple'>, [1, 1, 1, 0])], (<class 'dict'>, [['cov_cl', None], ['cls', (<class 'dict'>, [[13, array([8.53298120e-08, 1.16354891e-07, 1.45832485e-07, ...,\n",
      "       5.63053987e-09, 5.62697388e-09, 5.62340789e-09])], [24, array([1.99272924e-08, 2.77690215e-08, 3.16494253e-08, ...,\n",
      "       1.10043657e-10, 1.09962855e-10, 1.09882058e-10])], [14, array([1.99272924e-08, 2.77690215e-08, 3.16494253e-08, ...,\n",
      "       1.10043657e-10, 1.09962855e-10, 1.09882058e-10])], [23, array([8.53298120e-08, 1.16354891e-07, 1.45832485e-07, ...,\n",
      "       5.63053987e-09, 5.62697388e-09, 5.62340789e-09])]])], ['s1_s2', (<class 'tuple'>, [2, -2])], ['SN', (<class 'dict'>, [[(<class 'tuple'>, ['galaxy', 'galaxy']), array([[[4.93274276e-09, 0.00000000e+00],\n",
      "        [0.00000000e+00, 8.59388519e-09]],\n",
      "\n",
      "       [[4.93274276e-09, 0.00000000e+00],\n",
      "        [0.00000000e+00, 8.5938\n",
      "kwargs:    {}\n",
      "Exception: IndexError('only integers, slices (`:`), ellipsis (`...`), numpy.newaxis (`None`) and integer or boolean arrays are valid indices')\n",
      "\n",
      "distributed.worker - WARNING -  Compute Failed\n",
      "Function:  execute_task\n",
      "args:      ((<function apply at 0x1469e41fe1f0>, <bound method Covariance_utils.xi_cov of <skylens.cov_utils.Covariance_utils object at 0x1469c8120d60>>, [(<class 'tuple'>, [0, 0, 1, 1])], (<class 'dict'>, [['cov_cl', None], ['cls', (<class 'dict'>, [[13, array([8.06555501e-07, 1.05894202e-06, 1.27702410e-06, ...,\n",
      "       1.33716681e-08, 1.33626402e-08, 1.33536131e-08])], [24, array([8.53298120e-08, 1.16354891e-07, 1.45832485e-07, ...,\n",
      "       5.63053987e-09, 5.62697388e-09, 5.62340789e-09])], [14, array([8.06555501e-07, 1.05894202e-06, 1.27702410e-06, ...,\n",
      "       1.33716681e-08, 1.33626402e-08, 1.33536131e-08])], [23, array([8.53298120e-08, 1.16354891e-07, 1.45832485e-07, ...,\n",
      "       5.63053987e-09, 5.62697388e-09, 5.62340789e-09])]])], ['s1_s2', (<class 'tuple'>, [0, 2])], ['SN', (<class 'dict'>, [[(<class 'tuple'>, ['galaxy', 'galaxy']), array([[[4.93274276e-09, 0.00000000e+00],\n",
      "        [0.00000000e+00, 8.59388519e-09]],\n",
      "\n",
      "       [[4.93274276e-09, 0.00000000e+00],\n",
      "        [0.00000000e+00, 8.59388\n",
      "kwargs:    {}\n",
      "Exception: IndexError('only integers, slices (`:`), ellipsis (`...`), numpy.newaxis (`None`) and integer or boolean arrays are valid indices')\n",
      "\n",
      "distributed.worker - WARNING -  Compute Failed\n",
      "Function:  execute_task\n",
      "args:      ((<function apply at 0x1469e41fe1f0>, <bound method Covariance_utils.xi_cov of <skylens.cov_utils.Covariance_utils object at 0x1469c8120d60>>, [(<class 'tuple'>, [1, 1, 0, 0])], (<class 'dict'>, [['cov_cl', None], ['cls', (<class 'dict'>, [[13, array([8.06555501e-07, 1.05894202e-06, 1.27702410e-06, ...,\n",
      "       1.33716681e-08, 1.33626402e-08, 1.33536131e-08])], [24, array([8.06555501e-07, 1.05894202e-06, 1.27702410e-06, ...,\n",
      "       1.33716681e-08, 1.33626402e-08, 1.33536131e-08])], [14, array([8.06555501e-07, 1.05894202e-06, 1.27702410e-06, ...,\n",
      "       1.33716681e-08, 1.33626402e-08, 1.33536131e-08])], [23, array([8.06555501e-07, 1.05894202e-06, 1.27702410e-06, ...,\n",
      "       1.33716681e-08, 1.33626402e-08, 1.33536131e-08])]])], ['s1_s2', (<class 'tuple'>, [0, 2])], ['SN', (<class 'dict'>, [[(<class 'tuple'>, ['galaxy', 'galaxy']), array([[[4.93274276e-09, 0.00000000e+00],\n",
      "        [0.00000000e+00, 8.59388519e-09]],\n",
      "\n",
      "       [[4.93274276e-09, 0.00000000e+00],\n",
      "        [0.00000000e+00, 8.59388\n",
      "kwargs:    {}\n",
      "Exception: IndexError('only integers, slices (`:`), ellipsis (`...`), numpy.newaxis (`None`) and integer or boolean arrays are valid indices')\n",
      "\n",
      "distributed.worker - WARNING -  Compute Failed\n",
      "Function:  execute_task\n",
      "args:      ((<function apply at 0x1469e41fe1f0>, <bound method Covariance_utils.xi_cov of <skylens.cov_utils.Covariance_utils object at 0x1469c8120d60>>, [(<class 'tuple'>, [0, 1, 0, 1])], (<class 'dict'>, [['cov_cl', None], ['cls', (<class 'dict'>, [[13, array([8.06555501e-07, 1.05894202e-06, 1.27702410e-06, ...,\n",
      "       1.33716681e-08, 1.33626402e-08, 1.33536131e-08])], [24, array([3.26470135e-08, 4.86787844e-08, 5.85202207e-08, ...,\n",
      "       4.29967075e-10, 4.29672121e-10, 4.29377188e-10])], [14, array([8.06555501e-07, 1.05894202e-06, 1.27702410e-06, ...,\n",
      "       1.33716681e-08, 1.33626402e-08, 1.33536131e-08])], [23, array([8.06555501e-07, 1.05894202e-06, 1.27702410e-06, ...,\n",
      "       1.33716681e-08, 1.33626402e-08, 1.33536131e-08])]])], ['s1_s2', (<class 'tuple'>, [0, 2])], ['SN', (<class 'dict'>, [[(<class 'tuple'>, ['galaxy', 'galaxy']), array([[[4.93274276e-09, 0.00000000e+00],\n",
      "        [0.00000000e+00, 8.59388519e-09]],\n",
      "\n",
      "       [[4.93274276e-09, 0.00000000e+00],\n",
      "        [0.00000000e+00, 8.59388\n",
      "kwargs:    {}\n",
      "Exception: IndexError('only integers, slices (`:`), ellipsis (`...`), numpy.newaxis (`None`) and integer or boolean arrays are valid indices')\n",
      "\n",
      "distributed.worker - WARNING -  Compute Failed\n",
      "Function:  execute_task\n",
      "args:      ((<function apply at 0x1469e41fe1f0>, <bound method Covariance_utils.xi_cov of <skylens.cov_utils.Covariance_utils object at 0x1469c8120d60>>, [(<class 'tuple'>, [0, 0, 1, 1])], (<class 'dict'>, [['cov_cl', None], ['cls', (<class 'dict'>, [[13, array([8.53298120e-08, 1.16354891e-07, 1.45832485e-07, ...,\n",
      "       5.63053987e-09, 5.62697388e-09, 5.62340789e-09])], [24, array([1.99272924e-08, 2.77690215e-08, 3.16494253e-08, ...,\n",
      "       1.10043657e-10, 1.09962855e-10, 1.09882058e-10])], [14, array([1.99272924e-08, 2.77690215e-08, 3.16494253e-08, ...,\n",
      "       1.10043657e-10, 1.09962855e-10, 1.09882058e-10])], [23, array([8.53298120e-08, 1.16354891e-07, 1.45832485e-07, ...,\n",
      "       5.63053987e-09, 5.62697388e-09, 5.62340789e-09])]])], ['s1_s2', (<class 'tuple'>, [2, -2])], ['SN', (<class 'dict'>, [[(<class 'tuple'>, ['galaxy', 'galaxy']), array([[[4.93274276e-09, 0.00000000e+00],\n",
      "        [0.00000000e+00, 8.59388519e-09]],\n",
      "\n",
      "       [[4.93274276e-09, 0.00000000e+00],\n",
      "        [0.00000000e+00, 8.5938\n",
      "kwargs:    {}\n",
      "Exception: IndexError('only integers, slices (`:`), ellipsis (`...`), numpy.newaxis (`None`) and integer or boolean arrays are valid indices')\n",
      "\n",
      "distributed.worker - WARNING -  Compute Failed\n",
      "Function:  execute_task\n",
      "args:      ((<function apply at 0x1469e41fe1f0>, <bound method Covariance_utils.xi_cov of <skylens.cov_utils.Covariance_utils object at 0x1469c8120d60>>, [(<class 'tuple'>, [0, 0, 0, 0])], (<class 'dict'>, [['cov_cl', None], ['cls', (<class 'dict'>, [[13, array([8.06555501e-07, 1.05894202e-06, 1.27702410e-06, ...,\n",
      "       1.33716681e-08, 1.33626402e-08, 1.33536131e-08])], [24, array([8.06555501e-07, 1.05894202e-06, 1.27702410e-06, ...,\n",
      "       1.33716681e-08, 1.33626402e-08, 1.33536131e-08])], [14, array([8.06555501e-07, 1.05894202e-06, 1.27702410e-06, ...,\n",
      "       1.33716681e-08, 1.33626402e-08, 1.33536131e-08])], [23, array([8.06555501e-07, 1.05894202e-06, 1.27702410e-06, ...,\n",
      "       1.33716681e-08, 1.33626402e-08, 1.33536131e-08])]])], ['s1_s2', (<class 'tuple'>, [0, 0])], ['SN', (<class 'dict'>, [[(<class 'tuple'>, ['galaxy', 'galaxy']), array([[[4.93274276e-09, 0.00000000e+00],\n",
      "        [0.00000000e+00, 8.59388519e-09]],\n",
      "\n",
      "       [[4.93274276e-09, 0.00000000e+00],\n",
      "        [0.00000000e+00, 8.59388\n",
      "kwargs:    {}\n",
      "Exception: IndexError('only integers, slices (`:`), ellipsis (`...`), numpy.newaxis (`None`) and integer or boolean arrays are valid indices')\n",
      "\n"
     ]
    },
    {
     "ename": "IndexError",
     "evalue": "only integers, slices (`:`), ellipsis (`...`), numpy.newaxis (`None`) and integer or boolean arrays are valid indices",
     "output_type": "error",
     "traceback": [
      "\u001b[0;31m---------------------------------------------------------------------------\u001b[0m",
      "\u001b[0;31mIndexError\u001b[0m                                Traceback (most recent call last)",
      "\u001b[0;32m<ipython-input-24-f107fb269fc6>\u001b[0m in \u001b[0;36m<module>\u001b[0;34m\u001b[0m\n\u001b[1;32m      2\u001b[0m     \u001b[0mprint\u001b[0m\u001b[0;34m(\u001b[0m\u001b[0;34m'doing xi'\u001b[0m\u001b[0;34m)\u001b[0m\u001b[0;34m\u001b[0m\u001b[0;34m\u001b[0m\u001b[0m\n\u001b[1;32m      3\u001b[0m     \u001b[0mxi0G\u001b[0m\u001b[0;34m=\u001b[0m\u001b[0mkappa0\u001b[0m\u001b[0;34m.\u001b[0m\u001b[0mxi_tomo\u001b[0m\u001b[0;34m(\u001b[0m\u001b[0;34m)\u001b[0m\u001b[0;34m\u001b[0m\u001b[0;34m\u001b[0m\u001b[0m\n\u001b[0;32m----> 4\u001b[0;31m     \u001b[0mxi_cov\u001b[0m\u001b[0;34m=\u001b[0m\u001b[0mclient\u001b[0m\u001b[0;34m.\u001b[0m\u001b[0mcompute\u001b[0m\u001b[0;34m(\u001b[0m\u001b[0mxi0G\u001b[0m\u001b[0;34m[\u001b[0m\u001b[0;34m'stack'\u001b[0m\u001b[0;34m]\u001b[0m\u001b[0;34m)\u001b[0m\u001b[0;34m.\u001b[0m\u001b[0mresult\u001b[0m\u001b[0;34m(\u001b[0m\u001b[0;34m)\u001b[0m\u001b[0;34m\u001b[0m\u001b[0;34m\u001b[0m\u001b[0m\n\u001b[0m\u001b[1;32m      5\u001b[0m     \u001b[0mcov_inv\u001b[0m\u001b[0;34m=\u001b[0m\u001b[0mnp\u001b[0m\u001b[0;34m.\u001b[0m\u001b[0mlinalg\u001b[0m\u001b[0;34m.\u001b[0m\u001b[0minv\u001b[0m\u001b[0;34m(\u001b[0m\u001b[0mxi_cov\u001b[0m\u001b[0;34m[\u001b[0m\u001b[0;34m'cov'\u001b[0m\u001b[0;34m]\u001b[0m\u001b[0;34m.\u001b[0m\u001b[0mtodense\u001b[0m\u001b[0;34m(\u001b[0m\u001b[0;34m)\u001b[0m\u001b[0;34m)\u001b[0m\u001b[0;34m\u001b[0m\u001b[0;34m\u001b[0m\u001b[0m\n\u001b[1;32m      6\u001b[0m     \u001b[0mdata\u001b[0m\u001b[0;34m=\u001b[0m\u001b[0mxi_cov\u001b[0m\u001b[0;34m[\u001b[0m\u001b[0;34m'xi'\u001b[0m\u001b[0;34m]\u001b[0m\u001b[0;34m\u001b[0m\u001b[0;34m\u001b[0m\u001b[0m\n",
      "\u001b[0;32m~/.local/lib/python3.8/site-packages/distributed-2.30.1-py3.8.egg/distributed/client.py\u001b[0m in \u001b[0;36mresult\u001b[0;34m(self, timeout)\u001b[0m\n\u001b[1;32m    223\u001b[0m         \u001b[0;32mif\u001b[0m \u001b[0mself\u001b[0m\u001b[0;34m.\u001b[0m\u001b[0mstatus\u001b[0m \u001b[0;34m==\u001b[0m \u001b[0;34m\"error\"\u001b[0m\u001b[0;34m:\u001b[0m\u001b[0;34m\u001b[0m\u001b[0;34m\u001b[0m\u001b[0m\n\u001b[1;32m    224\u001b[0m             \u001b[0mtyp\u001b[0m\u001b[0;34m,\u001b[0m \u001b[0mexc\u001b[0m\u001b[0;34m,\u001b[0m \u001b[0mtb\u001b[0m \u001b[0;34m=\u001b[0m \u001b[0mresult\u001b[0m\u001b[0;34m\u001b[0m\u001b[0;34m\u001b[0m\u001b[0m\n\u001b[0;32m--> 225\u001b[0;31m             \u001b[0;32mraise\u001b[0m \u001b[0mexc\u001b[0m\u001b[0;34m.\u001b[0m\u001b[0mwith_traceback\u001b[0m\u001b[0;34m(\u001b[0m\u001b[0mtb\u001b[0m\u001b[0;34m)\u001b[0m\u001b[0;34m\u001b[0m\u001b[0;34m\u001b[0m\u001b[0m\n\u001b[0m\u001b[1;32m    226\u001b[0m         \u001b[0;32melif\u001b[0m \u001b[0mself\u001b[0m\u001b[0;34m.\u001b[0m\u001b[0mstatus\u001b[0m \u001b[0;34m==\u001b[0m \u001b[0;34m\"cancelled\"\u001b[0m\u001b[0;34m:\u001b[0m\u001b[0;34m\u001b[0m\u001b[0;34m\u001b[0m\u001b[0m\n\u001b[1;32m    227\u001b[0m             \u001b[0;32mraise\u001b[0m \u001b[0mresult\u001b[0m\u001b[0;34m\u001b[0m\u001b[0;34m\u001b[0m\u001b[0m\n",
      "\u001b[0;32m~/.local/lib/python3.8/site-packages/dask-2.30.0-py3.8.egg/dask/utils.py\u001b[0m in \u001b[0;36mapply\u001b[0;34m(func, args, kwargs)\u001b[0m\n\u001b[1;32m     27\u001b[0m \u001b[0;32mdef\u001b[0m \u001b[0mapply\u001b[0m\u001b[0;34m(\u001b[0m\u001b[0mfunc\u001b[0m\u001b[0;34m,\u001b[0m \u001b[0margs\u001b[0m\u001b[0;34m,\u001b[0m \u001b[0mkwargs\u001b[0m\u001b[0;34m=\u001b[0m\u001b[0;32mNone\u001b[0m\u001b[0;34m)\u001b[0m\u001b[0;34m:\u001b[0m\u001b[0;34m\u001b[0m\u001b[0;34m\u001b[0m\u001b[0m\n\u001b[1;32m     28\u001b[0m     \u001b[0;32mif\u001b[0m \u001b[0mkwargs\u001b[0m\u001b[0;34m:\u001b[0m\u001b[0;34m\u001b[0m\u001b[0;34m\u001b[0m\u001b[0m\n\u001b[0;32m---> 29\u001b[0;31m         \u001b[0;32mreturn\u001b[0m \u001b[0mfunc\u001b[0m\u001b[0;34m(\u001b[0m\u001b[0;34m*\u001b[0m\u001b[0margs\u001b[0m\u001b[0;34m,\u001b[0m \u001b[0;34m**\u001b[0m\u001b[0mkwargs\u001b[0m\u001b[0;34m)\u001b[0m\u001b[0;34m\u001b[0m\u001b[0;34m\u001b[0m\u001b[0m\n\u001b[0m\u001b[1;32m     30\u001b[0m     \u001b[0;32melse\u001b[0m\u001b[0;34m:\u001b[0m\u001b[0;34m\u001b[0m\u001b[0;34m\u001b[0m\u001b[0m\n\u001b[1;32m     31\u001b[0m         \u001b[0;32mreturn\u001b[0m \u001b[0mfunc\u001b[0m\u001b[0;34m(\u001b[0m\u001b[0;34m*\u001b[0m\u001b[0margs\u001b[0m\u001b[0;34m)\u001b[0m\u001b[0;34m\u001b[0m\u001b[0;34m\u001b[0m\u001b[0m\n",
      "\u001b[0;32m~/.local/lib/python3.8/site-packages/skylens-0.1-py3.8.egg/skylens/cov_utils.py\u001b[0m in \u001b[0;36mxi_cov\u001b[0;34m(self, cov_indx, cov_cl, cls, s1_s2, s1_s2_cross, corr1, corr2, Win_cov, Win_cl1, Win_cl2, SN, z_bins, sig_cL, WT, WT_kwargs, xi_bin_utils)\u001b[0m\n\u001b[1;32m    589\u001b[0m             \u001b[0mbf\u001b[0m\u001b[0;34m=\u001b[0m\u001b[0;34m-\u001b[0m\u001b[0;36m1\u001b[0m\u001b[0;34m\u001b[0m\u001b[0;34m\u001b[0m\u001b[0m\n\u001b[1;32m    590\u001b[0m \u001b[0;34m\u001b[0m\u001b[0m\n\u001b[0;32m--> 591\u001b[0;31m         \u001b[0mcov_xi\u001b[0m\u001b[0;34m[\u001b[0m\u001b[0;34m'G'\u001b[0m\u001b[0;34m]\u001b[0m\u001b[0;34m=\u001b[0m\u001b[0mself\u001b[0m\u001b[0;34m.\u001b[0m\u001b[0mxi_gaussian_cov\u001b[0m\u001b[0;34m(\u001b[0m\u001b[0mcls\u001b[0m\u001b[0;34m,\u001b[0m\u001b[0mSN\u001b[0m\u001b[0;34m,\u001b[0m\u001b[0mtracers\u001b[0m\u001b[0;34m,\u001b[0m\u001b[0mz_indx\u001b[0m\u001b[0;34m,\u001b[0m\u001b[0mWin\u001b[0m\u001b[0;34m,\u001b[0m\u001b[0mWT_kwargs\u001b[0m\u001b[0;34m,\u001b[0m\u001b[0mbf\u001b[0m\u001b[0;34m)\u001b[0m\u001b[0;34m\u001b[0m\u001b[0;34m\u001b[0m\u001b[0m\n\u001b[0m\u001b[1;32m    592\u001b[0m \u001b[0;34m\u001b[0m\u001b[0m\n\u001b[1;32m    593\u001b[0m         \u001b[0;32mif\u001b[0m \u001b[0;32mnot\u001b[0m \u001b[0mself\u001b[0m\u001b[0;34m.\u001b[0m\u001b[0muse_binned_theta\u001b[0m\u001b[0;34m:\u001b[0m\u001b[0;34m\u001b[0m\u001b[0;34m\u001b[0m\u001b[0m\n",
      "\u001b[0;32m~/.local/lib/python3.8/site-packages/skylens-0.1-py3.8.egg/skylens/cov_utils.py\u001b[0m in \u001b[0;36mxi_gaussian_cov\u001b[0;34m(self, cls, SN, tracers, z_indx, Win, WT_kwargs, Bmode_mf)\u001b[0m\n\u001b[1;32m    286\u001b[0m         \u001b[0;31m#FIXME: Need to implement the case when we are only using bin centers.\u001b[0m\u001b[0;34m\u001b[0m\u001b[0;34m\u001b[0m\u001b[0;34m\u001b[0m\u001b[0m\n\u001b[1;32m    287\u001b[0m         \u001b[0;32mif\u001b[0m \u001b[0mWin\u001b[0m \u001b[0;32mis\u001b[0m \u001b[0;32mNone\u001b[0m\u001b[0;34m:\u001b[0m\u001b[0;34m\u001b[0m\u001b[0;34m\u001b[0m\u001b[0m\n\u001b[0;32m--> 288\u001b[0;31m             \u001b[0;32mreturn\u001b[0m \u001b[0mself\u001b[0m\u001b[0;34m.\u001b[0m\u001b[0mxi_gaussian_cov_no_win\u001b[0m\u001b[0;34m(\u001b[0m\u001b[0mcls\u001b[0m\u001b[0;34m,\u001b[0m\u001b[0mSN\u001b[0m\u001b[0;34m,\u001b[0m\u001b[0mtracers\u001b[0m\u001b[0;34m,\u001b[0m\u001b[0mz_indx\u001b[0m\u001b[0;34m,\u001b[0m\u001b[0mWin\u001b[0m\u001b[0;34m,\u001b[0m\u001b[0mWT_kwargs\u001b[0m\u001b[0;34m,\u001b[0m\u001b[0mBmode_mf\u001b[0m\u001b[0;34m)\u001b[0m\u001b[0;34m\u001b[0m\u001b[0;34m\u001b[0m\u001b[0m\n\u001b[0m\u001b[1;32m    289\u001b[0m         \u001b[0mSN2\u001b[0m\u001b[0;34m=\u001b[0m\u001b[0mself\u001b[0m\u001b[0;34m.\u001b[0m\u001b[0mget_SN\u001b[0m\u001b[0;34m(\u001b[0m\u001b[0mSN\u001b[0m\u001b[0;34m,\u001b[0m\u001b[0mtracers\u001b[0m\u001b[0;34m,\u001b[0m\u001b[0mz_indx\u001b[0m\u001b[0;34m)\u001b[0m\u001b[0;34m\u001b[0m\u001b[0;34m\u001b[0m\u001b[0m\n\u001b[1;32m    290\u001b[0m         \u001b[0mCV\u001b[0m\u001b[0;34m=\u001b[0m\u001b[0mself\u001b[0m\u001b[0;34m.\u001b[0m\u001b[0mget_CV_cl\u001b[0m\u001b[0;34m(\u001b[0m\u001b[0mcls\u001b[0m\u001b[0;34m,\u001b[0m\u001b[0mtracers\u001b[0m\u001b[0;34m,\u001b[0m\u001b[0mz_indx\u001b[0m\u001b[0;34m)\u001b[0m\u001b[0;34m\u001b[0m\u001b[0;34m\u001b[0m\u001b[0m\n",
      "\u001b[0;32m~/.local/lib/python3.8/site-packages/skylens-0.1-py3.8.egg/skylens/cov_utils.py\u001b[0m in \u001b[0;36mxi_gaussian_cov_no_win\u001b[0;34m(self, cls, SN, tracers, z_indx, Win, WT_kwargs, Bmode_mf)\u001b[0m\n\u001b[1;32m    399\u001b[0m                     \u001b[0;32mif\u001b[0m \u001b[0mk\u001b[0m\u001b[0;34m==\u001b[0m\u001b[0;34m'NN'\u001b[0m \u001b[0;32mand\u001b[0m \u001b[0mself\u001b[0m\u001b[0;34m.\u001b[0m\u001b[0mxi_SN_analytical\u001b[0m\u001b[0;34m:\u001b[0m\u001b[0;34m\u001b[0m\u001b[0;34m\u001b[0m\u001b[0m\n\u001b[1;32m    400\u001b[0m                         \u001b[0;32mif\u001b[0m \u001b[0;32mnot\u001b[0m \u001b[0mself\u001b[0m\u001b[0;34m.\u001b[0m\u001b[0muse_binned_theta\u001b[0m\u001b[0;34m:\u001b[0m\u001b[0;34m\u001b[0m\u001b[0;34m\u001b[0m\u001b[0m\n\u001b[0;32m--> 401\u001b[0;31m                                 \u001b[0mG_t_SNi\u001b[0m\u001b[0;34m=\u001b[0m\u001b[0mSN2\u001b[0m\u001b[0;34m[\u001b[0m\u001b[0mc1\u001b[0m\u001b[0;34m]\u001b[0m\u001b[0;34m[\u001b[0m\u001b[0;34m-\u001b[0m\u001b[0;36m1\u001b[0m\u001b[0;34m]\u001b[0m\u001b[0;34m*\u001b[0m\u001b[0mSN2\u001b[0m\u001b[0;34m[\u001b[0m\u001b[0mc2\u001b[0m\u001b[0;34m]\u001b[0m\u001b[0;34m[\u001b[0m\u001b[0;34m-\u001b[0m\u001b[0;36m1\u001b[0m\u001b[0;34m]\u001b[0m\u001b[0;34m/\u001b[0m\u001b[0;34m(\u001b[0m\u001b[0mWT_kwargs\u001b[0m\u001b[0;34m[\u001b[0m\u001b[0;34m'theta'\u001b[0m\u001b[0;34m]\u001b[0m\u001b[0;34m[\u001b[0m\u001b[0;34m's1_s2'\u001b[0m\u001b[0;34m]\u001b[0m\u001b[0;34m)\u001b[0m\u001b[0;31m#Fixme: wont' work with binned_theta\u001b[0m\u001b[0;34m\u001b[0m\u001b[0;34m\u001b[0m\u001b[0m\n\u001b[0m\u001b[1;32m    402\u001b[0m                         \u001b[0;32melse\u001b[0m\u001b[0;34m:\u001b[0m\u001b[0;34m\u001b[0m\u001b[0;34m\u001b[0m\u001b[0m\n\u001b[1;32m    403\u001b[0m                                 \u001b[0mG_t_SNi\u001b[0m\u001b[0;34m=\u001b[0m\u001b[0mSN2\u001b[0m\u001b[0;34m[\u001b[0m\u001b[0mc1\u001b[0m\u001b[0;34m]\u001b[0m\u001b[0;34m[\u001b[0m\u001b[0;34m-\u001b[0m\u001b[0;36m1\u001b[0m\u001b[0;34m]\u001b[0m\u001b[0;34m*\u001b[0m\u001b[0mSN2\u001b[0m\u001b[0;34m[\u001b[0m\u001b[0mc2\u001b[0m\u001b[0;34m]\u001b[0m\u001b[0;34m[\u001b[0m\u001b[0;34m-\u001b[0m\u001b[0;36m1\u001b[0m\u001b[0;34m]\u001b[0m\u001b[0;34m/\u001b[0m\u001b[0mself\u001b[0m\u001b[0;34m.\u001b[0m\u001b[0mWT\u001b[0m\u001b[0;34m.\u001b[0m\u001b[0mtheta_bins_center\u001b[0m\u001b[0;34m/\u001b[0m\u001b[0mself\u001b[0m\u001b[0;34m.\u001b[0m\u001b[0mWT\u001b[0m\u001b[0;34m.\u001b[0m\u001b[0mdelta_theta_bins\u001b[0m\u001b[0;34m\u001b[0m\u001b[0;34m\u001b[0m\u001b[0m\n",
      "\u001b[0;31mIndexError\u001b[0m: only integers, slices (`:`), ellipsis (`...`), numpy.newaxis (`None`) and integer or boolean arrays are valid indices"
     ]
    }
   ],
   "source": [
    "if do_xi:\n",
    "    print('doing xi')\n",
    "    xi0G=kappa0.xi_tomo()\n",
    "    xi_cov=client.compute(xi0G['stack']).result()\n",
    "    cov_inv=np.linalg.inv(xi_cov['cov'].todense())\n",
    "    data=xi_cov['xi']\n",
    "else:\n",
    "    print('doing cl')\n",
    "    cl0G=kappa0.cl_tomo()\n",
    "    cl_cov=client.compute(cl0G['stack']).result()\n",
    "    cov_inv=np.linalg.inv(cl_cov['cov'].todense())\n",
    "    data=cl_cov['pcl_b']"
   ]
  },
  {
   "cell_type": "code",
   "execution_count": null,
   "metadata": {},
   "outputs": [],
   "source": [
    "print('Got data and cov')"
   ]
  },
  {
   "cell_type": "code",
   "execution_count": null,
   "metadata": {},
   "outputs": [],
   "source": [
    "kappa0.do_cov=False"
   ]
  },
  {
   "cell_type": "code",
   "execution_count": null,
   "metadata": {},
   "outputs": [],
   "source": [
    "kappa0=Skylens(zs_bins=zs_bin,do_cov=do_cov,bin_cl=bin_cl,l_bins=l_bins,l=l0, zg_bins=zs_bin,\n",
    "               use_window=use_window,Tri_cov=Tri_cov,\n",
    "               use_binned_l=use_binned_l,wigner_files=wigner_files,\n",
    "               SSV_cov=SSV_cov,tidal_SSV_cov=tidal_SSV_cov,f_sky=0.35,\n",
    "               store_win=store_win,window_lmax=window_lmax,\n",
    "               sparse_cov=True,corrs=corrs,\n",
    "               do_xi=do_xi,bin_xi=bin_xi,theta_bins=th_bins,WT=WT,\n",
    "                use_binned_theta=use_binned_theta,\n",
    "                nz_PS=10,do_pseudo_cl=do_pseudo_cl,xi_win_approx=True,\n",
    "                xi_SN_analytical=xi_SN_analytical,power_spectra_kwargs=power_spectra_kwargs,\n",
    "               Win=kappa0.Win\n",
    "               )"
   ]
  },
  {
   "cell_type": "code",
   "execution_count": null,
   "metadata": {},
   "outputs": [],
   "source": [
    "params_order=['b1_0','b1_1']#,'Ase9','Om']\n",
    "\n",
    "priors_max=[2,0]#,10,.5]\n",
    "priors_min=[0.5,0.5]#,0.1,0.1]\n",
    "\n",
    "cosmo_fid=kappa0.Ang_PS.PS.cosmo_params\n",
    "Ang_PS=kappa0.Ang_PS\n"
   ]
  },
  {
   "cell_type": "code",
   "execution_count": null,
   "metadata": {},
   "outputs": [],
   "source": [
    "zs_bin1=copy.deepcopy(zs_bin)\n",
    "del_k=['window','window_cl']\n",
    "for k in del_k:\n",
    "    if zs_bin1.get(k) is not None:\n",
    "        del zs_bin1[k]\n",
    "    for i in np.arange(zs_bin1['n_bins']):\n",
    "        if zs_bin1[i].get(k) is not None:\n",
    "            del zs_bin1[i][k]"
   ]
  },
  {
   "cell_type": "code",
   "execution_count": null,
   "metadata": {},
   "outputs": [],
   "source": [
    "def get_priors(params):#assume flat priors for now\n",
    "    x=np.all(params>priors_max,axis=1)\n",
    "    x*=np.all(params<priors_max,axis=1)\n",
    "    p=np.zeros(len(params))\n",
    "    p[x]=-np.inf\n",
    "    return p"
   ]
  },
  {
   "cell_type": "code",
   "execution_count": null,
   "metadata": {},
   "outputs": [],
   "source": [
    "def assign_zparams(zbins={},p_name='',p_value=None):\n",
    "    pp=p_name.split('_')\n",
    "    p_n=pp[0]\n",
    "    bin_indx=np.int(pp[1])\n",
    "    zbins[bin_indx][p_n]=p_value\n",
    "    return zbins"
   ]
  },
  {
   "cell_type": "code",
   "execution_count": null,
   "metadata": {},
   "outputs": [],
   "source": [
    "def get_model(params,data,kappa0,z_bins,log_prior,indx):\n",
    "#     t1=time.time()\n",
    "#     print('get_model',params,log_prior)\n",
    "    if not np.isfinite(log_prior):\n",
    "        return np.zeros_like(data)\n",
    "#     kappa=copy.deepcopy(kappa0)\n",
    "    kappa=kappa0\n",
    "    cosmo_params=copy.deepcopy(cosmo_fid)\n",
    "    Ang_PS=copy.deepcopy(kappa.Ang_PS)\n",
    "    zbins=copy.deepcopy(z_bins)\n",
    "#     t2=time.time()\n",
    "    i=0\n",
    "    for p in params_order:\n",
    "        if cosmo_params.get(p) is not None:\n",
    "            cosmo_params[p]=params[i]\n",
    "        else:\n",
    "            zbins=assign_zparams(zbins=zbins,p_name=p,p_value=params[i])\n",
    "        i+=1\n",
    "    zbins={'galaxy':zbins,'shear':zbins}\n",
    "#     t3=time.time()\n",
    "    model=kappa.tomo_short(cosmo_params=cosmo_params,z_bins=zbins,Ang_PS=Ang_PS)\n",
    "#     print('get_model',indx,time.time()-t1,t2-t1,t3-t2)\n",
    "    return model"
   ]
  },
  {
   "cell_type": "code",
   "execution_count": null,
   "metadata": {},
   "outputs": [],
   "source": [
    "def chi_sq(params,data,cov_inv,kappa0,z_bins):\n",
    "    t1=time.time()\n",
    "    params=np.atleast_2d(params)\n",
    "    log_priors=get_priors(params)\n",
    "#     print('params shape',params.shape)\n",
    "    n_params=len(params)\n",
    "#     models=client.map(get_model,params)\n",
    "#     print(models)\n",
    "#     models=client.gather(models)\n",
    "#     print(models.shape)\n",
    "    models={}\n",
    "    for i in np.arange(n_params):\n",
    "        models[i]=delayed(get_model)(params[i],data,kappa0,z_bins,log_priors[i],i)\n",
    "    models=client.compute(models).result()\n",
    "    models=np.array(list(models.values())) #fixme: check to ensure ordering\n",
    "    loss=data-models\n",
    "    chisq=np.zeros(n_params)-np.inf\n",
    "    for i in np.arange(n_params):\n",
    "      chisq[i]=-0.5*loss[i]@cov_inv@loss[i].T\n",
    "#     chisq=-0.5*loss@(cov_inv@loss.T)\n",
    "#     chisq=np.diag(chisq) #fixme: check to ensure ordering\n",
    "    chisq+=log_priors\n",
    "    print('chisq',time.time()-t1)\n",
    "    return chisq"
   ]
  },
  {
   "cell_type": "code",
   "execution_count": null,
   "metadata": {},
   "outputs": [],
   "source": [
    "def ini_walkers():\n",
    "    ndim=len(params_order)\n",
    "    p0=np.zeros(ndim)\n",
    "    p0f=np.zeros(ndim)\n",
    "    i=0\n",
    "    for p in params_order:\n",
    "        if cosmo_fid.get(p) is not None:\n",
    "            p0[i]=cosmo_fid[p]\n",
    "            p0f=p0[i]*.5\n",
    "        else:\n",
    "            pp=p.split('_')\n",
    "            p_n=pp[0]\n",
    "            bin_indx=np.int(pp[1])\n",
    "#             print(bin_indx,p_n,zs_bin1[bin_indx].keys())\n",
    "            p0[i]=zs_bin1[bin_indx][p_n]\n",
    "            p0f=.2\n",
    "        i+=1\n",
    "    return p0,p0f,ndim"
   ]
  },
  {
   "cell_type": "code",
   "execution_count": null,
   "metadata": {},
   "outputs": [],
   "source": [
    "nwalkers=100\n",
    "nsteps_burn=1\n",
    "thin=1\n",
    "ncpu=25\n",
    "nsteps=10"
   ]
  },
  {
   "cell_type": "code",
   "execution_count": null,
   "metadata": {},
   "outputs": [],
   "source": [
    "def sample_params(fname=''):\n",
    "    p00,p0_f,ndim=ini_walkers()\n",
    "    p0 = np.random.uniform(-1,1,ndim * nwalkers).reshape((nwalkers, ndim))*p0_f*p00 + p00\n",
    "\n",
    "    outp={}\n",
    "    sampler = emcee.EnsembleSampler(nwalkers, ndim,chi_sq,threads=ncpu,a=2,vectorize=True,args=(data,cov_inv,kappa0,zs_bin1))\n",
    "                                                                #a=2 default, 5 ok\n",
    "\n",
    "    t1=time.time()\n",
    "\n",
    "    pos, prob, state = sampler.run_mcmc(p0, nsteps_burn,store=False)\n",
    "    print('done burn in '+str(time.time()-t1)+'  '+str((time.time()-t1)/3600.)+'  '+\n",
    "    str(np.mean(sampler.acceptance_fraction)))\n",
    "\n",
    "    sampler.reset()\n",
    "\n",
    "    step_size=nsteps\n",
    "#     if step_size%thin!=0 or step_size==0:\n",
    "#         step_size=max(1,int(step_size/thin)*thin+thin)\n",
    "        \n",
    "#         step_size=nsteps/10 #30\n",
    "#         if step_size%thin!=0 or step_size==0:\n",
    "#             step_size=max(1,int(step_size/thin)*thin+thin)\n",
    "#         #print 'step-size',step_size,thin\n",
    "#         steps_taken=0\n",
    "#     while steps_taken<nsteps:\n",
    "    pos, prob, state =sampler.run_mcmc(pos, step_size,thin=thin)\n",
    "\n",
    "    outp['chain']=sampler.flatchain\n",
    "    outp['p0']=p00\n",
    "    outp['params']=params_order\n",
    "    outp['ln_prob']=sampler.lnprobability.flatten()\n",
    "    outp['acceptance_fraction']=np.mean(sampler.acceptance_fraction)\n",
    "    outp['pos']=pos\n",
    "    outp['prob']=prob\n",
    "    outp['nsteps']=nsteps\n",
    "    outp['nwalkers']=nwalkers\n",
    "    outp['burnin']=nsteps_burn\n",
    "    outp['thin']=thin\n",
    "    outp['data_corrected']=self.data_corrected\n",
    "    outp['time']=time.time()-t1\n",
    "\n",
    "#     with open(fname, 'wb') as f:\n",
    "#         pickle.dump(outp,f)\n",
    "#     f.close()\n",
    "    print('Done steps '+str(steps_taken)+ ' acceptance fraction ' +str(outp['acceptance_fraction'])+'  '\n",
    "    'time'+str(time.time()-t1)+str((time.time()-t1)/3600.))\n",
    "    return outp"
   ]
  },
  {
   "cell_type": "code",
   "execution_count": null,
   "metadata": {},
   "outputs": [],
   "source": [
    "kappa0.Ang_PS.reset()\n",
    "# kappa0.Ang_PS.angular_power_z()"
   ]
  },
  {
   "cell_type": "code",
   "execution_count": null,
   "metadata": {},
   "outputs": [],
   "source": [
    "outp=sample_params()"
   ]
  },
  {
   "cell_type": "code",
   "execution_count": null,
   "metadata": {},
   "outputs": [],
   "source": [
    "outp['l0']=l0\n",
    "outp['l_bins']=l_bins\n",
    "outp['do_xi']=do_xi\n",
    "outp['do_pseudo_cl']=do_pseudo_cl\n",
    "outp['use_binned_l']=use_binned_l\n",
    "outp['use_binned_theta']=use_binned_theta\n",
    "outp['data']=data\n",
    "outp['zbins']=zs_bin1\n",
    "outp['cov_inv']=cov_inv\n",
    "outp['params_order']=params_order\n"
   ]
  },
  {
   "cell_type": "code",
   "execution_count": null,
   "metadata": {},
   "outputs": [],
   "source": [
    "file_home='/verafs/scratch/phy200040p/sukhdeep/physics2/skylens/tests/imaster/'\n",
    "if do_xi:\n",
    "    fname_out='xi_{nz}_bl{bl}_bth{bth}_nw{nw}_ns{ns}.pkl'.format(nz=zs_bin1['nbins'],bl=np.int(use_binned_l),bth=np.int(use_binned_theta),ns=nsteps,nw=nwalkers)\n",
    "if do_pseudo_cl:\n",
    "    fname_out='pcl_{nz}_bl_bth.pkl'.format(nz=zs_bin1['nbins'],bl=np.int(use_binned_l),bth=np.int(use_binned_theta))\n",
    "fname_out=file_home+fname_out\n",
    "with open(fname_out, 'wb') as f:\n",
    "    pickle.dump(outp,f)"
   ]
  },
  {
   "cell_type": "code",
   "execution_count": null,
   "metadata": {},
   "outputs": [],
   "source": [
    "from skylens import *\n",
    "PS=Power_Spectra()"
   ]
  },
  {
   "cell_type": "code",
   "execution_count": null,
   "metadata": {},
   "outputs": [],
   "source": [
    "z1=np.linspace(.1,1,10)\n",
    "%time PS.pk_func(z=z1)"
   ]
  },
  {
   "cell_type": "code",
   "execution_count": null,
   "metadata": {},
   "outputs": [],
   "source": [
    "z1=np.linspace(.1,1,100)\n",
    "%time PS.pk_func(z=z1)"
   ]
  },
  {
   "cell_type": "code",
   "execution_count": null,
   "metadata": {},
   "outputs": [],
   "source": []
  },
  {
   "cell_type": "code",
   "execution_count": null,
   "metadata": {},
   "outputs": [],
   "source": []
  },
  {
   "cell_type": "code",
   "execution_count": null,
   "metadata": {},
   "outputs": [],
   "source": [
    "\n",
    "from tensorflow_probability.substrates import jax as tfp\n",
    "import corner"
   ]
  },
  {
   "cell_type": "code",
   "execution_count": null,
   "metadata": {},
   "outputs": [],
   "source": [
    "\n",
    "def model_func(params,x):\n",
    "    return params[0]+params[1]*x\n",
    "\n",
    "def target_log_prob_fn(params0,params1):\n",
    "    model=model_func([params0,params1],x)\n",
    "    loss=data-model\n",
    "    chisq=loss@cov_inv@loss\n",
    "    return -0.5*chisq "
   ]
  },
  {
   "cell_type": "code",
   "execution_count": null,
   "metadata": {},
   "outputs": [],
   "source": [
    "Nsamples = 6000 # final number of samples\n",
    "Nburn = 200  # number of tuning samples\n"
   ]
  },
  {
   "cell_type": "code",
   "execution_count": null,
   "metadata": {},
   "outputs": [],
   "source": [
    "x=np.linspace(1,10,10)\n",
    "data=1+x*2\n",
    "cov=np.eye(10)\n",
    "cov_inv=np.linalg.inv(cov)"
   ]
  },
  {
   "cell_type": "code",
   "execution_count": null,
   "metadata": {},
   "outputs": [],
   "source": [
    "loss=data\n",
    "loss@cov_inv@loss"
   ]
  },
  {
   "cell_type": "raw",
   "metadata": {},
   "source": [
    "data@cov_inv@data"
   ]
  },
  {
   "cell_type": "code",
   "execution_count": null,
   "metadata": {},
   "outputs": [],
   "source": [
    "#https://rlhick.people.wm.edu/posts/custom-likes-tensorflow.html\n",
    "#http://mattpitkin.github.io/samplers-demo/pages/tensorflow-probability/\n",
    "\n",
    "# https://rlhick.people.wm.edu/posts/faster-tensorflow.html\n",
    "\n",
    "#https://www.tensorflow.org/probability/examples/TensorFlow_Probability_on_JAX"
   ]
  },
  {
   "cell_type": "code",
   "execution_count": null,
   "metadata": {},
   "outputs": [],
   "source": []
  },
  {
   "cell_type": "raw",
   "metadata": {},
   "source": [
    "tf.enable_eager_execution()"
   ]
  },
  {
   "cell_type": "code",
   "execution_count": null,
   "metadata": {},
   "outputs": [],
   "source": [
    "from jax import random\n",
    "key = random.PRNGKey(0)"
   ]
  },
  {
   "cell_type": "code",
   "execution_count": null,
   "metadata": {},
   "outputs": [],
   "source": [
    "random.uniform(minval=0, maxval=1,key=key)"
   ]
  },
  {
   "cell_type": "code",
   "execution_count": null,
   "metadata": {
    "scrolled": false
   },
   "outputs": [],
   "source": [
    "@jit\n",
    "def do_sampling():\n",
    "    # set initial state (random draw from prior)\n",
    "    qc=random.uniform(minval=0, maxval=1,key=key)\n",
    "    qm=random.normal(key=key)\n",
    "    print('do sampling',qc,qm)\n",
    "#     qc = tf.random.uniform([], minval=0, maxval=1, name=\"init_c\")\n",
    "#     qm = tf.random.normal([], stddev=1, mean=1, name=\"init_m\")\n",
    "\n",
    "#     hmc_kernel = tfp.mcmc.NoUTurnSampler( #https://www.tensorflow.org/probability/api_docs/python/tfp/mcmc/NoUTurnSampler\n",
    "    hmc_kernel = tfp.mcmc.HamiltonianMonteCarlo(\n",
    "        target_log_prob_fn=target_log_prob_fn,\n",
    "        step_size=0.01,num_leapfrog_steps=3\n",
    "    )\n",
    "\n",
    "    return tfp.mcmc.sample_chain(\n",
    "        num_results=Nsamples,\n",
    "        current_state=[qm, qc],\n",
    "        kernel=hmc_kernel,\n",
    "        num_burnin_steps=Nburn,\n",
    "        parallel_iterations=100,seed=key\n",
    "    )\n",
    "\n",
    "states, kernel_results = do_sampling()\n",
    "# extract the samples\n",
    "cs, ms = states\n",
    "\n",
    "# convert output states to numpy arrays\n",
    "postsamples = np.vstack((ms, cs)).T\n"
   ]
  },
  {
   "cell_type": "code",
   "execution_count": null,
   "metadata": {},
   "outputs": [],
   "source": [
    "f=corner.corner(postsamples, labels=[r\"$m$\", r\"$c$\"],figsize=(20,20),whspace=0.01) #truths=[m, c])\n",
    "f.subplots_adjust(hspace=0, wspace=0)"
   ]
  },
  {
   "cell_type": "code",
   "execution_count": null,
   "metadata": {},
   "outputs": [],
   "source": []
  },
  {
   "cell_type": "code",
   "execution_count": null,
   "metadata": {},
   "outputs": [],
   "source": []
  },
  {
   "cell_type": "code",
   "execution_count": null,
   "metadata": {},
   "outputs": [],
   "source": []
  }
 ],
 "metadata": {
  "kernelspec": {
   "display_name": "conda",
   "language": "python",
   "name": "conda"
  },
  "language_info": {
   "codemirror_mode": {
    "name": "ipython",
    "version": 3
   },
   "file_extension": ".py",
   "mimetype": "text/x-python",
   "name": "python",
   "nbconvert_exporter": "python",
   "pygments_lexer": "ipython3",
   "version": "3.8.5"
  }
 },
 "nbformat": 4,
 "nbformat_minor": 4
}
